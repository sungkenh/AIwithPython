{
 "cells": [
  {
   "cell_type": "markdown",
   "id": "9707e0fe",
   "metadata": {},
   "source": [
    "# 퍼셉트론\n",
    "## 1. 퍼셉트론(Perceptron)\n",
    "* 퍼셉트론(Perceptron)은 프랑크 로젠블라트(Frank Rosenblatt)가 1957년에 제안한 초기 형태의 인공 신경망으로 다수의 입력으로부터 하나의 결과를 내보내는 알고리즘임 \n",
    "* 퍼셉트론은 실제 뇌를 구성하는 신경 세포 뉴런의 동작과 유사한데, 신경 세포 뉴런의 그림을 먼저 보자.\n",
    "* 뉴런은 가지돌기에서 신호를 받아들이고, 이 신호가 일정치 이상의 크기를 가지면 축삭돌기를 통해서 신호를 전달함\n",
    "\n",
    "![img](https://wikidocs.net/images/page/24958/%EB%89%B4%EB%9F%B0.PNG)\n",
    "\n",
    "* 다수의 입력을 받는 퍼셉트론의 그림을 보겠습니다. 신경 세포 뉴런의 입력 신호와 출력 신호가 퍼셉트론에서 각각 입력값과 출력값에 해당함\n",
    "\n",
    "![img](https://wikidocs.net/images/page/24958/perceptrin1_final.PNG)\n",
    "\n",
    "* $x$는 입력값을 의미하며, $W$는 가중치(Weight), $y$는 출력값, 그림 안의 원은 인공 뉴런\n",
    "* 실제 신경 세포 뉴런에서의 신호를 전달하는 축삭돌기의 역할을 퍼셉트론에서는 가중치가 대신\n",
    "* 각각의 인공 뉴런에서 보내진 입력값 $x$는 각각의 가중치 $W$와 함께 종착지인 인공 뉴런에 전달\n",
    "* 각각의 입력값에는 각각의 가중치가 존재하는데, 이때 가중치의 값이 크면 클수록 해당 입력 값이 중요하다는 것을 의미\n",
    "* 각 입력값이 가중치와 곱해져서 인공 뉴런에 보내지고, 각 입력값과 그에 해당되는 가중치의 곱의 전체 합이 임계치(threshold)를 넘으면 종착지에 있는 인공 뉴런은 출력 신호로서 1을 출력하고, 그렇지 않을 경우에는 0을 출력\n",
    "![img](https://wikidocs.net/images/page/24987/step_function.PNG)"
   ]
  },
  {
   "cell_type": "markdown",
   "id": "1fd671fe",
   "metadata": {},
   "source": [
    "![img](https://wikidocs.net/images/page/24958/perceptron2_final.PNG)\n",
    "$$ if \\sum_i^{n} W_{i}x_{i} + b ≥ 0 → y=1 $$\n",
    "$$ if \\sum_i^{n} W_{i}x_{i} + b < 0 → y=0 $$\n",
    "* 뉴런에서 출력값을 변경시키는 함수를 활성화 함수(Activation Function)라고 함\n",
    "* 초기 인공 신경망 모델인 퍼셉트론은 활성화 함수로 계단 함수를 사용하였지만, 그 뒤에 등장한 여러가지 발전된 신경망들은 계단 함수 외에도 여러 다양한 활성화 함수를 사용함(ex. 시그모이드, 소프트맥스)\n",
    "* 퍼셉트론을 배우기 전에 로지스틱 회귀를 먼저 배운 이유가 있음\n",
    "* 퍼셉트론의 활성화 함수는 계단 함수이지만 여기서 활성화 함수를 시그모이드 함수로 변경하면 방금 배운 퍼셉트론은 곧 이진 분류를 수행하는 로지스틱 회귀와 동일함"
   ]
  },
  {
   "cell_type": "markdown",
   "id": "b0ad2c5a",
   "metadata": {},
   "source": [
    "# 단층 퍼셉트론(Single-Layer Perceptron)\n",
    "* 위에서 배운 퍼셉트론을 단층 퍼셉트론이라고 함\n",
    "* 퍼셉트론은 단층 퍼셉트론과 다층 퍼셉트론으로 나누어지는데, 단층 퍼셉트론은 값을 보내는 단계과 값을 받아서 출력하는 두 단계로만 이루어짐\n",
    "* 이때 이 각 단계를 보통 층(layer)라고 부르며, 이 두 개의 층을 입력층(input layer)과 출력층(output layer)이라고 함\n",
    "![img](https://wikidocs.net/images/page/24958/perceptron3_final.PNG)\n",
    "* 단층 퍼셉트론의 한계를 개선하기 위해 향후에 나온 다층 퍼셉트론을 배우게 되면 단층과 다층 이 두 퍼셉트론이 어떤 차이를 가지는지 쉽게 이해할 수 있음\n",
    "* 단층 퍼셉트론을 이용하면 AND, NAND, OR 게이트를 쉽게 구현할 수 있음\n",
    "* 게이트 연산에 쓰이는 것은 두 개의 입력값과 하나의 출력값임\n",
    "* 예를 들어 AND 게이트의 경우에는 두 개의 입력 값이 모두 1인 경우에만 출력값이 1이 나오는 구조를 갖고 있음\n",
    "![img](https://wikidocs.net/images/page/24958/andgate.PNG)"
   ]
  },
  {
   "cell_type": "code",
   "execution_count": 1,
   "id": "008fd2f9",
   "metadata": {},
   "outputs": [],
   "source": [
    "def AND_gate(x1, x2):\n",
    "    w1=0.5\n",
    "    w2=0.5\n",
    "    b=-0.7\n",
    "    result = x1*w1 + x2*w2 + b\n",
    "    if result <= 0:\n",
    "        return 0\n",
    "    else:\n",
    "        return 1"
   ]
  },
  {
   "cell_type": "code",
   "execution_count": 2,
   "id": "b8ea273c",
   "metadata": {},
   "outputs": [
    {
     "data": {
      "text/plain": [
       "(0, 0, 0, 1)"
      ]
     },
     "execution_count": 2,
     "metadata": {},
     "output_type": "execute_result"
    }
   ],
   "source": [
    "AND_gate(0, 0), AND_gate(0, 1), AND_gate(1, 0), AND_gate(1, 1)"
   ]
  },
  {
   "cell_type": "markdown",
   "id": "c480b58d",
   "metadata": {},
   "source": [
    "* 단층 퍼셉트론으로 구현이 불가능한 게이트가 있는데 바로 XOR 게이트임\n",
    "* XOR 게이트는 입력값 두 개가 서로 다른 값을 갖고 있을때에만 출력값이 1이 되고, 입력값 두 개가 서로 같은 값을 가지면 출력값이 0이 되는 게이트임\n",
    "* 위의 파이썬 코드에 아무리 수많은 가중치와 편향을 넣어봐도 XOR 게이트를 구현하는 것은 불가능함\n",
    "* 그 이유는 단층 퍼셉트론은 직선 하나로 두 영역을 나눌 수 있는 문제에 대해서만 구현이 가능하기 때문임(선형 문제만 해결 가능)\n",
    "* AND 게이트 시각화\n",
    "* 출력값 0을 하얀색 원, 1을 검은색 원으로 표현하였음\n",
    "* AND 게이트를 충족하려면 하얀색 원과 검은색 원을 직선으로 나누게 됩니다. \n",
    "![img](https://wikidocs.net/images/page/24958/andgraphgate.PNG)\n",
    "* XOR 게이트 시각화\n",
    "![img](https://wikidocs.net/images/page/24958/xorgraphandxorgate.PNG)\n",
    "* 하얀색 원과 검은색 원을 직선 하나로 나누는 것은 불가능함\n",
    "* 즉, 단층 퍼셉트론으로는 XOR 게이트를 구현하는 것이 불가능\n",
    "![img](https://wikidocs.net/images/page/24958/xorgate_nonlinearity.PNG)"
   ]
  },
  {
   "cell_type": "markdown",
   "id": "84411e2d",
   "metadata": {},
   "source": [
    "# 다층 퍼셉트론(MultiLayer Perceptron, MLP)\n",
    "* XOR 게이트는 기존의 AND, NAND, OR 게이트를 조합하면 만들 수 있습니다. 퍼셉트론 관점에서 말하면, 층을 더 쌓으면 만들 수 있음\n",
    "* 다층 퍼셉트론과 단층 퍼셉트론의 차이는 단층 퍼셉트론은 입력층과 출력층만 존재하지만, 다층 퍼셉트론은 중간에 층을 더 추가하였다는 점\n",
    "* 이렇게 입력층과 출력층 사이에 존재하는 층을 __은닉층(hidden layer)__이라고 함\n",
    "* 다층 퍼셉트론은 중간에 은닉층이 존재한다는 점이 단층 퍼셉트론과 다름\n",
    "* 다층 퍼셉트론은 줄여서 MLP라고도 부름\n",
    "![img](https://wikidocs.net/images/page/24958/%EC%9E%85%EC%9D%80%EC%B8%B5.PNG)"
   ]
  },
  {
   "cell_type": "markdown",
   "id": "cbc0d190",
   "metadata": {},
   "source": [
    "* 기계가 가중치를 스스로 찾아내도록 자동화시켜야하는데, 이것이 머신 러닝에서 말하는 __학습(training) 단계__에 해당됨\n",
    "* 앞서 선형 회귀와 로지스틱 회귀에서 보았듯이 __손실 함수(Loss function)와 옵티마이저(Optimizer)__를 사용\n",
    "* 만약 학습을 시키는 인공 신경망이 심층 신경망일 경우에는 이를 심층 신경망을 학습시킨다고 하여, __딥 러닝(Deep Learning)__이라고 함"
   ]
  },
  {
   "cell_type": "markdown",
   "id": "5bebb740",
   "metadata": {},
   "source": [
    "# 파이토치로 단층 퍼셉트론 구현(XOR)"
   ]
  },
  {
   "cell_type": "code",
   "execution_count": 9,
   "id": "688c9a20",
   "metadata": {},
   "outputs": [],
   "source": [
    "import torch\n",
    "from torch import nn\n",
    "device = 'cuda' if torch.cuda.is_available() else 'cpu'\n",
    "torch.manual_seed(777)\n",
    "if device == 'cuda':\n",
    "    torch.cuda.manual_seed_all(777)"
   ]
  },
  {
   "cell_type": "code",
   "execution_count": 10,
   "id": "9942c7ee",
   "metadata": {},
   "outputs": [],
   "source": [
    "X = torch.FloatTensor([[0, 0], [0, 1], [1, 0], [1, 1]]).to(device)\n",
    "Y = torch.FloatTensor([[0], [1], [1], [0]]).to(device)"
   ]
  },
  {
   "cell_type": "code",
   "execution_count": 11,
   "id": "3092552d",
   "metadata": {},
   "outputs": [],
   "source": [
    "linear = nn.Linear(2, 1, bias=True)\n",
    "sigmoid = nn.Sigmoid()\n",
    "model = nn.Sequential(linear, sigmoid).to(device)"
   ]
  },
  {
   "cell_type": "code",
   "execution_count": 12,
   "id": "61b79f5c",
   "metadata": {},
   "outputs": [],
   "source": [
    "# 비용 함수와 옵티마이저 정의\n",
    "criterion = torch.nn.BCELoss().to(device)\n",
    "optimizer = torch.optim.SGD(model.parameters(), lr=1)"
   ]
  },
  {
   "cell_type": "code",
   "execution_count": 13,
   "id": "5f586009",
   "metadata": {},
   "outputs": [
    {
     "name": "stdout",
     "output_type": "stream",
     "text": [
      "0 0.7273974418640137\n",
      "100 0.6931476593017578\n",
      "200 0.6931471824645996\n",
      "300 0.6931471824645996\n",
      "400 0.6931471824645996\n",
      "500 0.6931471824645996\n",
      "600 0.6931471824645996\n",
      "700 0.6931471824645996\n",
      "800 0.6931471824645996\n",
      "900 0.6931471824645996\n",
      "1000 0.6931471824645996\n",
      "1100 0.6931471824645996\n",
      "1200 0.6931471824645996\n",
      "1300 0.6931471824645996\n",
      "1400 0.6931471824645996\n",
      "1500 0.6931471824645996\n",
      "1600 0.6931471824645996\n",
      "1700 0.6931471824645996\n",
      "1800 0.6931471824645996\n",
      "1900 0.6931471824645996\n",
      "2000 0.6931471824645996\n",
      "2100 0.6931471824645996\n",
      "2200 0.6931471824645996\n",
      "2300 0.6931471824645996\n",
      "2400 0.6931471824645996\n",
      "2500 0.6931471824645996\n",
      "2600 0.6931471824645996\n",
      "2700 0.6931471824645996\n",
      "2800 0.6931471824645996\n",
      "2900 0.6931471824645996\n",
      "3000 0.6931471824645996\n",
      "3100 0.6931471824645996\n",
      "3200 0.6931471824645996\n",
      "3300 0.6931471824645996\n",
      "3400 0.6931471824645996\n",
      "3500 0.6931471824645996\n",
      "3600 0.6931471824645996\n",
      "3700 0.6931471824645996\n",
      "3800 0.6931471824645996\n",
      "3900 0.6931471824645996\n",
      "4000 0.6931471824645996\n",
      "4100 0.6931471824645996\n",
      "4200 0.6931471824645996\n",
      "4300 0.6931471824645996\n",
      "4400 0.6931471824645996\n",
      "4500 0.6931471824645996\n",
      "4600 0.6931471824645996\n",
      "4700 0.6931471824645996\n",
      "4800 0.6931471824645996\n",
      "4900 0.6931471824645996\n",
      "5000 0.6931471824645996\n",
      "5100 0.6931471824645996\n",
      "5200 0.6931471824645996\n",
      "5300 0.6931471824645996\n",
      "5400 0.6931471824645996\n",
      "5500 0.6931471824645996\n",
      "5600 0.6931471824645996\n",
      "5700 0.6931471824645996\n",
      "5800 0.6931471824645996\n",
      "5900 0.6931471824645996\n",
      "6000 0.6931471824645996\n",
      "6100 0.6931471824645996\n",
      "6200 0.6931471824645996\n",
      "6300 0.6931471824645996\n",
      "6400 0.6931471824645996\n",
      "6500 0.6931471824645996\n",
      "6600 0.6931471824645996\n",
      "6700 0.6931471824645996\n",
      "6800 0.6931471824645996\n",
      "6900 0.6931471824645996\n",
      "7000 0.6931471824645996\n",
      "7100 0.6931471824645996\n",
      "7200 0.6931471824645996\n",
      "7300 0.6931471824645996\n",
      "7400 0.6931471824645996\n",
      "7500 0.6931471824645996\n",
      "7600 0.6931471824645996\n",
      "7700 0.6931471824645996\n",
      "7800 0.6931471824645996\n",
      "7900 0.6931471824645996\n",
      "8000 0.6931471824645996\n",
      "8100 0.6931471824645996\n",
      "8200 0.6931471824645996\n",
      "8300 0.6931471824645996\n",
      "8400 0.6931471824645996\n",
      "8500 0.6931471824645996\n",
      "8600 0.6931471824645996\n",
      "8700 0.6931471824645996\n",
      "8800 0.6931471824645996\n",
      "8900 0.6931471824645996\n",
      "9000 0.6931471824645996\n",
      "9100 0.6931471824645996\n",
      "9200 0.6931471824645996\n",
      "9300 0.6931471824645996\n",
      "9400 0.6931471824645996\n",
      "9500 0.6931471824645996\n",
      "9600 0.6931471824645996\n",
      "9700 0.6931471824645996\n",
      "9800 0.6931471824645996\n",
      "9900 0.6931471824645996\n",
      "10000 0.6931471824645996\n"
     ]
    }
   ],
   "source": [
    "#10,001번의 에포크 수행. 0번 에포크부터 10,000번 에포크까지.\n",
    "for step in range(10001): \n",
    "    optimizer.zero_grad()\n",
    "    hypothesis = model(X)\n",
    "\n",
    "    # 비용 함수\n",
    "    cost = criterion(hypothesis, Y)\n",
    "    cost.backward()\n",
    "    optimizer.step()\n",
    "\n",
    "    if step % 100 == 0: # 100번째 에포크마다 비용 출력\n",
    "        print(step, cost.item())"
   ]
  },
  {
   "cell_type": "code",
   "execution_count": 14,
   "id": "6d8204ec",
   "metadata": {},
   "outputs": [
    {
     "name": "stdout",
     "output_type": "stream",
     "text": [
      "모델의 출력값(Hypothesis):  [[0.5]\n",
      " [0.5]\n",
      " [0.5]\n",
      " [0.5]]\n",
      "모델의 예측값(Predicted):  [[0.]\n",
      " [0.]\n",
      " [0.]\n",
      " [0.]]\n",
      "실제값(Y):  [[0.]\n",
      " [1.]\n",
      " [1.]\n",
      " [0.]]\n",
      "정확도(Accuracy):  0.5\n"
     ]
    }
   ],
   "source": [
    "with torch.no_grad():\n",
    "    hypothesis = model(X)\n",
    "    predicted = (hypothesis > 0.5).float()\n",
    "    accuracy = (predicted == Y).float().mean()\n",
    "    print('모델의 출력값(Hypothesis): ', hypothesis.detach().cpu().numpy())\n",
    "    print('모델의 예측값(Predicted): ', predicted.detach().cpu().numpy())\n",
    "    print('실제값(Y): ', Y.cpu().numpy())\n",
    "    print('정확도(Accuracy): ', accuracy.item())"
   ]
  },
  {
   "cell_type": "markdown",
   "id": "0b07f1a2",
   "metadata": {},
   "source": [
    "# 역전파\n",
    "* 인공 신경망이 순전파 과정을 진행하여 예측값과 실제값의 오차를 계산하였을 때 어떻게 역전파 과정에서 경사 하강법을 사용하여 가중치를 업데이트하는지 직접 계산을 통해 이해해보자\n",
    "## 인공신경망 예시\n",
    "* 역전파의 이해를 위해서 여기서 사용할 인공 신경망은 입력층, 은닉층, 출력층 이렇게 3개의 층을 가짐\n",
    "* 해당 인공 신경망은 두 개의 입력과, 두 개의 은닉층 뉴런, 두 개의 출력층 뉴런을 사용함\n",
    "* 은닉층과 출력층의 모든 뉴런은 활성화 함수로 시그모이드 함수를 사용\n",
    "![img](https://wikidocs.net/images/page/37406/nn1_final.PNG)\n",
    "\n",
    "* 은닉층과 출력층의 모든 뉴런에서 변수$z$가 존재하는데 여기서 변수$z$는 이전층의 모든 입력이 각각의 가중치와 곱해진 값들이 모두 더해진 가중합을 의미함\n",
    "* 이 값은 뉴런에서 아직 시그모이드 함수를 거치지 않은 상태임\n",
    "* 우측의 |를 지나서 존재하는 변수$h$또는$o$는 $z$가 시그모이드 함수를 지난 후의 값으로 각 뉴런의 출력값을 의미함\n",
    "* 역전파 예제에서는 인공 신경망에 존재하는 모든 가중치 에 대해서 역전파를 통해 업데이트하는 것을 목표로함"
   ]
  },
  {
   "cell_type": "markdown",
   "id": "9fea7e51",
   "metadata": {},
   "source": [
    "## 순전파(Forward Propagation)\n",
    "![img](https://wikidocs.net/images/page/37406/nn2_final_final.PNG)\n",
    "* 주어진 값이 위의 그림과 같을 때 순전파를 진행해보자.\n",
    "* 파란색 숫자는 입력값을 의미하며, 빨간색 숫자는 각 가중치의 값을 의미\n",
    "* 앞으로 진행하는 계산의 결과값은 소수점 아래 여덟번째 자리까지 반올림하여 표기\n",
    "\n",
    "$$z_{1}=W_{1}x_{1} + W_{2}x_{2}=0.3 \\text{×} 0.1 + 0.25 \\text{×} 0.2= 0.08$$\n",
    "$$z_{2}=W_{3}x_{1} + W_{4}x_{2}=0.4 \\text{×} 0.1 + 0.35 \\text{×} 0.2= 0.11$$\n",
    "\n",
    "$$ h_{1}=sigmoid(z_{1}) = 0.51998934 $$\n",
    "$$ h_{2}=sigmoid(z_{2}) = 0.52747230 $$\n",
    "\n",
    "$$ z_{3}=W_{5}h_{1}+W_{6}h_{2} = 0.45 \\text{×} h_{1} + 0.4 \\text{×} h_{2} = 0.44498412 $$\n",
    "$$ z_{4}=W_{7}h_{1}+W_{8}h_{2} = 0.7 \\text{×} h_{1} + 0.6 \\text{×} h_{2} = 0.68047592 $$\n",
    "\n",
    "$$ o_{1}=sigmoid(z_{3})=0.60944600 $$\n",
    "$$ o_{2}=sigmoid(z_{4})=0.66384491 $$\n",
    "\n",
    "* 오차(Error)를 계산하기 위한 손실 함수(Loss function)로는 평균 제곱 오차 MSE를 사용\n",
    "\n",
    "$$ E_{o1}=\\frac{1}{2}(target_{o1}-output_{o1})^{2}=0.02193381 $$\n",
    "$$ E_{o2}=\\frac{1}{2}(target_{o2}-output_{o2})^{2}=0.00203809 $$\n",
    "\n",
    "$$ E_{total}=E_{o1}+E_{o2}=0.02397190 $$"
   ]
  },
  {
   "cell_type": "markdown",
   "id": "8f7f43ad",
   "metadata": {},
   "source": [
    "## 역전파 1단계\n",
    "* 순전파가 입력층에서 출력층으로 향한다면 역전파는 반대로 출력층에서 입력층 방향으로 계산하면서 가중치를 업데이트 함\n",
    "* 출력층 바로 이전의 은닉층을 N층이라고 하였을 때, 출력층과 N층 사이의 가중치를 업데이트하는 단계를 역전파 1단계, 그리고 N층과 N층의 이전층 사이의 가중치를 업데이트 하는 단계를 역전파 2단계라고 가정해보자\n",
    "\n",
    "![img](https://wikidocs.net/images/page/37406/nn3_final.PNG)\n",
    "* 역전파 1단계에서 업데이트 해야 할 가중치는 $W_{5}, W_{6}, W_{7}, W_{8}$ 4개임\n",
    "* 경사하강법으로 가중치를 업데이트 하기 위해 미분의 연쇄법칙을 적용해야함\n",
    "\n",
    "$$ \\frac{∂E_{total}}{∂W_{5}} = \\frac{∂E_{total}}{∂o_{1}} \\text{×} \\frac{∂o_{1}}{∂z_{3}} \\text{×} \\frac{∂z_{3}}{∂W_{5}} $$\n",
    "\n",
    "$$ E_{total}=\\frac{1}{2}(target_{o1}-output_{o1})^{2} + \\frac{1}{2}(target_{o2}-output_{o2})^{2} $$\n",
    "위의 식을 미분하면 $$ \\frac{∂E_{total}}{∂o_{1}}=2 \\text{×} \\frac{1}{2}(target_{o1}-output_{o1})^{2-1} \\text{×} (-1) + 0 $$\n",
    "$$ \\frac{∂E_{total}}{∂o_{1}}=-(target_{o1}-output_{o1})=-(0.4-0.60944600)=0.20944600 $$\n",
    "이제 두번째 항을 계산$o_1$이라는 값은 시그모이드 함수의 출력값이고, 시그모이드 함수 미분은 f(x) \\text{×} (1-f(x))임\n",
    "\n",
    "$$ \\frac{∂o_{1}}{∂z_{3}}=o_{1}\\text{×}(1-o_{1})=0.60944600(1-0.60944600)=0.23802157 $$\n",
    "\n",
    "세번째 항은 $h_1$의 값과 동일함\n",
    "$$ \\frac{∂z_{3}}{∂W_{5}}=h_{1}=0.51998934 $$\n",
    "이유는 $W_5$에 대하여 편미분하면 $h_1$만 남음\n",
    "$$ z_{3}=W_{5}h_{1}+W_{6}h_{2} = 0.45 \\text{×} h_{1} + 0.4 \\text{×} h_{2} = 0.44498412 $$\n",
    "\n",
    "이제 우리가 구한 모든 값을 곱해주면,\n",
    "$$ \\frac{∂E_{total}}{∂W_{5}} = 0.20944600 \\text{×} 0.23802157 \\text{×} 0.51998934 = 0.02592286 $$\n",
    " \n",
    "$$ W_{5}^{+}=W_{5}-α\\frac{∂E_{total}}{∂W_{5}}=0.45- 0.5 \\text{×} 0.02592286=0.43703857 $$\n",
    "$$ \\frac{∂E_{total}}{∂W_{6}} = \\frac{∂E_{total}}{∂o_{1}} \\text{×} \\frac{∂o_{1}}{∂z_{3}} \\text{×} \\frac{∂z_{3}}{∂W_{6}} → W_{6}^{+}=0.38685205 $$\n",
    "$$ \\frac{∂E_{total}}{∂W_{7}} = \\frac{∂E_{total}}{∂o_{2}} \\text{×} \\frac{∂o_{2}}{∂z_{4}} \\text{×} \\frac{∂z_{4}}{∂W_{7}} → W_{7}^{+}=0.69629578 $$\n",
    "$$ \\frac{∂E_{total}}{∂W_{8}} = \\frac{∂E_{total}}{∂o_{2}} \\text{×} \\frac{∂o_{2}}{∂z_{4}} \\text{×} \\frac{∂z_{4}}{∂W_{8}} → W_{8}^{+}=0.59624247 $$"
   ]
  },
  {
   "cell_type": "markdown",
   "id": "c4078c3c",
   "metadata": {},
   "source": [
    "# 역전파 2단계\n",
    "![img](https://wikidocs.net/images/page/37406/nn4.PNG)\n",
    "* 이번 단계에서 계산할 가중치는 $W_{1}, W_{2}, W_{3}, W_{4}$임\n",
    "$$\\frac{∂E_{total}}{∂W_{1}} = \\frac{∂E_{total}}{∂h_{1}} \\text{×} \\frac{∂h_{1}}{∂z_{1}} \\text{×} \\frac{∂z_{1}}{∂W_{1}}$$\n",
    "다시 풀어쓰면,\n",
    "$$\\frac{∂E_{total}}{∂h_{1}} = \\frac{∂E_{o1}}{∂h_{1}} + \\frac{∂E_{o2}}{∂h_{1}}$$\n",
    "우변의 각 항을 구해보면, \n",
    "$$\\frac{∂E_{o1}}{∂h_{1}} = \\frac{∂E_{o1}}{∂z_{3}} \\text{×} \\frac{{∂z_{3}}}{∂h_{1}} = \\frac{∂E_{o1}}{∂o_{1}} \\text{×} \\frac{∂o_{1}}{∂z_{3}} \\text{×} \\frac{{∂z_{3}}}{∂h_{1}} $$\n",
    "$$= -(target_{o1}-output_{o1}) \\text{×} o_{1}\\text{×}(1-o_{1}) \\text{×} W_{5}$$\n",
    "$$= 0.20944600 \\text{×} 0.23802157 \\text{×} 0.45 = 0.02243370$$\n",
    "\n",
    "같은원리로,\n",
    "$$\\frac{∂E_{o2}}{∂h_{1}} = \\frac{∂E_{o2}}{∂z_{4}} \\text{×} \\frac{{∂z_{4}}}{∂h_{1}} = \\frac{∂E_{o2}}{∂o_{2}} \\text{×} \\frac{∂o_{2}}{∂z_{4}} \\text{×} \\frac{{∂z_{4}}}{∂h_{1}} = 0.00997311$$\n",
    "$$\\frac{∂E_{total}}{∂h_{1}} = 0.02243370 + 0.00997311 = 0.03240681$$\n",
    "$$\\frac{∂h_{1}}{∂z_{1}} = h_{1}\\text{×}(1-h_{1}) = 0.51998934(1-0.51998934)=0.24960043$$\n",
    "$$\\frac{∂E_{total}}{∂W_{1}} = 0.03240681 \\text{×} 0.24960043 \\text{×} 0.1 = 0.00080888$$\n",
    "경사하강법으로 가중치 업데이트\n",
    "$$W_{1}^{+}=W_{1}-α\\frac{∂E_{total}}{∂W_{1}}=0.1- 0.5 \\text{×} 0.00080888=0.29959556$$\n",
    "나머지 계산\n",
    "$$\\frac{∂E_{total}}{∂W_{2}} = \\frac{∂E_{total}}{∂h_{1}} \\text{×} \\frac{∂h_{1}}{∂z_{1}} \\text{×} \\frac{∂z_{1}}{∂W_{2}}  → W_{2}^{+}=0.24919112$$\n",
    "$$\\frac{∂E_{total}}{∂W_{3}} = \\frac{∂E_{total}}{∂h_{2}} \\text{×} \\frac{∂h_{2}}{∂z_{2}} \\text{×} \\frac{∂z_{2}}{∂W_{3}}  → W_{3}^{+}=0.39964496$$\n",
    "$$\\frac{∂E_{total}}{∂W_{4}} = \\frac{∂E_{total}}{∂h_{2}} \\text{×} \\frac{∂h_{2}}{∂z_{2}} \\text{×} \\frac{∂z_{2}}{∂W_{4}} → W_{4}^{+}=0.34928991$$"
   ]
  },
  {
   "cell_type": "markdown",
   "id": "da7d96ca",
   "metadata": {},
   "source": [
    "## 결과\n",
    "![img](https://wikidocs.net/images/page/37406/nn1_final.PNG)\n",
    "\n",
    "$$z_{1}=W_{1}x_{1} + W_{2}x_{2}=0.29959556 \\text{×} 0.1 + 0.24919112 \\text{×} 0.2= 0.07979778$$\n",
    "$$z_{2}=W_{3}x_{1} + W_{4}x_{2}=0.39964496 \\text{×} 0.1 + 0.34928991 \\text{×} 0.2= 0.10982248$$\n",
    "$$h_{1}=sigmoid(z_{1}) = 0.51993887$$\n",
    "$$h_{2}=sigmoid(z_{2}) = 0.52742806$$\n",
    "$$z_{3}=W_{5}h_{1}+W_{6}h_{2} = 0.43703857 \\text{×} h_{1} + 0.38685205 \\text{×} h_{2} = 0.43126996$$\n",
    "$$z_{4}=W_{7}h_{1}+W_{8}h_{2} = 0.69629578 \\text{×} h_{1} + 0.59624247 \\text{×} h_{2} = 0.67650625$$\n",
    "$$o_{1}=sigmoid(z_{3})=0.60617688$$\n",
    "$$o_{2}=sigmoid(z_{4})=0.66295848$$\n",
    "$$E_{o1}=\\frac{1}{2}(target_{o1}-output_{o1})^{2}=0.02125445$$\n",
    "$$E_{o2}=\\frac{1}{2}(target_{o2}-output_{o2})^{2}=0.00198189$$\n",
    "$$E_{total}=E_{o1}+E_{o2}=0.02323634$$\n",
    "* 기존의 전체 오차가 0.02397190였으므로 1번의 역전파로 오차가 감소한 것을 확인\n",
    "* 인공신경망의 학습은 오차를 최소화하는 가중치를 찾는 목적으로 순전파와 역전파를 반복함"
   ]
  },
  {
   "cell_type": "markdown",
   "id": "e85f3e1c",
   "metadata": {},
   "source": [
    "# XOR- 다층 퍼셉트론 구현"
   ]
  },
  {
   "cell_type": "code",
   "execution_count": 15,
   "id": "8ddede8f",
   "metadata": {},
   "outputs": [],
   "source": [
    "import torch\n",
    "import torch.nn as nn"
   ]
  },
  {
   "cell_type": "code",
   "execution_count": 16,
   "id": "62c5b23a",
   "metadata": {},
   "outputs": [],
   "source": [
    "device = 'cuda' if torch.cuda.is_available() else 'cpu'\n",
    "\n",
    "# for reproducibility\n",
    "torch.manual_seed(777)\n",
    "if device == 'cuda':\n",
    "    torch.cuda.manual_seed_all(777)"
   ]
  },
  {
   "cell_type": "code",
   "execution_count": 17,
   "id": "3b2157e6",
   "metadata": {},
   "outputs": [],
   "source": [
    "X = torch.FloatTensor([[0, 0], [0, 1], [1, 0], [1, 1]]).to(device)\n",
    "Y = torch.FloatTensor([[0], [1], [1], [0]]).to(device)"
   ]
  },
  {
   "cell_type": "code",
   "execution_count": 18,
   "id": "90380b00",
   "metadata": {},
   "outputs": [],
   "source": [
    "model = nn.Sequential(\n",
    "          nn.Linear(2, 10, bias=True), # input_layer = 2, hidden_layer1 = 10\n",
    "          nn.Sigmoid(),\n",
    "          nn.Linear(10, 10, bias=True), # hidden_layer1 = 10, hidden_layer2 = 10\n",
    "          nn.Sigmoid(),\n",
    "          nn.Linear(10, 10, bias=True), # hidden_layer2 = 10, hidden_layer3 = 10\n",
    "          nn.Sigmoid(),\n",
    "          nn.Linear(10, 1, bias=True), # hidden_layer3 = 10, output_layer = 1\n",
    "          nn.Sigmoid()\n",
    "          ).to(device)"
   ]
  },
  {
   "cell_type": "code",
   "execution_count": 19,
   "id": "596f1672",
   "metadata": {},
   "outputs": [],
   "source": [
    "criterion = torch.nn.BCELoss().to(device)\n",
    "optimizer = torch.optim.SGD(model.parameters(), lr=1)  # modified learning rate from 0.1 to 1"
   ]
  },
  {
   "cell_type": "code",
   "execution_count": 20,
   "id": "10704f7c",
   "metadata": {},
   "outputs": [
    {
     "name": "stdout",
     "output_type": "stream",
     "text": [
      "0 0.6948983669281006\n",
      "100 0.693155825138092\n",
      "200 0.6931535601615906\n",
      "300 0.6931513547897339\n",
      "400 0.6931493282318115\n",
      "500 0.6931473016738892\n",
      "600 0.6931453943252563\n",
      "700 0.6931434869766235\n",
      "800 0.6931416988372803\n",
      "900 0.6931397914886475\n",
      "1000 0.6931379437446594\n",
      "1100 0.6931361556053162\n",
      "1200 0.6931343078613281\n",
      "1300 0.6931324005126953\n",
      "1400 0.6931304931640625\n",
      "1500 0.6931284666061401\n",
      "1600 0.6931264400482178\n",
      "1700 0.6931242942810059\n",
      "1800 0.6931220293045044\n",
      "1900 0.6931197047233582\n",
      "2000 0.6931172013282776\n",
      "2100 0.6931145191192627\n",
      "2200 0.6931115984916687\n",
      "2300 0.6931084990501404\n",
      "2400 0.6931051015853882\n",
      "2500 0.6931014657020569\n",
      "2600 0.6930974721908569\n",
      "2700 0.6930930018424988\n",
      "2800 0.6930879950523376\n",
      "2900 0.6930825114250183\n",
      "3000 0.6930762529373169\n",
      "3100 0.6930692195892334\n",
      "3200 0.6930611729621887\n",
      "3300 0.6930519342422485\n",
      "3400 0.6930411458015442\n",
      "3500 0.6930283904075623\n",
      "3600 0.6930132508277893\n",
      "3700 0.6929951310157776\n",
      "3800 0.6929728984832764\n",
      "3900 0.6929452419281006\n",
      "4000 0.6929103136062622\n",
      "4100 0.6928649544715881\n",
      "4200 0.6928046941757202\n",
      "4300 0.692721962928772\n",
      "4400 0.6926040649414062\n",
      "4500 0.6924278140068054\n",
      "4600 0.6921480298042297\n",
      "4700 0.6916665434837341\n",
      "4800 0.690739631652832\n",
      "4900 0.6886204481124878\n",
      "5000 0.6820822358131409\n",
      "5100 0.6472561359405518\n",
      "5200 0.4511455297470093\n",
      "5300 0.0417914092540741\n",
      "5400 0.00976566132158041\n",
      "5500 0.005042724311351776\n",
      "5600 0.003299684962257743\n",
      "5700 0.0024178465828299522\n",
      "5800 0.0018926756456494331\n",
      "5900 0.0015468898927792907\n",
      "6000 0.0013032691786065698\n",
      "6100 0.0011230817763134837\n",
      "6200 0.0009846779284998775\n",
      "6300 0.0008753472939133644\n",
      "6400 0.0007869074470363557\n",
      "6500 0.0007139394292607903\n",
      "6600 0.0006528611993417144\n",
      "6700 0.0006009416538290679\n",
      "6800 0.0005563456215895712\n",
      "6900 0.0005176705890335143\n",
      "7000 0.0004838125314563513\n",
      "7100 0.00045392123865894973\n",
      "7200 0.0004273701924830675\n",
      "7300 0.0004036074969917536\n",
      "7400 0.0003822603903245181\n",
      "7500 0.0003629559651017189\n",
      "7600 0.0003454257966950536\n",
      "7700 0.00032946106512099504\n",
      "7800 0.0003148381656501442\n",
      "7900 0.00030137813882902265\n",
      "8000 0.00028903622296638787\n",
      "8100 0.0002775738830678165\n",
      "8200 0.0002669761888682842\n",
      "8300 0.00025713874492794275\n",
      "8400 0.0002479125396348536\n",
      "8500 0.00023935710487421602\n",
      "8600 0.00023135324590839446\n",
      "8700 0.00022382638417184353\n",
      "8800 0.00021674673189409077\n",
      "8900 0.0002101142454193905\n",
      "9000 0.0002038097009062767\n",
      "9100 0.00019787781639024615\n",
      "9200 0.00019228874589316547\n",
      "9300 0.00018698288477025926\n",
      "9400 0.00018196026212535799\n",
      "9500 0.00017717608716338873\n",
      "9600 0.00017263043264392763\n",
      "9700 0.0001683083246462047\n",
      "9800 0.00016420979227405041\n",
      "9900 0.00016027523088268936\n",
      "10000 0.00015648972475901246\n"
     ]
    }
   ],
   "source": [
    "for epoch in range(10001):\n",
    "    optimizer.zero_grad()\n",
    "    # forward 연산\n",
    "    hypothesis = model(X)\n",
    "\n",
    "    # 비용 함수\n",
    "    cost = criterion(hypothesis, Y)\n",
    "    cost.backward()\n",
    "    optimizer.step()\n",
    "\n",
    "    # 100의 배수에 해당되는 에포크마다 비용을 출력\n",
    "    if epoch % 100 == 0:\n",
    "        print(epoch, cost.item())"
   ]
  },
  {
   "cell_type": "code",
   "execution_count": 21,
   "id": "61ea05dc",
   "metadata": {},
   "outputs": [
    {
     "name": "stdout",
     "output_type": "stream",
     "text": [
      "모델의 출력값(Hypothesis):  [[1.1168801e-04]\n",
      " [9.9982882e-01]\n",
      " [9.9984229e-01]\n",
      " [1.8529482e-04]]\n",
      "모델의 예측값(Predicted):  [[0.]\n",
      " [1.]\n",
      " [1.]\n",
      " [0.]]\n",
      "실제값(Y):  [[0.]\n",
      " [1.]\n",
      " [1.]\n",
      " [0.]]\n",
      "정확도(Accuracy):  1.0\n"
     ]
    }
   ],
   "source": [
    "with torch.no_grad():\n",
    "    hypothesis = model(X)\n",
    "    predicted = (hypothesis > 0.5).float()\n",
    "    accuracy = (predicted == Y).float().mean()\n",
    "    print('모델의 출력값(Hypothesis): ', hypothesis.detach().cpu().numpy())\n",
    "    print('모델의 예측값(Predicted): ', predicted.detach().cpu().numpy())\n",
    "    print('실제값(Y): ', Y.cpu().numpy())\n",
    "    print('정확도(Accuracy): ', accuracy.item())"
   ]
  },
  {
   "cell_type": "markdown",
   "id": "9bda6fc9",
   "metadata": {},
   "source": [
    "# 활성화 함수(Activation function)\n",
    "* 활성화 함수의 특징은 선형 함수가 아닌 비선형 함수여야 한다는 점\n",
    "* 비선형 함수는 직선 1개로는 그릴 수 없는 함수를 말함\n",
    "* 인공 신경망의 능력을 높이기 위해서는 은닉층을 계속해서 추가해야 함(복잡한 표현 학습)\n",
    "* 만약 활성화 함수로 선형 함수를 사용하게 되면 은닉층을 여러개 쌓는 효과를 줄 수 없음\n",
    "    * 활성화 함수로 선형 함수를 선택하고, 층을 계속 쌓는다고 가정\n",
    "    * 활성화 함수는 라고 $f(x) = Wx$가정\n",
    "    * 여기다가 은닉층을 두 개 추가한다고하면 출력층을 포함해서 $y(x) = f(f(f(x)))$가 됨\n",
    "    * 이를 식으로 표현하면 $W × W × W × x$\n",
    "    * $W$의 세 제곱값을 $k$라고 정의해버리면 $y(x) = kx$와 같이 다시 표현이 가능\n",
    "    * 즉, 선형 함수로는 은닉층을 여러번 추가하더라도 1회 추가한 것과 차이를 줄 수 없음\n",
    "## 시그모이드 함수와 기울기 소실\n",
    "![img](https://wikidocs.net/images/page/60683/simple-neural-network.png)\n",
    "* 위 인공 신경망의 학습 과정은 다음과 같음\n",
    "    * 입력에 대해서 순전파(forward propagation) 연산을 하고, \n",
    "    * 순전파 연산을 통해 나온 예측값과 실제값의 오차를 손실 함수(loss function)을 통해 계산하고,\n",
    "    * 손실(loss)을 미분을 통해서 기울기(gradient)를 구하고\n",
    "    * 이를 통해 역전파(back propagation)를 수행\n",
    "* 시그모이드 함수의 문제점은 미분을 해서 기울기(gradient)를 구할 때 발생함\n"
   ]
  },
  {
   "cell_type": "code",
   "execution_count": 24,
   "id": "95229cd0",
   "metadata": {},
   "outputs": [
    {
     "data": {
      "image/png": "[encoded data removed]",
      "text/plain": [
       "<Figure size 432x288 with 1 Axes>"
      ]
     },
     "metadata": {
      "needs_background": "light"
     },
     "output_type": "display_data"
    }
   ],
   "source": [
    "import numpy as np\n",
    "import matplotlib.pyplot as plt\n",
    "# 시그모이드 함수 그래프를 그리는 코드\n",
    "def sigmoid(x):\n",
    "    return 1/(1+np.exp(-x))\n",
    "x = np.arange(-5.0, 5.0, 0.1)\n",
    "y = sigmoid(x)\n",
    "\n",
    "plt.plot(x, y)\n",
    "plt.plot([0,0],[1.0,0.0], ':') # 가운데 점선 추가\n",
    "plt.title('Sigmoid Function')\n",
    "plt.show()"
   ]
  },
  {
   "cell_type": "markdown",
   "id": "2eef9ad0",
   "metadata": {},
   "source": [
    "* 위 그래프를 시그모이드 함수의 출력값이 0 또는 1에 가까워지면, 그래프의 기울기가 완만해지는 모습을 볼 수 있음\n",
    "* 기울기가 완만해지는 구간을 주황색, 그렇지 않은 구간을 초록색으로 표시해보면,\n",
    "![img](https://wikidocs.net/images/page/60683/%EC%8B%9C%EA%B7%B8%EB%AA%A8%EC%9D%B4%EB%93%9C%ED%95%A8%EC%88%982.PNG)\n",
    "* 주황색 부분은 기울기를 계산하면 0에 가까운 아주 작은 값이 나오게 됨\n",
    "* 그런데 역전파 과정에서 0에 가까운 아주 작은 기울기가 곱해지게 되면, 앞단에는 기울기가 잘 전달되지 않게 됨\n",
    "* 이러한 현상을 기울기 소실(Vanishing Gradient) 문제라고 함\n",
    "\n",
    "* 시그모이드 함수를 사용하는 은닉층의 개수가 다수가 될 경우에는 __0에 가까운 기울기가 계속 곱해지면 앞단에서는 거의 기울기를 전파받을 수 없게 됨__ (매개변수가 업데이트 되지 않음)\n",
    "![img](https://wikidocs.net/images/page/60683/%EA%B8%B0%EC%9A%B8%EA%B8%B0_%EC%86%8C%EC%8B%A4.png)"
   ]
  },
  {
   "cell_type": "markdown",
   "id": "e7670c8f",
   "metadata": {},
   "source": [
    "## 하이퍼볼릭탄젠트 함수(Hyperbolic tangent function)\n",
    "* 하이퍼볼릭탄젠트 함수(tanh)는 입력값을 -1과 1사이의 값으로 변환"
   ]
  },
  {
   "cell_type": "code",
   "execution_count": 25,
   "id": "44158f27",
   "metadata": {},
   "outputs": [
    {
     "data": {
      "image/png": "[encoded data removed]",
      "text/plain": [
       "<Figure size 432x288 with 1 Axes>"
      ]
     },
     "metadata": {
      "needs_background": "light"
     },
     "output_type": "display_data"
    }
   ],
   "source": [
    "x = np.arange(-5.0, 5.0, 0.1) # -5.0부터 5.0까지 0.1 간격 생성\n",
    "y = np.tanh(x)\n",
    "\n",
    "plt.plot(x, y)\n",
    "plt.plot([0,0],[1.0,-1.0], ':')\n",
    "plt.axhline(y=0, color='orange', linestyle='--')\n",
    "plt.title('Tanh Function')\n",
    "plt.show()"
   ]
  },
  {
   "cell_type": "markdown",
   "id": "d7403411",
   "metadata": {},
   "source": [
    "* 하이퍼볼릭탄젠트 함수도 -1과 1에 가까운 출력값을 출력할 때, 시그모이드 함수와 같은 문제가 발생\n",
    "* 그러나 하이퍼볼릭탄젠트 함수의 경우에는 시그모이드 함수와는 달리 0을 중심으로 하고 있는데, 이때문에 시그모이드 함수와 비교하면 반환값의 변화폭이 더 큼\n",
    "* 시그모이드 함수보다는 기울기 소실 증상이 적은 편"
   ]
  },
  {
   "cell_type": "markdown",
   "id": "4cc3528a",
   "metadata": {},
   "source": [
    "## 렐루 함수(ReLU: Rectified Linear Unit)\n",
    "* 인공 신경망에서 가장 최고의 인기를 얻고 있는 함수\n",
    "* 수식은 $f(x) = max(0, x)$로 매우 간단"
   ]
  },
  {
   "cell_type": "code",
   "execution_count": 26,
   "id": "a20c6f94",
   "metadata": {},
   "outputs": [
    {
     "data": {
      "image/png": "[encoded data removed]",
      "text/plain": [
       "<Figure size 432x288 with 1 Axes>"
      ]
     },
     "metadata": {
      "needs_background": "light"
     },
     "output_type": "display_data"
    }
   ],
   "source": [
    "def relu(x):\n",
    "    return np.maximum(0, x)\n",
    "\n",
    "x = np.arange(-5.0, 5.0, 0.1)\n",
    "y = relu(x)\n",
    "\n",
    "plt.plot(x, y)\n",
    "plt.plot([0,0],[5.0,0.0], ':')\n",
    "plt.title('Relu Function')\n",
    "plt.show()"
   ]
  },
  {
   "cell_type": "markdown",
   "id": "5b50fb4f",
   "metadata": {},
   "source": [
    "* ReLU는 음수를 입력하면 0을 출력하고, 양수를 입력하면 입력값을 그대로 반환\n",
    "* ReLU 함수는 특정 양수값에 수렴하지 않으므로 깊은 신경망에서 시그모이드 함수보다 훨씬 더 잘 작동\n",
    "* 게다가, 시그모이드 함수와 하이퍼볼릭탄젠트 함수와 같이 어떤 연산이 필요한 것이 아니라 단순 임계값이므로 연산 속도도 빠름\n",
    "* 하지만 여전히 문제점이 존재하는데, 입력값이 음수면 기울기도 0이 됩니다. 그리고 이 뉴런은 다시 회생하는 것이 매우 어려움 이 문제를 죽은 렐루(dying ReLU)라고 함"
   ]
  },
  {
   "cell_type": "markdown",
   "id": "8623eb6e",
   "metadata": {},
   "source": [
    "## 리키 렐루(Leaky ReLU)\n",
    "* Leaky ReLU는 입력값이 음수일 경우에 0이 아니라 0.001과 같은 매우 작은 수를 반환하도록 되어있음\n",
    "* 수식은 $f(x) = max(ax, x)$로 아주 간단\n",
    "* a는 하이퍼파라미터로 Leaky('새는') 정도를 결정하며 일반적으로는 0.01의 값을 가짐 (a는 입력값이 음수일 때의 기울기)"
   ]
  },
  {
   "cell_type": "code",
   "execution_count": 27,
   "id": "9b8e0d69",
   "metadata": {},
   "outputs": [],
   "source": [
    "a = 0.1"
   ]
  },
  {
   "cell_type": "code",
   "execution_count": 29,
   "id": "b538b819",
   "metadata": {},
   "outputs": [
    {
     "data": {
      "image/png": "[encoded data removed]",
      "text/plain": [
       "<Figure size 432x288 with 1 Axes>"
      ]
     },
     "metadata": {
      "needs_background": "light"
     },
     "output_type": "display_data"
    }
   ],
   "source": [
    "# 입력값이 음수라도 기울기가 0이 되지 않으면 ReLU는 죽지 않음\n",
    "def leaky_relu(x):\n",
    "    return np.maximum(a*x, x)\n",
    "\n",
    "x = np.arange(-5.0, 5.0, 0.1)\n",
    "y = leaky_relu(x)\n",
    "\n",
    "plt.plot(x, y)\n",
    "plt.plot([0,0],[5.0,0.0], ':')\n",
    "plt.title('Leaky ReLU Function')\n",
    "plt.show()"
   ]
  },
  {
   "cell_type": "markdown",
   "id": "cfe50687",
   "metadata": {},
   "source": [
    "## 출력층의 활성화 함수와 오차 함수 표\n",
    "* 각 문제에 따른 출력층의 활성화 함수와 비용 함수의 관계\n",
    "\n",
    "|문제|활성화 함수|\t비용 함수|\n",
    "|----|-----------|----------|\n",
    "|이진 분류|\t시그모이드|\tnn.BCELoss()|\n",
    "|다중 클래스 분류|\t소프트맥스|\tnn.CrossEntropyLoss()|\n",
    "|회귀|\t없음|\tMSE|"
   ]
  }
 ],
 "metadata": {
  "kernelspec": {
   "display_name": "Python 3",
   "language": "python",
   "name": "python3"
  },
  "language_info": {
   "codemirror_mode": {
    "name": "ipython",
    "version": 3
   },
   "file_extension": ".py",
   "mimetype": "text/x-python",
   "name": "python",
   "nbconvert_exporter": "python",
   "pygments_lexer": "ipython3",
   "version": "3.8.8"
  }
 },
 "nbformat": 4,
 "nbformat_minor": 5
}
