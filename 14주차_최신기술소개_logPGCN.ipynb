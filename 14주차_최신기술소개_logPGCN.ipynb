{
  "nbformat": 4,
  "nbformat_minor": 0,
  "metadata": {
    "kernelspec": {
      "display_name": "Python (pytorch)",
      "language": "python",
      "name": "pytorch"
    },
    "language_info": {
      "codemirror_mode": {
        "name": "ipython",
        "version": 3
      },
      "file_extension": ".py",
      "mimetype": "text/x-python",
      "name": "python",
      "nbconvert_exporter": "python",
      "pygments_lexer": "ipython3",
      "version": "3.6.7"
    },
    "colab": {
      "name": "14주차_최신기술소개_logPGCN.ipynb",
      "provenance": [],
      "collapsed_sections": [
        "KB3X4EwfRxKT"
      ],
      "toc_visible": true
    },
    "widgets": {
      "application/vnd.jupyter.widget-state+json": {
        "373b431b08904678a385612d9f08dec6": {
          "model_module": "@jupyter-widgets/controls",
          "model_name": "HBoxModel",
          "model_module_version": "1.5.0",
          "state": {
            "_view_name": "HBoxView",
            "_dom_classes": [],
            "_model_name": "HBoxModel",
            "_view_module": "@jupyter-widgets/controls",
            "_model_module_version": "1.5.0",
            "_view_count": null,
            "_view_module_version": "1.5.0",
            "box_style": "",
            "layout": "IPY_MODEL_cb83e7acf956408f900cd51403e9c682",
            "_model_module": "@jupyter-widgets/controls",
            "children": [
              "IPY_MODEL_33eb2e93f5e14044996c19d23487add3",
              "IPY_MODEL_f1bc4e9a734c4a28b38216901f708b10",
              "IPY_MODEL_602886ccd4fd46399911d1e65b172db6"
            ]
          }
        },
        "cb83e7acf956408f900cd51403e9c682": {
          "model_module": "@jupyter-widgets/base",
          "model_name": "LayoutModel",
          "model_module_version": "1.2.0",
          "state": {
            "_view_name": "LayoutView",
            "grid_template_rows": null,
            "right": null,
            "justify_content": null,
            "_view_module": "@jupyter-widgets/base",
            "overflow": null,
            "_model_module_version": "1.2.0",
            "_view_count": null,
            "flex_flow": null,
            "width": null,
            "min_width": null,
            "border": null,
            "align_items": null,
            "bottom": null,
            "_model_module": "@jupyter-widgets/base",
            "top": null,
            "grid_column": null,
            "overflow_y": null,
            "overflow_x": null,
            "grid_auto_flow": null,
            "grid_area": null,
            "grid_template_columns": null,
            "flex": null,
            "_model_name": "LayoutModel",
            "justify_items": null,
            "grid_row": null,
            "max_height": null,
            "align_content": null,
            "visibility": null,
            "align_self": null,
            "height": null,
            "min_height": null,
            "padding": null,
            "grid_auto_rows": null,
            "grid_gap": null,
            "max_width": null,
            "order": null,
            "_view_module_version": "1.2.0",
            "grid_template_areas": null,
            "object_position": null,
            "object_fit": null,
            "grid_auto_columns": null,
            "margin": null,
            "display": null,
            "left": null
          }
        },
        "33eb2e93f5e14044996c19d23487add3": {
          "model_module": "@jupyter-widgets/controls",
          "model_name": "HTMLModel",
          "model_module_version": "1.5.0",
          "state": {
            "_view_name": "HTMLView",
            "style": "IPY_MODEL_ca5d4df525394c9384668f443a28d64a",
            "_dom_classes": [],
            "description": "",
            "_model_name": "HTMLModel",
            "placeholder": "​",
            "_view_module": "@jupyter-widgets/controls",
            "_model_module_version": "1.5.0",
            "value": "Reading Data: 100%",
            "_view_count": null,
            "_view_module_version": "1.5.0",
            "description_tooltip": null,
            "_model_module": "@jupyter-widgets/controls",
            "layout": "IPY_MODEL_d5569270908746059d8bd96dda8c3b92"
          }
        },
        "f1bc4e9a734c4a28b38216901f708b10": {
          "model_module": "@jupyter-widgets/controls",
          "model_name": "FloatProgressModel",
          "model_module_version": "1.5.0",
          "state": {
            "_view_name": "ProgressView",
            "style": "IPY_MODEL_146596e21ec54b928ffee8aaea73bd89",
            "_dom_classes": [],
            "description": "",
            "_model_name": "FloatProgressModel",
            "bar_style": "success",
            "max": 100,
            "_view_module": "@jupyter-widgets/controls",
            "_model_module_version": "1.5.0",
            "value": 100,
            "_view_count": null,
            "_view_module_version": "1.5.0",
            "orientation": "horizontal",
            "min": 0,
            "description_tooltip": null,
            "_model_module": "@jupyter-widgets/controls",
            "layout": "IPY_MODEL_e3c51e3ef8de4b2b9bd2f0ab4b04f18e"
          }
        },
        "602886ccd4fd46399911d1e65b172db6": {
          "model_module": "@jupyter-widgets/controls",
          "model_name": "HTMLModel",
          "model_module_version": "1.5.0",
          "state": {
            "_view_name": "HTMLView",
            "style": "IPY_MODEL_e8b5bfe3facb4a8cad55c4f03739d900",
            "_dom_classes": [],
            "description": "",
            "_model_name": "HTMLModel",
            "placeholder": "​",
            "_view_module": "@jupyter-widgets/controls",
            "_model_module_version": "1.5.0",
            "value": " 100/100 [00:00&lt;00:00, 829.02it/s]",
            "_view_count": null,
            "_view_module_version": "1.5.0",
            "description_tooltip": null,
            "_model_module": "@jupyter-widgets/controls",
            "layout": "IPY_MODEL_6f7aacca516a42839da20fd3fa0694a5"
          }
        },
        "ca5d4df525394c9384668f443a28d64a": {
          "model_module": "@jupyter-widgets/controls",
          "model_name": "DescriptionStyleModel",
          "model_module_version": "1.5.0",
          "state": {
            "_view_name": "StyleView",
            "_model_name": "DescriptionStyleModel",
            "description_width": "",
            "_view_module": "@jupyter-widgets/base",
            "_model_module_version": "1.5.0",
            "_view_count": null,
            "_view_module_version": "1.2.0",
            "_model_module": "@jupyter-widgets/controls"
          }
        },
        "d5569270908746059d8bd96dda8c3b92": {
          "model_module": "@jupyter-widgets/base",
          "model_name": "LayoutModel",
          "model_module_version": "1.2.0",
          "state": {
            "_view_name": "LayoutView",
            "grid_template_rows": null,
            "right": null,
            "justify_content": null,
            "_view_module": "@jupyter-widgets/base",
            "overflow": null,
            "_model_module_version": "1.2.0",
            "_view_count": null,
            "flex_flow": null,
            "width": null,
            "min_width": null,
            "border": null,
            "align_items": null,
            "bottom": null,
            "_model_module": "@jupyter-widgets/base",
            "top": null,
            "grid_column": null,
            "overflow_y": null,
            "overflow_x": null,
            "grid_auto_flow": null,
            "grid_area": null,
            "grid_template_columns": null,
            "flex": null,
            "_model_name": "LayoutModel",
            "justify_items": null,
            "grid_row": null,
            "max_height": null,
            "align_content": null,
            "visibility": null,
            "align_self": null,
            "height": null,
            "min_height": null,
            "padding": null,
            "grid_auto_rows": null,
            "grid_gap": null,
            "max_width": null,
            "order": null,
            "_view_module_version": "1.2.0",
            "grid_template_areas": null,
            "object_position": null,
            "object_fit": null,
            "grid_auto_columns": null,
            "margin": null,
            "display": null,
            "left": null
          }
        },
        "146596e21ec54b928ffee8aaea73bd89": {
          "model_module": "@jupyter-widgets/controls",
          "model_name": "ProgressStyleModel",
          "model_module_version": "1.5.0",
          "state": {
            "_view_name": "StyleView",
            "_model_name": "ProgressStyleModel",
            "description_width": "",
            "_view_module": "@jupyter-widgets/base",
            "_model_module_version": "1.5.0",
            "_view_count": null,
            "_view_module_version": "1.2.0",
            "bar_color": null,
            "_model_module": "@jupyter-widgets/controls"
          }
        },
        "e3c51e3ef8de4b2b9bd2f0ab4b04f18e": {
          "model_module": "@jupyter-widgets/base",
          "model_name": "LayoutModel",
          "model_module_version": "1.2.0",
          "state": {
            "_view_name": "LayoutView",
            "grid_template_rows": null,
            "right": null,
            "justify_content": null,
            "_view_module": "@jupyter-widgets/base",
            "overflow": null,
            "_model_module_version": "1.2.0",
            "_view_count": null,
            "flex_flow": null,
            "width": null,
            "min_width": null,
            "border": null,
            "align_items": null,
            "bottom": null,
            "_model_module": "@jupyter-widgets/base",
            "top": null,
            "grid_column": null,
            "overflow_y": null,
            "overflow_x": null,
            "grid_auto_flow": null,
            "grid_area": null,
            "grid_template_columns": null,
            "flex": null,
            "_model_name": "LayoutModel",
            "justify_items": null,
            "grid_row": null,
            "max_height": null,
            "align_content": null,
            "visibility": null,
            "align_self": null,
            "height": null,
            "min_height": null,
            "padding": null,
            "grid_auto_rows": null,
            "grid_gap": null,
            "max_width": null,
            "order": null,
            "_view_module_version": "1.2.0",
            "grid_template_areas": null,
            "object_position": null,
            "object_fit": null,
            "grid_auto_columns": null,
            "margin": null,
            "display": null,
            "left": null
          }
        },
        "e8b5bfe3facb4a8cad55c4f03739d900": {
          "model_module": "@jupyter-widgets/controls",
          "model_name": "DescriptionStyleModel",
          "model_module_version": "1.5.0",
          "state": {
            "_view_name": "StyleView",
            "_model_name": "DescriptionStyleModel",
            "description_width": "",
            "_view_module": "@jupyter-widgets/base",
            "_model_module_version": "1.5.0",
            "_view_count": null,
            "_view_module_version": "1.2.0",
            "_model_module": "@jupyter-widgets/controls"
          }
        },
        "6f7aacca516a42839da20fd3fa0694a5": {
          "model_module": "@jupyter-widgets/base",
          "model_name": "LayoutModel",
          "model_module_version": "1.2.0",
          "state": {
            "_view_name": "LayoutView",
            "grid_template_rows": null,
            "right": null,
            "justify_content": null,
            "_view_module": "@jupyter-widgets/base",
            "overflow": null,
            "_model_module_version": "1.2.0",
            "_view_count": null,
            "flex_flow": null,
            "width": null,
            "min_width": null,
            "border": null,
            "align_items": null,
            "bottom": null,
            "_model_module": "@jupyter-widgets/base",
            "top": null,
            "grid_column": null,
            "overflow_y": null,
            "overflow_x": null,
            "grid_auto_flow": null,
            "grid_area": null,
            "grid_template_columns": null,
            "flex": null,
            "_model_name": "LayoutModel",
            "justify_items": null,
            "grid_row": null,
            "max_height": null,
            "align_content": null,
            "visibility": null,
            "align_self": null,
            "height": null,
            "min_height": null,
            "padding": null,
            "grid_auto_rows": null,
            "grid_gap": null,
            "max_width": null,
            "order": null,
            "_view_module_version": "1.2.0",
            "grid_template_areas": null,
            "object_position": null,
            "object_fit": null,
            "grid_auto_columns": null,
            "margin": null,
            "display": null,
            "left": null
          }
        },
        "5fb584a71ace47ce8bfe962187fa8890": {
          "model_module": "@jupyter-widgets/controls",
          "model_name": "HBoxModel",
          "model_module_version": "1.5.0",
          "state": {
            "_view_name": "HBoxView",
            "_dom_classes": [],
            "_model_name": "HBoxModel",
            "_view_module": "@jupyter-widgets/controls",
            "_model_module_version": "1.5.0",
            "_view_count": null,
            "_view_module_version": "1.5.0",
            "box_style": "",
            "layout": "IPY_MODEL_3a66937117594629ad4ae18812f5f2b2",
            "_model_module": "@jupyter-widgets/controls",
            "children": [
              "IPY_MODEL_d317d08acbf2409784bfa75c73bcd39d",
              "IPY_MODEL_d4421eaccd094014be4b8171204637bd",
              "IPY_MODEL_bb069ce2ec2a48c8acabb76fc048a841"
            ]
          }
        },
        "3a66937117594629ad4ae18812f5f2b2": {
          "model_module": "@jupyter-widgets/base",
          "model_name": "LayoutModel",
          "model_module_version": "1.2.0",
          "state": {
            "_view_name": "LayoutView",
            "grid_template_rows": null,
            "right": null,
            "justify_content": null,
            "_view_module": "@jupyter-widgets/base",
            "overflow": null,
            "_model_module_version": "1.2.0",
            "_view_count": null,
            "flex_flow": null,
            "width": null,
            "min_width": null,
            "border": null,
            "align_items": null,
            "bottom": null,
            "_model_module": "@jupyter-widgets/base",
            "top": null,
            "grid_column": null,
            "overflow_y": null,
            "overflow_x": null,
            "grid_auto_flow": null,
            "grid_area": null,
            "grid_template_columns": null,
            "flex": null,
            "_model_name": "LayoutModel",
            "justify_items": null,
            "grid_row": null,
            "max_height": null,
            "align_content": null,
            "visibility": null,
            "align_self": null,
            "height": null,
            "min_height": null,
            "padding": null,
            "grid_auto_rows": null,
            "grid_gap": null,
            "max_width": null,
            "order": null,
            "_view_module_version": "1.2.0",
            "grid_template_areas": null,
            "object_position": null,
            "object_fit": null,
            "grid_auto_columns": null,
            "margin": null,
            "display": null,
            "left": null
          }
        },
        "d317d08acbf2409784bfa75c73bcd39d": {
          "model_module": "@jupyter-widgets/controls",
          "model_name": "HTMLModel",
          "model_module_version": "1.5.0",
          "state": {
            "_view_name": "HTMLView",
            "style": "IPY_MODEL_99a949b95d8d4f1c865bc4ef759a5149",
            "_dom_classes": [],
            "description": "",
            "_model_name": "HTMLModel",
            "placeholder": "​",
            "_view_module": "@jupyter-widgets/controls",
            "_model_module_version": "1.5.0",
            "value": "Converting to Graph: 100%",
            "_view_count": null,
            "_view_module_version": "1.5.0",
            "description_tooltip": null,
            "_model_module": "@jupyter-widgets/controls",
            "layout": "IPY_MODEL_c8a299f3044c4008a493adfe9519e5e0"
          }
        },
        "d4421eaccd094014be4b8171204637bd": {
          "model_module": "@jupyter-widgets/controls",
          "model_name": "FloatProgressModel",
          "model_module_version": "1.5.0",
          "state": {
            "_view_name": "ProgressView",
            "style": "IPY_MODEL_bb8133ffb7ed41dc85e30f38e009164a",
            "_dom_classes": [],
            "description": "",
            "_model_name": "FloatProgressModel",
            "bar_style": "success",
            "max": 100,
            "_view_module": "@jupyter-widgets/controls",
            "_model_module_version": "1.5.0",
            "value": 100,
            "_view_count": null,
            "_view_module_version": "1.5.0",
            "orientation": "horizontal",
            "min": 0,
            "description_tooltip": null,
            "_model_module": "@jupyter-widgets/controls",
            "layout": "IPY_MODEL_506ad614e0614c49b833fdb277b39134"
          }
        },
        "bb069ce2ec2a48c8acabb76fc048a841": {
          "model_module": "@jupyter-widgets/controls",
          "model_name": "HTMLModel",
          "model_module_version": "1.5.0",
          "state": {
            "_view_name": "HTMLView",
            "style": "IPY_MODEL_c022cb8504cc4d17859ea324aae33f57",
            "_dom_classes": [],
            "description": "",
            "_model_name": "HTMLModel",
            "placeholder": "​",
            "_view_module": "@jupyter-widgets/controls",
            "_model_module_version": "1.5.0",
            "value": " 100/100 [00:00&lt;00:00, 418.62it/s]",
            "_view_count": null,
            "_view_module_version": "1.5.0",
            "description_tooltip": null,
            "_model_module": "@jupyter-widgets/controls",
            "layout": "IPY_MODEL_8937e71651974cb7a11701591351668b"
          }
        },
        "99a949b95d8d4f1c865bc4ef759a5149": {
          "model_module": "@jupyter-widgets/controls",
          "model_name": "DescriptionStyleModel",
          "model_module_version": "1.5.0",
          "state": {
            "_view_name": "StyleView",
            "_model_name": "DescriptionStyleModel",
            "description_width": "",
            "_view_module": "@jupyter-widgets/base",
            "_model_module_version": "1.5.0",
            "_view_count": null,
            "_view_module_version": "1.2.0",
            "_model_module": "@jupyter-widgets/controls"
          }
        },
        "c8a299f3044c4008a493adfe9519e5e0": {
          "model_module": "@jupyter-widgets/base",
          "model_name": "LayoutModel",
          "model_module_version": "1.2.0",
          "state": {
            "_view_name": "LayoutView",
            "grid_template_rows": null,
            "right": null,
            "justify_content": null,
            "_view_module": "@jupyter-widgets/base",
            "overflow": null,
            "_model_module_version": "1.2.0",
            "_view_count": null,
            "flex_flow": null,
            "width": null,
            "min_width": null,
            "border": null,
            "align_items": null,
            "bottom": null,
            "_model_module": "@jupyter-widgets/base",
            "top": null,
            "grid_column": null,
            "overflow_y": null,
            "overflow_x": null,
            "grid_auto_flow": null,
            "grid_area": null,
            "grid_template_columns": null,
            "flex": null,
            "_model_name": "LayoutModel",
            "justify_items": null,
            "grid_row": null,
            "max_height": null,
            "align_content": null,
            "visibility": null,
            "align_self": null,
            "height": null,
            "min_height": null,
            "padding": null,
            "grid_auto_rows": null,
            "grid_gap": null,
            "max_width": null,
            "order": null,
            "_view_module_version": "1.2.0",
            "grid_template_areas": null,
            "object_position": null,
            "object_fit": null,
            "grid_auto_columns": null,
            "margin": null,
            "display": null,
            "left": null
          }
        },
        "bb8133ffb7ed41dc85e30f38e009164a": {
          "model_module": "@jupyter-widgets/controls",
          "model_name": "ProgressStyleModel",
          "model_module_version": "1.5.0",
          "state": {
            "_view_name": "StyleView",
            "_model_name": "ProgressStyleModel",
            "description_width": "",
            "_view_module": "@jupyter-widgets/base",
            "_model_module_version": "1.5.0",
            "_view_count": null,
            "_view_module_version": "1.2.0",
            "bar_color": null,
            "_model_module": "@jupyter-widgets/controls"
          }
        },
        "506ad614e0614c49b833fdb277b39134": {
          "model_module": "@jupyter-widgets/base",
          "model_name": "LayoutModel",
          "model_module_version": "1.2.0",
          "state": {
            "_view_name": "LayoutView",
            "grid_template_rows": null,
            "right": null,
            "justify_content": null,
            "_view_module": "@jupyter-widgets/base",
            "overflow": null,
            "_model_module_version": "1.2.0",
            "_view_count": null,
            "flex_flow": null,
            "width": null,
            "min_width": null,
            "border": null,
            "align_items": null,
            "bottom": null,
            "_model_module": "@jupyter-widgets/base",
            "top": null,
            "grid_column": null,
            "overflow_y": null,
            "overflow_x": null,
            "grid_auto_flow": null,
            "grid_area": null,
            "grid_template_columns": null,
            "flex": null,
            "_model_name": "LayoutModel",
            "justify_items": null,
            "grid_row": null,
            "max_height": null,
            "align_content": null,
            "visibility": null,
            "align_self": null,
            "height": null,
            "min_height": null,
            "padding": null,
            "grid_auto_rows": null,
            "grid_gap": null,
            "max_width": null,
            "order": null,
            "_view_module_version": "1.2.0",
            "grid_template_areas": null,
            "object_position": null,
            "object_fit": null,
            "grid_auto_columns": null,
            "margin": null,
            "display": null,
            "left": null
          }
        },
        "c022cb8504cc4d17859ea324aae33f57": {
          "model_module": "@jupyter-widgets/controls",
          "model_name": "DescriptionStyleModel",
          "model_module_version": "1.5.0",
          "state": {
            "_view_name": "StyleView",
            "_model_name": "DescriptionStyleModel",
            "description_width": "",
            "_view_module": "@jupyter-widgets/base",
            "_model_module_version": "1.5.0",
            "_view_count": null,
            "_view_module_version": "1.2.0",
            "_model_module": "@jupyter-widgets/controls"
          }
        },
        "8937e71651974cb7a11701591351668b": {
          "model_module": "@jupyter-widgets/base",
          "model_name": "LayoutModel",
          "model_module_version": "1.2.0",
          "state": {
            "_view_name": "LayoutView",
            "grid_template_rows": null,
            "right": null,
            "justify_content": null,
            "_view_module": "@jupyter-widgets/base",
            "overflow": null,
            "_model_module_version": "1.2.0",
            "_view_count": null,
            "flex_flow": null,
            "width": null,
            "min_width": null,
            "border": null,
            "align_items": null,
            "bottom": null,
            "_model_module": "@jupyter-widgets/base",
            "top": null,
            "grid_column": null,
            "overflow_y": null,
            "overflow_x": null,
            "grid_auto_flow": null,
            "grid_area": null,
            "grid_template_columns": null,
            "flex": null,
            "_model_name": "LayoutModel",
            "justify_items": null,
            "grid_row": null,
            "max_height": null,
            "align_content": null,
            "visibility": null,
            "align_self": null,
            "height": null,
            "min_height": null,
            "padding": null,
            "grid_auto_rows": null,
            "grid_gap": null,
            "max_width": null,
            "order": null,
            "_view_module_version": "1.2.0",
            "grid_template_areas": null,
            "object_position": null,
            "object_fit": null,
            "grid_auto_columns": null,
            "margin": null,
            "display": null,
            "left": null
          }
        },
        "7e34220c643a446b9512145380e7073d": {
          "model_module": "@jupyter-widgets/controls",
          "model_name": "HBoxModel",
          "model_module_version": "1.5.0",
          "state": {
            "_view_name": "HBoxView",
            "_dom_classes": [],
            "_model_name": "HBoxModel",
            "_view_module": "@jupyter-widgets/controls",
            "_model_module_version": "1.5.0",
            "_view_count": null,
            "_view_module_version": "1.5.0",
            "box_style": "",
            "layout": "IPY_MODEL_324269b3d40b490f8acfba9153be3437",
            "_model_module": "@jupyter-widgets/controls",
            "children": [
              "IPY_MODEL_f30e8d26d96f44d9a66443b49ae477be",
              "IPY_MODEL_86e5440d51e3442aa77447f5d30f5847",
              "IPY_MODEL_480419c1003240aebda95e955cb15a19"
            ]
          }
        },
        "324269b3d40b490f8acfba9153be3437": {
          "model_module": "@jupyter-widgets/base",
          "model_name": "LayoutModel",
          "model_module_version": "1.2.0",
          "state": {
            "_view_name": "LayoutView",
            "grid_template_rows": null,
            "right": null,
            "justify_content": null,
            "_view_module": "@jupyter-widgets/base",
            "overflow": null,
            "_model_module_version": "1.2.0",
            "_view_count": null,
            "flex_flow": null,
            "width": null,
            "min_width": null,
            "border": null,
            "align_items": null,
            "bottom": null,
            "_model_module": "@jupyter-widgets/base",
            "top": null,
            "grid_column": null,
            "overflow_y": null,
            "overflow_x": null,
            "grid_auto_flow": null,
            "grid_area": null,
            "grid_template_columns": null,
            "flex": null,
            "_model_name": "LayoutModel",
            "justify_items": null,
            "grid_row": null,
            "max_height": null,
            "align_content": null,
            "visibility": null,
            "align_self": null,
            "height": null,
            "min_height": null,
            "padding": null,
            "grid_auto_rows": null,
            "grid_gap": null,
            "max_width": null,
            "order": null,
            "_view_module_version": "1.2.0",
            "grid_template_areas": null,
            "object_position": null,
            "object_fit": null,
            "grid_auto_columns": null,
            "margin": null,
            "display": null,
            "left": null
          }
        },
        "f30e8d26d96f44d9a66443b49ae477be": {
          "model_module": "@jupyter-widgets/controls",
          "model_name": "HTMLModel",
          "model_module_version": "1.5.0",
          "state": {
            "_view_name": "HTMLView",
            "style": "IPY_MODEL_877f70aff74f4152b7615785f6fc10f9",
            "_dom_classes": [],
            "description": "",
            "_model_name": "HTMLModel",
            "placeholder": "​",
            "_view_module": "@jupyter-widgets/controls",
            "_model_module_version": "1.5.0",
            "value": "100%",
            "_view_count": null,
            "_view_module_version": "1.5.0",
            "description_tooltip": null,
            "_model_module": "@jupyter-widgets/controls",
            "layout": "IPY_MODEL_4bfa46dc5692442eaf1a4e89e1890ad5"
          }
        },
        "86e5440d51e3442aa77447f5d30f5847": {
          "model_module": "@jupyter-widgets/controls",
          "model_name": "FloatProgressModel",
          "model_module_version": "1.5.0",
          "state": {
            "_view_name": "ProgressView",
            "style": "IPY_MODEL_8a9dfb2ff23649daa1a68ae092b03265",
            "_dom_classes": [],
            "description": "",
            "_model_name": "FloatProgressModel",
            "bar_style": "success",
            "max": 32400,
            "_view_module": "@jupyter-widgets/controls",
            "_model_module_version": "1.5.0",
            "value": 32400,
            "_view_count": null,
            "_view_module_version": "1.5.0",
            "orientation": "horizontal",
            "min": 0,
            "description_tooltip": null,
            "_model_module": "@jupyter-widgets/controls",
            "layout": "IPY_MODEL_aa62a397b19a4774bf0b605860740753"
          }
        },
        "480419c1003240aebda95e955cb15a19": {
          "model_module": "@jupyter-widgets/controls",
          "model_name": "HTMLModel",
          "model_module_version": "1.5.0",
          "state": {
            "_view_name": "HTMLView",
            "style": "IPY_MODEL_52ae28257b114967b5f7a2c019e83166",
            "_dom_classes": [],
            "description": "",
            "_model_name": "HTMLModel",
            "placeholder": "​",
            "_view_module": "@jupyter-widgets/controls",
            "_model_module_version": "1.5.0",
            "value": " 32400/32400 [00:21&lt;00:00, 1151.77it/s]",
            "_view_count": null,
            "_view_module_version": "1.5.0",
            "description_tooltip": null,
            "_model_module": "@jupyter-widgets/controls",
            "layout": "IPY_MODEL_20366412e1d343b1b5dfa8ebfe2c26e0"
          }
        },
        "877f70aff74f4152b7615785f6fc10f9": {
          "model_module": "@jupyter-widgets/controls",
          "model_name": "DescriptionStyleModel",
          "model_module_version": "1.5.0",
          "state": {
            "_view_name": "StyleView",
            "_model_name": "DescriptionStyleModel",
            "description_width": "",
            "_view_module": "@jupyter-widgets/base",
            "_model_module_version": "1.5.0",
            "_view_count": null,
            "_view_module_version": "1.2.0",
            "_model_module": "@jupyter-widgets/controls"
          }
        },
        "4bfa46dc5692442eaf1a4e89e1890ad5": {
          "model_module": "@jupyter-widgets/base",
          "model_name": "LayoutModel",
          "model_module_version": "1.2.0",
          "state": {
            "_view_name": "LayoutView",
            "grid_template_rows": null,
            "right": null,
            "justify_content": null,
            "_view_module": "@jupyter-widgets/base",
            "overflow": null,
            "_model_module_version": "1.2.0",
            "_view_count": null,
            "flex_flow": null,
            "width": null,
            "min_width": null,
            "border": null,
            "align_items": null,
            "bottom": null,
            "_model_module": "@jupyter-widgets/base",
            "top": null,
            "grid_column": null,
            "overflow_y": null,
            "overflow_x": null,
            "grid_auto_flow": null,
            "grid_area": null,
            "grid_template_columns": null,
            "flex": null,
            "_model_name": "LayoutModel",
            "justify_items": null,
            "grid_row": null,
            "max_height": null,
            "align_content": null,
            "visibility": null,
            "align_self": null,
            "height": null,
            "min_height": null,
            "padding": null,
            "grid_auto_rows": null,
            "grid_gap": null,
            "max_width": null,
            "order": null,
            "_view_module_version": "1.2.0",
            "grid_template_areas": null,
            "object_position": null,
            "object_fit": null,
            "grid_auto_columns": null,
            "margin": null,
            "display": null,
            "left": null
          }
        },
        "8a9dfb2ff23649daa1a68ae092b03265": {
          "model_module": "@jupyter-widgets/controls",
          "model_name": "ProgressStyleModel",
          "model_module_version": "1.5.0",
          "state": {
            "_view_name": "StyleView",
            "_model_name": "ProgressStyleModel",
            "description_width": "",
            "_view_module": "@jupyter-widgets/base",
            "_model_module_version": "1.5.0",
            "_view_count": null,
            "_view_module_version": "1.2.0",
            "bar_color": null,
            "_model_module": "@jupyter-widgets/controls"
          }
        },
        "aa62a397b19a4774bf0b605860740753": {
          "model_module": "@jupyter-widgets/base",
          "model_name": "LayoutModel",
          "model_module_version": "1.2.0",
          "state": {
            "_view_name": "LayoutView",
            "grid_template_rows": null,
            "right": null,
            "justify_content": null,
            "_view_module": "@jupyter-widgets/base",
            "overflow": null,
            "_model_module_version": "1.2.0",
            "_view_count": null,
            "flex_flow": null,
            "width": null,
            "min_width": null,
            "border": null,
            "align_items": null,
            "bottom": null,
            "_model_module": "@jupyter-widgets/base",
            "top": null,
            "grid_column": null,
            "overflow_y": null,
            "overflow_x": null,
            "grid_auto_flow": null,
            "grid_area": null,
            "grid_template_columns": null,
            "flex": null,
            "_model_name": "LayoutModel",
            "justify_items": null,
            "grid_row": null,
            "max_height": null,
            "align_content": null,
            "visibility": null,
            "align_self": null,
            "height": null,
            "min_height": null,
            "padding": null,
            "grid_auto_rows": null,
            "grid_gap": null,
            "max_width": null,
            "order": null,
            "_view_module_version": "1.2.0",
            "grid_template_areas": null,
            "object_position": null,
            "object_fit": null,
            "grid_auto_columns": null,
            "margin": null,
            "display": null,
            "left": null
          }
        },
        "52ae28257b114967b5f7a2c019e83166": {
          "model_module": "@jupyter-widgets/controls",
          "model_name": "DescriptionStyleModel",
          "model_module_version": "1.5.0",
          "state": {
            "_view_name": "StyleView",
            "_model_name": "DescriptionStyleModel",
            "description_width": "",
            "_view_module": "@jupyter-widgets/base",
            "_model_module_version": "1.5.0",
            "_view_count": null,
            "_view_module_version": "1.2.0",
            "_model_module": "@jupyter-widgets/controls"
          }
        },
        "20366412e1d343b1b5dfa8ebfe2c26e0": {
          "model_module": "@jupyter-widgets/base",
          "model_name": "LayoutModel",
          "model_module_version": "1.2.0",
          "state": {
            "_view_name": "LayoutView",
            "grid_template_rows": null,
            "right": null,
            "justify_content": null,
            "_view_module": "@jupyter-widgets/base",
            "overflow": null,
            "_model_module_version": "1.2.0",
            "_view_count": null,
            "flex_flow": null,
            "width": null,
            "min_width": null,
            "border": null,
            "align_items": null,
            "bottom": null,
            "_model_module": "@jupyter-widgets/base",
            "top": null,
            "grid_column": null,
            "overflow_y": null,
            "overflow_x": null,
            "grid_auto_flow": null,
            "grid_area": null,
            "grid_template_columns": null,
            "flex": null,
            "_model_name": "LayoutModel",
            "justify_items": null,
            "grid_row": null,
            "max_height": null,
            "align_content": null,
            "visibility": null,
            "align_self": null,
            "height": null,
            "min_height": null,
            "padding": null,
            "grid_auto_rows": null,
            "grid_gap": null,
            "max_width": null,
            "order": null,
            "_view_module_version": "1.2.0",
            "grid_template_areas": null,
            "object_position": null,
            "object_fit": null,
            "grid_auto_columns": null,
            "margin": null,
            "display": null,
            "left": null
          }
        },
        "58642dc928314ab08ac241321668ec32": {
          "model_module": "@jupyter-widgets/controls",
          "model_name": "HBoxModel",
          "model_module_version": "1.5.0",
          "state": {
            "_view_name": "HBoxView",
            "_dom_classes": [],
            "_model_name": "HBoxModel",
            "_view_module": "@jupyter-widgets/controls",
            "_model_module_version": "1.5.0",
            "_view_count": null,
            "_view_module_version": "1.5.0",
            "box_style": "",
            "layout": "IPY_MODEL_8c4897cc646c4f3498b7c337dece377a",
            "_model_module": "@jupyter-widgets/controls",
            "children": [
              "IPY_MODEL_e3c5568b16684521b14c7b82fef5ce33",
              "IPY_MODEL_3ba0cfaa1f5d413d94072e3abc135ec0",
              "IPY_MODEL_bd8a249b253a4fa58194a9426c0a1531"
            ]
          }
        },
        "8c4897cc646c4f3498b7c337dece377a": {
          "model_module": "@jupyter-widgets/base",
          "model_name": "LayoutModel",
          "model_module_version": "1.2.0",
          "state": {
            "_view_name": "LayoutView",
            "grid_template_rows": null,
            "right": null,
            "justify_content": null,
            "_view_module": "@jupyter-widgets/base",
            "overflow": null,
            "_model_module_version": "1.2.0",
            "_view_count": null,
            "flex_flow": null,
            "width": null,
            "min_width": null,
            "border": null,
            "align_items": null,
            "bottom": null,
            "_model_module": "@jupyter-widgets/base",
            "top": null,
            "grid_column": null,
            "overflow_y": null,
            "overflow_x": null,
            "grid_auto_flow": null,
            "grid_area": null,
            "grid_template_columns": null,
            "flex": null,
            "_model_name": "LayoutModel",
            "justify_items": null,
            "grid_row": null,
            "max_height": null,
            "align_content": null,
            "visibility": null,
            "align_self": null,
            "height": null,
            "min_height": null,
            "padding": null,
            "grid_auto_rows": null,
            "grid_gap": null,
            "max_width": null,
            "order": null,
            "_view_module_version": "1.2.0",
            "grid_template_areas": null,
            "object_position": null,
            "object_fit": null,
            "grid_auto_columns": null,
            "margin": null,
            "display": null,
            "left": null
          }
        },
        "e3c5568b16684521b14c7b82fef5ce33": {
          "model_module": "@jupyter-widgets/controls",
          "model_name": "HTMLModel",
          "model_module_version": "1.5.0",
          "state": {
            "_view_name": "HTMLView",
            "style": "IPY_MODEL_6d6ff05054fa4510a7438ad1bf55fc6e",
            "_dom_classes": [],
            "description": "",
            "_model_name": "HTMLModel",
            "placeholder": "​",
            "_view_module": "@jupyter-widgets/controls",
            "_model_module_version": "1.5.0",
            "value": "Reading Data: 100%",
            "_view_count": null,
            "_view_module_version": "1.5.0",
            "description_tooltip": null,
            "_model_module": "@jupyter-widgets/controls",
            "layout": "IPY_MODEL_eaf704ba4acc44329fcb61bc479fb3a8"
          }
        },
        "3ba0cfaa1f5d413d94072e3abc135ec0": {
          "model_module": "@jupyter-widgets/controls",
          "model_name": "FloatProgressModel",
          "model_module_version": "1.5.0",
          "state": {
            "_view_name": "ProgressView",
            "style": "IPY_MODEL_8f711a7f916a4dfe91f70532fb980038",
            "_dom_classes": [],
            "description": "",
            "_model_name": "FloatProgressModel",
            "bar_style": "success",
            "max": 5000,
            "_view_module": "@jupyter-widgets/controls",
            "_model_module_version": "1.5.0",
            "value": 5000,
            "_view_count": null,
            "_view_module_version": "1.5.0",
            "orientation": "horizontal",
            "min": 0,
            "description_tooltip": null,
            "_model_module": "@jupyter-widgets/controls",
            "layout": "IPY_MODEL_b68c9a4904134b5abda475c20fe5e1a1"
          }
        },
        "bd8a249b253a4fa58194a9426c0a1531": {
          "model_module": "@jupyter-widgets/controls",
          "model_name": "HTMLModel",
          "model_module_version": "1.5.0",
          "state": {
            "_view_name": "HTMLView",
            "style": "IPY_MODEL_c34e6cafa59e4240a4d3f47ff5608e50",
            "_dom_classes": [],
            "description": "",
            "_model_name": "HTMLModel",
            "placeholder": "​",
            "_view_module": "@jupyter-widgets/controls",
            "_model_module_version": "1.5.0",
            "value": " 5000/5000 [00:01&lt;00:00, 2670.82it/s]",
            "_view_count": null,
            "_view_module_version": "1.5.0",
            "description_tooltip": null,
            "_model_module": "@jupyter-widgets/controls",
            "layout": "IPY_MODEL_ec74cff8a6454fae9c3739f98c8ca3b2"
          }
        },
        "6d6ff05054fa4510a7438ad1bf55fc6e": {
          "model_module": "@jupyter-widgets/controls",
          "model_name": "DescriptionStyleModel",
          "model_module_version": "1.5.0",
          "state": {
            "_view_name": "StyleView",
            "_model_name": "DescriptionStyleModel",
            "description_width": "",
            "_view_module": "@jupyter-widgets/base",
            "_model_module_version": "1.5.0",
            "_view_count": null,
            "_view_module_version": "1.2.0",
            "_model_module": "@jupyter-widgets/controls"
          }
        },
        "eaf704ba4acc44329fcb61bc479fb3a8": {
          "model_module": "@jupyter-widgets/base",
          "model_name": "LayoutModel",
          "model_module_version": "1.2.0",
          "state": {
            "_view_name": "LayoutView",
            "grid_template_rows": null,
            "right": null,
            "justify_content": null,
            "_view_module": "@jupyter-widgets/base",
            "overflow": null,
            "_model_module_version": "1.2.0",
            "_view_count": null,
            "flex_flow": null,
            "width": null,
            "min_width": null,
            "border": null,
            "align_items": null,
            "bottom": null,
            "_model_module": "@jupyter-widgets/base",
            "top": null,
            "grid_column": null,
            "overflow_y": null,
            "overflow_x": null,
            "grid_auto_flow": null,
            "grid_area": null,
            "grid_template_columns": null,
            "flex": null,
            "_model_name": "LayoutModel",
            "justify_items": null,
            "grid_row": null,
            "max_height": null,
            "align_content": null,
            "visibility": null,
            "align_self": null,
            "height": null,
            "min_height": null,
            "padding": null,
            "grid_auto_rows": null,
            "grid_gap": null,
            "max_width": null,
            "order": null,
            "_view_module_version": "1.2.0",
            "grid_template_areas": null,
            "object_position": null,
            "object_fit": null,
            "grid_auto_columns": null,
            "margin": null,
            "display": null,
            "left": null
          }
        },
        "8f711a7f916a4dfe91f70532fb980038": {
          "model_module": "@jupyter-widgets/controls",
          "model_name": "ProgressStyleModel",
          "model_module_version": "1.5.0",
          "state": {
            "_view_name": "StyleView",
            "_model_name": "ProgressStyleModel",
            "description_width": "",
            "_view_module": "@jupyter-widgets/base",
            "_model_module_version": "1.5.0",
            "_view_count": null,
            "_view_module_version": "1.2.0",
            "bar_color": null,
            "_model_module": "@jupyter-widgets/controls"
          }
        },
        "b68c9a4904134b5abda475c20fe5e1a1": {
          "model_module": "@jupyter-widgets/base",
          "model_name": "LayoutModel",
          "model_module_version": "1.2.0",
          "state": {
            "_view_name": "LayoutView",
            "grid_template_rows": null,
            "right": null,
            "justify_content": null,
            "_view_module": "@jupyter-widgets/base",
            "overflow": null,
            "_model_module_version": "1.2.0",
            "_view_count": null,
            "flex_flow": null,
            "width": null,
            "min_width": null,
            "border": null,
            "align_items": null,
            "bottom": null,
            "_model_module": "@jupyter-widgets/base",
            "top": null,
            "grid_column": null,
            "overflow_y": null,
            "overflow_x": null,
            "grid_auto_flow": null,
            "grid_area": null,
            "grid_template_columns": null,
            "flex": null,
            "_model_name": "LayoutModel",
            "justify_items": null,
            "grid_row": null,
            "max_height": null,
            "align_content": null,
            "visibility": null,
            "align_self": null,
            "height": null,
            "min_height": null,
            "padding": null,
            "grid_auto_rows": null,
            "grid_gap": null,
            "max_width": null,
            "order": null,
            "_view_module_version": "1.2.0",
            "grid_template_areas": null,
            "object_position": null,
            "object_fit": null,
            "grid_auto_columns": null,
            "margin": null,
            "display": null,
            "left": null
          }
        },
        "c34e6cafa59e4240a4d3f47ff5608e50": {
          "model_module": "@jupyter-widgets/controls",
          "model_name": "DescriptionStyleModel",
          "model_module_version": "1.5.0",
          "state": {
            "_view_name": "StyleView",
            "_model_name": "DescriptionStyleModel",
            "description_width": "",
            "_view_module": "@jupyter-widgets/base",
            "_model_module_version": "1.5.0",
            "_view_count": null,
            "_view_module_version": "1.2.0",
            "_model_module": "@jupyter-widgets/controls"
          }
        },
        "ec74cff8a6454fae9c3739f98c8ca3b2": {
          "model_module": "@jupyter-widgets/base",
          "model_name": "LayoutModel",
          "model_module_version": "1.2.0",
          "state": {
            "_view_name": "LayoutView",
            "grid_template_rows": null,
            "right": null,
            "justify_content": null,
            "_view_module": "@jupyter-widgets/base",
            "overflow": null,
            "_model_module_version": "1.2.0",
            "_view_count": null,
            "flex_flow": null,
            "width": null,
            "min_width": null,
            "border": null,
            "align_items": null,
            "bottom": null,
            "_model_module": "@jupyter-widgets/base",
            "top": null,
            "grid_column": null,
            "overflow_y": null,
            "overflow_x": null,
            "grid_auto_flow": null,
            "grid_area": null,
            "grid_template_columns": null,
            "flex": null,
            "_model_name": "LayoutModel",
            "justify_items": null,
            "grid_row": null,
            "max_height": null,
            "align_content": null,
            "visibility": null,
            "align_self": null,
            "height": null,
            "min_height": null,
            "padding": null,
            "grid_auto_rows": null,
            "grid_gap": null,
            "max_width": null,
            "order": null,
            "_view_module_version": "1.2.0",
            "grid_template_areas": null,
            "object_position": null,
            "object_fit": null,
            "grid_auto_columns": null,
            "margin": null,
            "display": null,
            "left": null
          }
        },
        "02bb05b366d64a62961427a3916b0815": {
          "model_module": "@jupyter-widgets/controls",
          "model_name": "HBoxModel",
          "model_module_version": "1.5.0",
          "state": {
            "_view_name": "HBoxView",
            "_dom_classes": [],
            "_model_name": "HBoxModel",
            "_view_module": "@jupyter-widgets/controls",
            "_model_module_version": "1.5.0",
            "_view_count": null,
            "_view_module_version": "1.5.0",
            "box_style": "",
            "layout": "IPY_MODEL_e8b86d7dfe644b8fa2e9b2483ee41ade",
            "_model_module": "@jupyter-widgets/controls",
            "children": [
              "IPY_MODEL_09e3fd7bcd464cf192d031d39f721596",
              "IPY_MODEL_3a507bd9d3ae40c192bc14ffe74c9550",
              "IPY_MODEL_5e0e8b2f280d42e794ceab3b4c806481"
            ]
          }
        },
        "e8b86d7dfe644b8fa2e9b2483ee41ade": {
          "model_module": "@jupyter-widgets/base",
          "model_name": "LayoutModel",
          "model_module_version": "1.2.0",
          "state": {
            "_view_name": "LayoutView",
            "grid_template_rows": null,
            "right": null,
            "justify_content": null,
            "_view_module": "@jupyter-widgets/base",
            "overflow": null,
            "_model_module_version": "1.2.0",
            "_view_count": null,
            "flex_flow": null,
            "width": null,
            "min_width": null,
            "border": null,
            "align_items": null,
            "bottom": null,
            "_model_module": "@jupyter-widgets/base",
            "top": null,
            "grid_column": null,
            "overflow_y": null,
            "overflow_x": null,
            "grid_auto_flow": null,
            "grid_area": null,
            "grid_template_columns": null,
            "flex": null,
            "_model_name": "LayoutModel",
            "justify_items": null,
            "grid_row": null,
            "max_height": null,
            "align_content": null,
            "visibility": null,
            "align_self": null,
            "height": null,
            "min_height": null,
            "padding": null,
            "grid_auto_rows": null,
            "grid_gap": null,
            "max_width": null,
            "order": null,
            "_view_module_version": "1.2.0",
            "grid_template_areas": null,
            "object_position": null,
            "object_fit": null,
            "grid_auto_columns": null,
            "margin": null,
            "display": null,
            "left": null
          }
        },
        "09e3fd7bcd464cf192d031d39f721596": {
          "model_module": "@jupyter-widgets/controls",
          "model_name": "HTMLModel",
          "model_module_version": "1.5.0",
          "state": {
            "_view_name": "HTMLView",
            "style": "IPY_MODEL_6f714748d58943e6992347069e7d0f8f",
            "_dom_classes": [],
            "description": "",
            "_model_name": "HTMLModel",
            "placeholder": "​",
            "_view_module": "@jupyter-widgets/controls",
            "_model_module_version": "1.5.0",
            "value": "Converting to Graph: 100%",
            "_view_count": null,
            "_view_module_version": "1.5.0",
            "description_tooltip": null,
            "_model_module": "@jupyter-widgets/controls",
            "layout": "IPY_MODEL_053c430d945c4e689e4c73249dc8f535"
          }
        },
        "3a507bd9d3ae40c192bc14ffe74c9550": {
          "model_module": "@jupyter-widgets/controls",
          "model_name": "FloatProgressModel",
          "model_module_version": "1.5.0",
          "state": {
            "_view_name": "ProgressView",
            "style": "IPY_MODEL_53f4a990999e49d68742e27029176252",
            "_dom_classes": [],
            "description": "",
            "_model_name": "FloatProgressModel",
            "bar_style": "success",
            "max": 5000,
            "_view_module": "@jupyter-widgets/controls",
            "_model_module_version": "1.5.0",
            "value": 5000,
            "_view_count": null,
            "_view_module_version": "1.5.0",
            "orientation": "horizontal",
            "min": 0,
            "description_tooltip": null,
            "_model_module": "@jupyter-widgets/controls",
            "layout": "IPY_MODEL_0e9d64afa18f4e399b793ab70ed716da"
          }
        },
        "5e0e8b2f280d42e794ceab3b4c806481": {
          "model_module": "@jupyter-widgets/controls",
          "model_name": "HTMLModel",
          "model_module_version": "1.5.0",
          "state": {
            "_view_name": "HTMLView",
            "style": "IPY_MODEL_fdabef0fd2fc4c21b7c7a24c831a3e49",
            "_dom_classes": [],
            "description": "",
            "_model_name": "HTMLModel",
            "placeholder": "​",
            "_view_module": "@jupyter-widgets/controls",
            "_model_module_version": "1.5.0",
            "value": " 5000/5000 [00:05&lt;00:00, 1018.63it/s]",
            "_view_count": null,
            "_view_module_version": "1.5.0",
            "description_tooltip": null,
            "_model_module": "@jupyter-widgets/controls",
            "layout": "IPY_MODEL_191f8a90fa254efcb4b957b468da58a3"
          }
        },
        "6f714748d58943e6992347069e7d0f8f": {
          "model_module": "@jupyter-widgets/controls",
          "model_name": "DescriptionStyleModel",
          "model_module_version": "1.5.0",
          "state": {
            "_view_name": "StyleView",
            "_model_name": "DescriptionStyleModel",
            "description_width": "",
            "_view_module": "@jupyter-widgets/base",
            "_model_module_version": "1.5.0",
            "_view_count": null,
            "_view_module_version": "1.2.0",
            "_model_module": "@jupyter-widgets/controls"
          }
        },
        "053c430d945c4e689e4c73249dc8f535": {
          "model_module": "@jupyter-widgets/base",
          "model_name": "LayoutModel",
          "model_module_version": "1.2.0",
          "state": {
            "_view_name": "LayoutView",
            "grid_template_rows": null,
            "right": null,
            "justify_content": null,
            "_view_module": "@jupyter-widgets/base",
            "overflow": null,
            "_model_module_version": "1.2.0",
            "_view_count": null,
            "flex_flow": null,
            "width": null,
            "min_width": null,
            "border": null,
            "align_items": null,
            "bottom": null,
            "_model_module": "@jupyter-widgets/base",
            "top": null,
            "grid_column": null,
            "overflow_y": null,
            "overflow_x": null,
            "grid_auto_flow": null,
            "grid_area": null,
            "grid_template_columns": null,
            "flex": null,
            "_model_name": "LayoutModel",
            "justify_items": null,
            "grid_row": null,
            "max_height": null,
            "align_content": null,
            "visibility": null,
            "align_self": null,
            "height": null,
            "min_height": null,
            "padding": null,
            "grid_auto_rows": null,
            "grid_gap": null,
            "max_width": null,
            "order": null,
            "_view_module_version": "1.2.0",
            "grid_template_areas": null,
            "object_position": null,
            "object_fit": null,
            "grid_auto_columns": null,
            "margin": null,
            "display": null,
            "left": null
          }
        },
        "53f4a990999e49d68742e27029176252": {
          "model_module": "@jupyter-widgets/controls",
          "model_name": "ProgressStyleModel",
          "model_module_version": "1.5.0",
          "state": {
            "_view_name": "StyleView",
            "_model_name": "ProgressStyleModel",
            "description_width": "",
            "_view_module": "@jupyter-widgets/base",
            "_model_module_version": "1.5.0",
            "_view_count": null,
            "_view_module_version": "1.2.0",
            "bar_color": null,
            "_model_module": "@jupyter-widgets/controls"
          }
        },
        "0e9d64afa18f4e399b793ab70ed716da": {
          "model_module": "@jupyter-widgets/base",
          "model_name": "LayoutModel",
          "model_module_version": "1.2.0",
          "state": {
            "_view_name": "LayoutView",
            "grid_template_rows": null,
            "right": null,
            "justify_content": null,
            "_view_module": "@jupyter-widgets/base",
            "overflow": null,
            "_model_module_version": "1.2.0",
            "_view_count": null,
            "flex_flow": null,
            "width": null,
            "min_width": null,
            "border": null,
            "align_items": null,
            "bottom": null,
            "_model_module": "@jupyter-widgets/base",
            "top": null,
            "grid_column": null,
            "overflow_y": null,
            "overflow_x": null,
            "grid_auto_flow": null,
            "grid_area": null,
            "grid_template_columns": null,
            "flex": null,
            "_model_name": "LayoutModel",
            "justify_items": null,
            "grid_row": null,
            "max_height": null,
            "align_content": null,
            "visibility": null,
            "align_self": null,
            "height": null,
            "min_height": null,
            "padding": null,
            "grid_auto_rows": null,
            "grid_gap": null,
            "max_width": null,
            "order": null,
            "_view_module_version": "1.2.0",
            "grid_template_areas": null,
            "object_position": null,
            "object_fit": null,
            "grid_auto_columns": null,
            "margin": null,
            "display": null,
            "left": null
          }
        },
        "fdabef0fd2fc4c21b7c7a24c831a3e49": {
          "model_module": "@jupyter-widgets/controls",
          "model_name": "DescriptionStyleModel",
          "model_module_version": "1.5.0",
          "state": {
            "_view_name": "StyleView",
            "_model_name": "DescriptionStyleModel",
            "description_width": "",
            "_view_module": "@jupyter-widgets/base",
            "_model_module_version": "1.5.0",
            "_view_count": null,
            "_view_module_version": "1.2.0",
            "_model_module": "@jupyter-widgets/controls"
          }
        },
        "191f8a90fa254efcb4b957b468da58a3": {
          "model_module": "@jupyter-widgets/base",
          "model_name": "LayoutModel",
          "model_module_version": "1.2.0",
          "state": {
            "_view_name": "LayoutView",
            "grid_template_rows": null,
            "right": null,
            "justify_content": null,
            "_view_module": "@jupyter-widgets/base",
            "overflow": null,
            "_model_module_version": "1.2.0",
            "_view_count": null,
            "flex_flow": null,
            "width": null,
            "min_width": null,
            "border": null,
            "align_items": null,
            "bottom": null,
            "_model_module": "@jupyter-widgets/base",
            "top": null,
            "grid_column": null,
            "overflow_y": null,
            "overflow_x": null,
            "grid_auto_flow": null,
            "grid_area": null,
            "grid_template_columns": null,
            "flex": null,
            "_model_name": "LayoutModel",
            "justify_items": null,
            "grid_row": null,
            "max_height": null,
            "align_content": null,
            "visibility": null,
            "align_self": null,
            "height": null,
            "min_height": null,
            "padding": null,
            "grid_auto_rows": null,
            "grid_gap": null,
            "max_width": null,
            "order": null,
            "_view_module_version": "1.2.0",
            "grid_template_areas": null,
            "object_position": null,
            "object_fit": null,
            "grid_auto_columns": null,
            "margin": null,
            "display": null,
            "left": null
          }
        },
        "38a0b4fa27b1427e86de1c0694f6525f": {
          "model_module": "@jupyter-widgets/controls",
          "model_name": "HBoxModel",
          "model_module_version": "1.5.0",
          "state": {
            "_view_name": "HBoxView",
            "_dom_classes": [],
            "_model_name": "HBoxModel",
            "_view_module": "@jupyter-widgets/controls",
            "_model_module_version": "1.5.0",
            "_view_count": null,
            "_view_module_version": "1.5.0",
            "box_style": "",
            "layout": "IPY_MODEL_fdf118000e2d47d9a323798a1653c3f4",
            "_model_module": "@jupyter-widgets/controls",
            "children": [
              "IPY_MODEL_1ad6a6cba35e4400a1cca256c3554f3c",
              "IPY_MODEL_961beb8dc913447f89733b2a296cabd0",
              "IPY_MODEL_cbd5e56d14714a618e461e5b6165bae5"
            ]
          }
        },
        "fdf118000e2d47d9a323798a1653c3f4": {
          "model_module": "@jupyter-widgets/base",
          "model_name": "LayoutModel",
          "model_module_version": "1.2.0",
          "state": {
            "_view_name": "LayoutView",
            "grid_template_rows": null,
            "right": null,
            "justify_content": null,
            "_view_module": "@jupyter-widgets/base",
            "overflow": null,
            "_model_module_version": "1.2.0",
            "_view_count": null,
            "flex_flow": null,
            "width": null,
            "min_width": null,
            "border": null,
            "align_items": null,
            "bottom": null,
            "_model_module": "@jupyter-widgets/base",
            "top": null,
            "grid_column": null,
            "overflow_y": null,
            "overflow_x": null,
            "grid_auto_flow": null,
            "grid_area": null,
            "grid_template_columns": null,
            "flex": null,
            "_model_name": "LayoutModel",
            "justify_items": null,
            "grid_row": null,
            "max_height": null,
            "align_content": null,
            "visibility": null,
            "align_self": null,
            "height": null,
            "min_height": null,
            "padding": null,
            "grid_auto_rows": null,
            "grid_gap": null,
            "max_width": null,
            "order": null,
            "_view_module_version": "1.2.0",
            "grid_template_areas": null,
            "object_position": null,
            "object_fit": null,
            "grid_auto_columns": null,
            "margin": null,
            "display": null,
            "left": null
          }
        },
        "1ad6a6cba35e4400a1cca256c3554f3c": {
          "model_module": "@jupyter-widgets/controls",
          "model_name": "HTMLModel",
          "model_module_version": "1.5.0",
          "state": {
            "_view_name": "HTMLView",
            "style": "IPY_MODEL_df1cae9c53f046948515a752dac2b1b9",
            "_dom_classes": [],
            "description": "",
            "_model_name": "HTMLModel",
            "placeholder": "​",
            "_view_module": "@jupyter-widgets/controls",
            "_model_module_version": "1.5.0",
            "value": "100%",
            "_view_count": null,
            "_view_module_version": "1.5.0",
            "description_tooltip": null,
            "_model_module": "@jupyter-widgets/controls",
            "layout": "IPY_MODEL_6054aaa522b14eb693ecb119c63ff835"
          }
        },
        "961beb8dc913447f89733b2a296cabd0": {
          "model_module": "@jupyter-widgets/controls",
          "model_name": "FloatProgressModel",
          "model_module_version": "1.5.0",
          "state": {
            "_view_name": "ProgressView",
            "style": "IPY_MODEL_996a495843014e6da2a5285d525bd5b0",
            "_dom_classes": [],
            "description": "",
            "_model_name": "FloatProgressModel",
            "bar_style": "success",
            "max": 450000,
            "_view_module": "@jupyter-widgets/controls",
            "_model_module_version": "1.5.0",
            "value": 450000,
            "_view_count": null,
            "_view_module_version": "1.5.0",
            "orientation": "horizontal",
            "min": 0,
            "description_tooltip": null,
            "_model_module": "@jupyter-widgets/controls",
            "layout": "IPY_MODEL_3b8eb6f8b1a5484f92be60a635ce8262"
          }
        },
        "cbd5e56d14714a618e461e5b6165bae5": {
          "model_module": "@jupyter-widgets/controls",
          "model_name": "HTMLModel",
          "model_module_version": "1.5.0",
          "state": {
            "_view_name": "HTMLView",
            "style": "IPY_MODEL_b29d424b3c2c46908de3d3f19357d204",
            "_dom_classes": [],
            "description": "",
            "_model_name": "HTMLModel",
            "placeholder": "​",
            "_view_module": "@jupyter-widgets/controls",
            "_model_module_version": "1.5.0",
            "value": " 450000/450000 [1:10:14&lt;00:00, 228.83it/s]",
            "_view_count": null,
            "_view_module_version": "1.5.0",
            "description_tooltip": null,
            "_model_module": "@jupyter-widgets/controls",
            "layout": "IPY_MODEL_ae6c0013bb924abdbe6cbe22363837a6"
          }
        },
        "df1cae9c53f046948515a752dac2b1b9": {
          "model_module": "@jupyter-widgets/controls",
          "model_name": "DescriptionStyleModel",
          "model_module_version": "1.5.0",
          "state": {
            "_view_name": "StyleView",
            "_model_name": "DescriptionStyleModel",
            "description_width": "",
            "_view_module": "@jupyter-widgets/base",
            "_model_module_version": "1.5.0",
            "_view_count": null,
            "_view_module_version": "1.2.0",
            "_model_module": "@jupyter-widgets/controls"
          }
        },
        "6054aaa522b14eb693ecb119c63ff835": {
          "model_module": "@jupyter-widgets/base",
          "model_name": "LayoutModel",
          "model_module_version": "1.2.0",
          "state": {
            "_view_name": "LayoutView",
            "grid_template_rows": null,
            "right": null,
            "justify_content": null,
            "_view_module": "@jupyter-widgets/base",
            "overflow": null,
            "_model_module_version": "1.2.0",
            "_view_count": null,
            "flex_flow": null,
            "width": null,
            "min_width": null,
            "border": null,
            "align_items": null,
            "bottom": null,
            "_model_module": "@jupyter-widgets/base",
            "top": null,
            "grid_column": null,
            "overflow_y": null,
            "overflow_x": null,
            "grid_auto_flow": null,
            "grid_area": null,
            "grid_template_columns": null,
            "flex": null,
            "_model_name": "LayoutModel",
            "justify_items": null,
            "grid_row": null,
            "max_height": null,
            "align_content": null,
            "visibility": null,
            "align_self": null,
            "height": null,
            "min_height": null,
            "padding": null,
            "grid_auto_rows": null,
            "grid_gap": null,
            "max_width": null,
            "order": null,
            "_view_module_version": "1.2.0",
            "grid_template_areas": null,
            "object_position": null,
            "object_fit": null,
            "grid_auto_columns": null,
            "margin": null,
            "display": null,
            "left": null
          }
        },
        "996a495843014e6da2a5285d525bd5b0": {
          "model_module": "@jupyter-widgets/controls",
          "model_name": "ProgressStyleModel",
          "model_module_version": "1.5.0",
          "state": {
            "_view_name": "StyleView",
            "_model_name": "ProgressStyleModel",
            "description_width": "",
            "_view_module": "@jupyter-widgets/base",
            "_model_module_version": "1.5.0",
            "_view_count": null,
            "_view_module_version": "1.2.0",
            "bar_color": null,
            "_model_module": "@jupyter-widgets/controls"
          }
        },
        "3b8eb6f8b1a5484f92be60a635ce8262": {
          "model_module": "@jupyter-widgets/base",
          "model_name": "LayoutModel",
          "model_module_version": "1.2.0",
          "state": {
            "_view_name": "LayoutView",
            "grid_template_rows": null,
            "right": null,
            "justify_content": null,
            "_view_module": "@jupyter-widgets/base",
            "overflow": null,
            "_model_module_version": "1.2.0",
            "_view_count": null,
            "flex_flow": null,
            "width": null,
            "min_width": null,
            "border": null,
            "align_items": null,
            "bottom": null,
            "_model_module": "@jupyter-widgets/base",
            "top": null,
            "grid_column": null,
            "overflow_y": null,
            "overflow_x": null,
            "grid_auto_flow": null,
            "grid_area": null,
            "grid_template_columns": null,
            "flex": null,
            "_model_name": "LayoutModel",
            "justify_items": null,
            "grid_row": null,
            "max_height": null,
            "align_content": null,
            "visibility": null,
            "align_self": null,
            "height": null,
            "min_height": null,
            "padding": null,
            "grid_auto_rows": null,
            "grid_gap": null,
            "max_width": null,
            "order": null,
            "_view_module_version": "1.2.0",
            "grid_template_areas": null,
            "object_position": null,
            "object_fit": null,
            "grid_auto_columns": null,
            "margin": null,
            "display": null,
            "left": null
          }
        },
        "b29d424b3c2c46908de3d3f19357d204": {
          "model_module": "@jupyter-widgets/controls",
          "model_name": "DescriptionStyleModel",
          "model_module_version": "1.5.0",
          "state": {
            "_view_name": "StyleView",
            "_model_name": "DescriptionStyleModel",
            "description_width": "",
            "_view_module": "@jupyter-widgets/base",
            "_model_module_version": "1.5.0",
            "_view_count": null,
            "_view_module_version": "1.2.0",
            "_model_module": "@jupyter-widgets/controls"
          }
        },
        "ae6c0013bb924abdbe6cbe22363837a6": {
          "model_module": "@jupyter-widgets/base",
          "model_name": "LayoutModel",
          "model_module_version": "1.2.0",
          "state": {
            "_view_name": "LayoutView",
            "grid_template_rows": null,
            "right": null,
            "justify_content": null,
            "_view_module": "@jupyter-widgets/base",
            "overflow": null,
            "_model_module_version": "1.2.0",
            "_view_count": null,
            "flex_flow": null,
            "width": null,
            "min_width": null,
            "border": null,
            "align_items": null,
            "bottom": null,
            "_model_module": "@jupyter-widgets/base",
            "top": null,
            "grid_column": null,
            "overflow_y": null,
            "overflow_x": null,
            "grid_auto_flow": null,
            "grid_area": null,
            "grid_template_columns": null,
            "flex": null,
            "_model_name": "LayoutModel",
            "justify_items": null,
            "grid_row": null,
            "max_height": null,
            "align_content": null,
            "visibility": null,
            "align_self": null,
            "height": null,
            "min_height": null,
            "padding": null,
            "grid_auto_rows": null,
            "grid_gap": null,
            "max_width": null,
            "order": null,
            "_view_module_version": "1.2.0",
            "grid_template_areas": null,
            "object_position": null,
            "object_fit": null,
            "grid_auto_columns": null,
            "margin": null,
            "display": null,
            "left": null
          }
        }
      }
    }
  },
  "cells": [
    {
      "cell_type": "code",
      "metadata": {
        "colab": {
          "base_uri": "https://localhost:8080/"
        },
        "id": "6sibqfTgRzsK",
        "outputId": "a70dee1e-e0c5-4276-c47d-7a4168f25aad"
      },
      "source": [
        "!curl -Lo conda_installer.py https://raw.githubusercontent.com/deepchem/deepchem/master/scripts/colab_install.py\n",
        "import conda_installer\n",
        "conda_installer.install()\n",
        "!/root/miniconda/bin/conda info -e"
      ],
      "execution_count": 2,
      "outputs": [
        {
          "output_type": "stream",
          "name": "stdout",
          "text": [
            "  % Total    % Received % Xferd  Average Speed   Time    Time     Time  Current\n",
            "                                 Dload  Upload   Total   Spent    Left  Speed\n",
            "100  3457  100  3457    0     0  22160      0 --:--:-- --:--:-- --:--:-- 22019\n"
          ]
        },
        {
          "output_type": "stream",
          "name": "stderr",
          "text": [
            "add /root/miniconda/lib/python3.7/site-packages to PYTHONPATH\n",
            "python version: 3.7.12\n",
            "fetching installer from https://repo.continuum.io/miniconda/Miniconda3-latest-Linux-x86_64.sh\n",
            "done\n",
            "installing miniconda to /root/miniconda\n",
            "done\n",
            "installing openmm, pdbfixer\n",
            "added conda-forge to channels\n",
            "done\n",
            "conda packages installation finished!\n"
          ]
        },
        {
          "output_type": "stream",
          "name": "stdout",
          "text": [
            "# conda environments:\n",
            "#\n",
            "base                  *  /root/miniconda\n",
            "\n"
          ]
        }
      ]
    },
    {
      "cell_type": "code",
      "metadata": {
        "colab": {
          "base_uri": "https://localhost:8080/"
        },
        "id": "JRxhPcAtR1eA",
        "outputId": "99691c4f-f02c-464e-863d-aaece786b3ea"
      },
      "source": [
        "!pip install rdkit-pypi"
      ],
      "execution_count": 3,
      "outputs": [
        {
          "output_type": "stream",
          "name": "stdout",
          "text": [
            "Collecting rdkit-pypi\n",
            "  Downloading rdkit_pypi-2021.9.2.1-cp37-cp37m-manylinux_2_17_x86_64.manylinux2014_x86_64.whl (20.6 MB)\n",
            "\u001b[K     |████████████████████████████████| 20.6 MB 1.4 MB/s \n",
            "\u001b[?25hRequirement already satisfied: numpy>=1.19 in /usr/local/lib/python3.7/dist-packages (from rdkit-pypi) (1.19.5)\n",
            "Installing collected packages: rdkit-pypi\n",
            "Successfully installed rdkit-pypi-2021.9.2.1\n"
          ]
        }
      ]
    },
    {
      "cell_type": "code",
      "metadata": {
        "id": "oOtY7761RxKD"
      },
      "source": [
        "#모든 모듈 리로드\n",
        "%load_ext autoreload\n",
        "%autoreload 2"
      ],
      "execution_count": 4,
      "outputs": []
    },
    {
      "cell_type": "code",
      "metadata": {
        "id": "pi4OD48URxKE"
      },
      "source": [
        "import argparse\n",
        "import sys\n",
        "import time\n",
        "import copy\n",
        "\n",
        "import numpy as np\n",
        "\n",
        "from rdkit import Chem, DataStructs\n",
        "from rdkit.Chem import AllChem\n",
        "from rdkit.Chem.Crippen import MolLogP\n",
        "\n",
        "from sklearn.metrics import mean_absolute_error\n",
        "\n",
        "import torch\n",
        "import torch.nn as nn\n",
        "import torch.optim as optim\n",
        "from torch.utils.data import Dataset, DataLoader\n",
        "from torch.autograd import Variable\n",
        "\n",
        "#from utils import read_ZINC_smiles, smiles_to_onehot, partition, OneHotLogPDataSet\n",
        "from tqdm import tnrange, tqdm_notebook\n",
        "import pandas as pd\n",
        "import seaborn as sns\n",
        "import matplotlib.pyplot as plt"
      ],
      "execution_count": 5,
      "outputs": []
    },
    {
      "cell_type": "code",
      "metadata": {
        "id": "MKBcVSRFRxKF"
      },
      "source": [
        "paser = argparse.ArgumentParser()\n",
        "args = paser.parse_args(\"\")\n",
        "args.seed = 123\n",
        "args.val_size = 0.1\n",
        "args.test_size = 0.1\n",
        "args.shuffle = True"
      ],
      "execution_count": 6,
      "outputs": []
    },
    {
      "cell_type": "code",
      "metadata": {
        "id": "B3n_Tk3GRxKG"
      },
      "source": [
        "np.random.seed(args.seed)\n",
        "torch.manual_seed(args.seed)\n",
        "\n",
        "if torch.cuda.is_available():\n",
        "    torch.set_default_tensor_type('torch.cuda.FloatTensor')\n",
        "else:\n",
        "    torch.set_default_tensor_type('torch.FloatTensor')"
      ],
      "execution_count": 7,
      "outputs": []
    },
    {
      "cell_type": "markdown",
      "metadata": {
        "id": "uUnEDyq7RxKG"
      },
      "source": [
        "# 1. Pre-Processing\n",
        "ZINC.smiles 파일에 text로 표현되어 있는 분자들을 molecular graph 형태로 바꿔줍시다. 이때 node feature matrix는 아래 그림과 같이 각 원자의 symbol, degree 등 화학적 특성을 one-hot vector로 나타낸 형태임\n",
        "read_ZINC_smiles 함수는 smiles 파일 내의 분자 텍스트의 list와 각 분자들의 실제 logP value list를 return합니다. convert_to_graph 함수는 분자 텍스트의 list를 받아 각 분자들의 node feature matrix list와 adjacency matrix list를 return 함\n",
        "![process.png](data:image/png;base64,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)"
      ]
    },
    {
      "cell_type": "code",
      "metadata": {
        "colab": {
          "base_uri": "https://localhost:8080/"
        },
        "id": "yL_s2Kt7R6nH",
        "outputId": "07527e97-ece9-4786-9628-37989ecbe18c"
      },
      "source": [
        "!curl -o ZINC.smiles https://raw.githubusercontent.com/heartcored98/Standalone-DeepLearning/master/Lec9/ZINC.smiles\n",
        "!curl -o vocab.npy https://raw.githubusercontent.com/heartcored98/Standalone-DeepLearning/master/Lec9/vocab.npy"
      ],
      "execution_count": 8,
      "outputs": [
        {
          "output_type": "stream",
          "name": "stdout",
          "text": [
            "  % Total    % Received % Xferd  Average Speed   Time    Time     Time  Current\n",
            "                                 Dload  Upload   Total   Spent    Left  Speed\n",
            "100 5374k  100 5374k    0     0  12.3M      0 --:--:-- --:--:-- --:--:-- 12.2M\n",
            "  % Total    % Received % Xferd  Average Speed   Time    Time     Time  Current\n",
            "                                 Dload  Upload   Total   Spent    Left  Speed\n",
            "100   256  100   256    0     0    934      0 --:--:-- --:--:-- --:--:--   934\n"
          ]
        }
      ]
    },
    {
      "cell_type": "code",
      "metadata": {
        "id": "uobAe0Y5RxKH"
      },
      "source": [
        "#ZINC SMILES와 logP의 값을 읽어오는 코드\n",
        "def read_ZINC_smiles(file_name, num_mol):\n",
        "    f = open(file_name, 'r')\n",
        "    contents = f.readlines()\n",
        "\n",
        "    smi_list = []\n",
        "    logP_list = []\n",
        "\n",
        "    for i in tqdm_notebook(range(num_mol), desc='Reading Data'):\n",
        "        smi = contents[i].strip()\n",
        "        m = Chem.MolFromSmiles(smi)\n",
        "        smi_list.append(smi)\n",
        "        logP_list.append(MolLogP(m))\n",
        "\n",
        "    logP_list = np.asarray(logP_list).astype(float)\n",
        "\n",
        "    return smi_list, logP_list\n",
        "\n",
        "#SMILES를 원핫 인코딩으로 만드는 과정 이코드에서 사용하지 x\n",
        "def smiles_to_onehot(smi_list):\n",
        "    def smiles_to_vector(smiles, vocab, max_length):\n",
        "        while len(smiles) < max_length:\n",
        "            smiles += \" \" \n",
        "        vector = [vocab.index(str(x)) for x in smiles]\n",
        "        #vocab의 크기를 구했으면\n",
        "        one_hot = np.zeros((len(vocab), max_length), dtype=int)\n",
        "        for i, elm in enumerate(vector):\n",
        "            one_hot[elm][i] = 1\n",
        "        return one_hot\n",
        "\n",
        "    vocab = np.load('./vocab.npy')\n",
        "    smi_total = []\n",
        "\n",
        "    for i, smi in tqdm_notebook(enumerate(smi_list), desc='Converting to One Hot'):\n",
        "        smi_onehot = smiles_to_vector(smi, list(vocab), 120)\n",
        "        smi_total.append(smi_onehot)\n",
        "\n",
        "    return np.asarray(smi_total)\n",
        "\n",
        "#SMILES를 그래프 데이터로 전환\n",
        "def convert_to_graph(smiles_list):\n",
        "    adj = [] #인접행렬\n",
        "    adj_norm = []\n",
        "    features = [] #feature matrix\n",
        "    maxNumAtoms = 50\n",
        "    for i in tqdm_notebook(smiles_list, desc='Converting to Graph'):\n",
        "        # Mol\n",
        "        iMol = Chem.MolFromSmiles(i.strip())\n",
        "        #Adj\n",
        "        iAdjTmp = Chem.rdmolops.GetAdjacencyMatrix(iMol)\n",
        "        # Feature\n",
        "        if( iAdjTmp.shape[0] <= maxNumAtoms):\n",
        "            # Feature-preprocessing\n",
        "            iFeature = np.zeros((maxNumAtoms, 58))\n",
        "            iFeatureTmp = []\n",
        "            for atom in iMol.GetAtoms():\n",
        "                iFeatureTmp.append( atom_feature(atom) ) ### atom features only\n",
        "            iFeature[0:len(iFeatureTmp), 0:58] = iFeatureTmp ### 0 padding for feature-set\n",
        "            features.append(iFeature)\n",
        "\n",
        "            # Adj-preprocessing\n",
        "            iAdj = np.zeros((maxNumAtoms, maxNumAtoms))\n",
        "            iAdj[0:len(iFeatureTmp), 0:len(iFeatureTmp)] = iAdjTmp + np.eye(len(iFeatureTmp))\n",
        "            adj.append(np.asarray(iAdj))\n",
        "    features = np.asarray(features)\n",
        "\n",
        "    return features, adj\n",
        "    \n",
        "def atom_feature(atom):\n",
        "    return np.array(one_of_k_encoding_unk(atom.GetSymbol(),\n",
        "                                      ['C', 'N', 'O', 'S', 'F', 'H', 'Si', 'P', 'Cl', 'Br',\n",
        "                                       'Li', 'Na', 'K', 'Mg', 'Ca', 'Fe', 'As', 'Al', 'I', 'B',\n",
        "                                       'V', 'Tl', 'Sb', 'Sn', 'Ag', 'Pd', 'Co', 'Se', 'Ti', 'Zn',\n",
        "                                       'Ge', 'Cu', 'Au', 'Ni', 'Cd', 'Mn', 'Cr', 'Pt', 'Hg', 'Pb']) +\n",
        "                    one_of_k_encoding(atom.GetDegree(), [0, 1, 2, 3, 4, 5]) +\n",
        "                    one_of_k_encoding_unk(atom.GetTotalNumHs(), [0, 1, 2, 3, 4]) +\n",
        "                    one_of_k_encoding_unk(atom.GetImplicitValence(), [0, 1, 2, 3, 4, 5]) +\n",
        "                    [atom.GetIsAromatic()])    # (40, 6, 5, 6, 1)\n",
        "\n",
        "def one_of_k_encoding(x, allowable_set):\n",
        "    if x not in allowable_set:\n",
        "        raise Exception(\"input {0} not in allowable set{1}:\".format(x, allowable_set))\n",
        "    return list(map(lambda s: x == s, allowable_set))\n",
        "\n",
        "def one_of_k_encoding_unk(x, allowable_set):\n",
        "    \"\"\"Maps inputs not in the allowable set to the last element.\"\"\"\n",
        "    if x not in allowable_set:\n",
        "        x = allowable_set[-1]\n",
        "    return list(map(lambda s: x == s, allowable_set))\n",
        "\n",
        "#커스텀 데이터셋 구성\n",
        "#input2개 output1개\n",
        "class GCNDataset(Dataset):\n",
        "    def __init__(self, list_feature, list_adj, list_logP):\n",
        "        self.list_feature = list_feature\n",
        "        self.list_adj = list_adj\n",
        "        self.list_logP = list_logP\n",
        "\n",
        "    def __len__(self):\n",
        "        return len(self.list_feature)\n",
        "\n",
        "    def __getitem__(self, index):\n",
        "        return self.list_feature[index], self.list_adj[index], self.list_logP[index]\n",
        "\n",
        "#데이터를 자르는 작업\n",
        "def partition(list_feature, list_adj, list_logP, args):\n",
        "    num_total = list_feature.shape[0]\n",
        "    num_train = int(num_total * (1 - args.test_size - args.val_size))\n",
        "    num_val = int(num_total * args.val_size)\n",
        "    num_test = int(num_total * args.test_size)\n",
        "\n",
        "    feature_train = list_feature[:num_train]\n",
        "    adj_train = list_adj[:num_train]\n",
        "    logP_train = list_logP[:num_train]\n",
        "    feature_val = list_feature[num_train:num_train + num_val]\n",
        "    adj_val = list_adj[num_train:num_train + num_val]\n",
        "    logP_val = list_logP[num_train:num_train + num_val]\n",
        "    feature_test = list_feature[num_total - num_test:]\n",
        "    adj_test = list_adj[num_total - num_test:]\n",
        "    logP_test = list_logP[num_total - num_test:]\n",
        "        \n",
        "    train_set = GCNDataset(feature_train, adj_train, logP_train)\n",
        "    val_set = GCNDataset(feature_val, adj_val, logP_val)\n",
        "    test_set = GCNDataset(feature_test, adj_test, logP_test)\n",
        "\n",
        "    partition = {\n",
        "        'train': train_set,\n",
        "        'val': val_set,\n",
        "        'test': test_set\n",
        "    }\n",
        "\n",
        "    return partition"
      ],
      "execution_count": 9,
      "outputs": []
    },
    {
      "cell_type": "code",
      "metadata": {
        "scrolled": true,
        "colab": {
          "base_uri": "https://localhost:8080/",
          "height": 193,
          "referenced_widgets": [
            "373b431b08904678a385612d9f08dec6",
            "cb83e7acf956408f900cd51403e9c682",
            "33eb2e93f5e14044996c19d23487add3",
            "f1bc4e9a734c4a28b38216901f708b10",
            "602886ccd4fd46399911d1e65b172db6",
            "ca5d4df525394c9384668f443a28d64a",
            "d5569270908746059d8bd96dda8c3b92",
            "146596e21ec54b928ffee8aaea73bd89",
            "e3c51e3ef8de4b2b9bd2f0ab4b04f18e",
            "e8b5bfe3facb4a8cad55c4f03739d900",
            "6f7aacca516a42839da20fd3fa0694a5",
            "5fb584a71ace47ce8bfe962187fa8890",
            "3a66937117594629ad4ae18812f5f2b2",
            "d317d08acbf2409784bfa75c73bcd39d",
            "d4421eaccd094014be4b8171204637bd",
            "bb069ce2ec2a48c8acabb76fc048a841",
            "99a949b95d8d4f1c865bc4ef759a5149",
            "c8a299f3044c4008a493adfe9519e5e0",
            "bb8133ffb7ed41dc85e30f38e009164a",
            "506ad614e0614c49b833fdb277b39134",
            "c022cb8504cc4d17859ea324aae33f57",
            "8937e71651974cb7a11701591351668b"
          ]
        },
        "id": "9P-Tj5q4RxKL",
        "outputId": "062c94f9-d089-4e2f-93ad-cfd3be1778e8"
      },
      "source": [
        "list_smi, list_logP = read_ZINC_smiles('ZINC.smiles', 100)\n",
        "list_feature, list_adj = convert_to_graph(list_smi)\n",
        "dict_partition = partition(list_feature, list_adj, list_logP, args)"
      ],
      "execution_count": 10,
      "outputs": [
        {
          "output_type": "stream",
          "name": "stderr",
          "text": [
            "/usr/local/lib/python3.7/dist-packages/ipykernel_launcher.py:8: TqdmDeprecationWarning: This function will be removed in tqdm==5.0.0\n",
            "Please use `tqdm.notebook.tqdm` instead of `tqdm.tqdm_notebook`\n",
            "  \n"
          ]
        },
        {
          "output_type": "display_data",
          "data": {
            "application/vnd.jupyter.widget-view+json": {
              "model_id": "373b431b08904678a385612d9f08dec6",
              "version_minor": 0,
              "version_major": 2
            },
            "text/plain": [
              "Reading Data:   0%|          | 0/100 [00:00<?, ?it/s]"
            ]
          },
          "metadata": {}
        },
        {
          "output_type": "stream",
          "name": "stderr",
          "text": [
            "/usr/local/lib/python3.7/dist-packages/ipykernel_launcher.py:43: TqdmDeprecationWarning: This function will be removed in tqdm==5.0.0\n",
            "Please use `tqdm.notebook.tqdm` instead of `tqdm.tqdm_notebook`\n"
          ]
        },
        {
          "output_type": "display_data",
          "data": {
            "application/vnd.jupyter.widget-view+json": {
              "model_id": "5fb584a71ace47ce8bfe962187fa8890",
              "version_minor": 0,
              "version_major": 2
            },
            "text/plain": [
              "Converting to Graph:   0%|          | 0/100 [00:00<?, ?it/s]"
            ]
          },
          "metadata": {}
        }
      ]
    },
    {
      "cell_type": "markdown",
      "metadata": {
        "id": "DxJnmVQKRxKM"
      },
      "source": [
        "# 2. Model Construction\n",
        "Graph Convolution Network, 즉 GCN을 pytorch를 이용하여 구현해보자.\n",
        "이를 위해 다음과 같은 sub module들을 구현하고 사용함\n",
        "\n",
        "__GCNLayer__: node feature matrix와 adjacency matrix의 list를 받아 graph convolution 연산을 수행하는 module 임\n",
        "\n",
        "__(Gated)SkipConnection__: ResNet에서 사용되었던 skip connection technique을 구현한 module 임\n",
        "\n",
        "__GCNBlock__: node feature matrix와 adjacency matrix의 list를 받아 원하는 갯수의 GCNLayer를 통과시킨 후, (gated)skip connection을 적용하는 module 임\n",
        "\n",
        "__ReadOut__: graph structrure에 permutation invariance를 주기 위하여 linear layer를 거친 뒤 batch 별로 summation하는 module 임\n",
        "\n",
        "__Predictor__: ReadOut layer로부터의 graph feature vector로부터 logP value를 예측하기 위한 linear layer module 임\n",
        "위 모듈들을 사용하여 GCNNet을 구현해보자."
      ]
    },
    {
      "cell_type": "code",
      "metadata": {
        "id": "rt5oI37BRxKM"
      },
      "source": [
        "class SkipConnection(nn.Module):\n",
        "    \n",
        "    def __init__(self, in_dim, out_dim):\n",
        "        super(SkipConnection, self).__init__()\n",
        "        \n",
        "        self.in_dim = in_dim\n",
        "        self.out_dim = out_dim\n",
        "        \n",
        "        self.linear = nn.Linear(in_dim, out_dim, bias=False)\n",
        "        \n",
        "    def forward(self, in_x, out_x): #in_x는 아무것도 거치지않은 x, out_x는 연산을 거치고난 x\n",
        "        if (self.in_dim != self.out_dim):\n",
        "            in_x = self.linear(in_x)\n",
        "        out = in_x + out_x\n",
        "        return out"
      ],
      "execution_count": 11,
      "outputs": []
    },
    {
      "cell_type": "code",
      "metadata": {
        "id": "ecrCPjO9RxKN"
      },
      "source": [
        "class GatedSkipConnection(nn.Module):\n",
        "    \n",
        "    def __init__(self, in_dim, out_dim):\n",
        "        super(GatedSkipConnection, self).__init__()\n",
        "        \n",
        "        self.in_dim = in_dim\n",
        "        self.out_dim = out_dim\n",
        "        \n",
        "        self.linear = nn.Linear(in_dim, out_dim, bias=False)\n",
        "        self.linear_coef_in = nn.Linear(out_dim, out_dim)\n",
        "        self.linear_coef_out = nn.Linear(out_dim, out_dim)\n",
        "        self.sigmoid = nn.Sigmoid()\n",
        "        \n",
        "    def forward(self, in_x, out_x):\n",
        "        if (self.in_dim != self.out_dim):\n",
        "            in_x = self.linear(in_x)\n",
        "        z = self.gate_coefficient(in_x, out_x)\n",
        "        out = torch.mul(z, out_x) + torch.mul(1.0-z, in_x)\n",
        "        return out\n",
        "            \n",
        "    def gate_coefficient(self, in_x, out_x):\n",
        "        x1 = self.linear_coef_in(in_x)\n",
        "        x2 = self.linear_coef_out(out_x)\n",
        "        return self.sigmoid(x1+x2)"
      ],
      "execution_count": 12,
      "outputs": []
    },
    {
      "cell_type": "code",
      "metadata": {
        "id": "0RDH-kAhRxKN"
      },
      "source": [
        "class Attention(nn.Module):\n",
        "    \n",
        "    def __init__(self, in_dim, output_dim, num_head):\n",
        "        super(Attention, self).__init__()\n",
        "        \n",
        "        self.num_head = num_head\n",
        "        self.atn_dim = output_dim // num_head\n",
        "        \n",
        "        self.linears = nn.ModuleList()\n",
        "        self.corelations = nn.ParameterList()\n",
        "        for i in range(self.num_head):\n",
        "            self.linears.append(nn.Linear(in_dim, self.atn_dim))\n",
        "            corelation = torch.FloatTensor(self.atn_dim, self.atn_dim)\n",
        "            nn.init.xavier_uniform_(corelation)\n",
        "            self.corelations.append(nn.Parameter(corelation))\n",
        "            \n",
        "        self.tanh = nn.Tanh()\n",
        "        \n",
        "    def forward(self, x, adj):\n",
        "        heads = list()\n",
        "        for i in range(self.num_head):\n",
        "            x_transformed = self.linears[i](x)\n",
        "            alpha = self.attention_matrix(x_transformed, self.corelations[i], adj)\n",
        "            x_head = torch.matmul(alpha, x_transformed)\n",
        "            heads.append(x_head)\n",
        "        output = torch.cat(heads, dim=2)\n",
        "        return output\n",
        "            \n",
        "    def attention_matrix(self, x_transformed, corelation, adj):\n",
        "        x = torch.einsum('akj,ij->aki', (x_transformed, corelation))\n",
        "        alpha = torch.matmul(x, torch.transpose(x_transformed, 1, 2))\n",
        "        alpha = torch.mul(alpha, adj)\n",
        "        alpha = self.tanh(alpha)\n",
        "        return alpha"
      ],
      "execution_count": 13,
      "outputs": []
    },
    {
      "cell_type": "code",
      "metadata": {
        "id": "N_-OEgbXRxKO"
      },
      "source": [
        "class GCNLayer(nn.Module):\n",
        "    # h_l+1 = activation(A* h_l * W + b)\n",
        "    def __init__(self, in_dim, out_dim, n_atom, act=None, bn=False, atn=False, num_head=1, dropout=0):\n",
        "        super(GCNLayer, self).__init__()\n",
        "        \n",
        "        self.use_bn = bn\n",
        "        self.use_atn = atn\n",
        "        self.linear = nn.Linear(in_dim, out_dim) #W*input\n",
        "        nn.init.xavier_uniform_(self.linear.weight)#Xavier 초기화\n",
        "        self.bn = nn.BatchNorm1d(n_atom) #1D batch_normal\n",
        "\n",
        "        self.attention = Attention(out_dim, out_dim, num_head)\n",
        "        self.activation = act\n",
        "        self.dropout_rate = dropout\n",
        "        self.dropout = nn.Dropout2d(self.dropout_rate)\n",
        "        \n",
        "    def forward(self, x, adj):\n",
        "        out = self.linear(x) #h_l*W\n",
        "        if self.use_atn:\n",
        "            out = self.attention(out, adj) \n",
        "        else:\n",
        "            out = torch.matmul(adj, out)# matrix multiplication  A* h_l * W\n",
        "        if self.use_bn: \n",
        "            out = self.bn(out)\n",
        "        if self.activation != None:\n",
        "            out = self.activation(out)\n",
        "        if self.dropout_rate > 0:\n",
        "            out = self.dropout(out)\n",
        "        return out, adj"
      ],
      "execution_count": 14,
      "outputs": []
    },
    {
      "cell_type": "code",
      "metadata": {
        "id": "sM8moOeJRxKO"
      },
      "source": [
        "class GCNBlock(nn.Module): \n",
        "    \n",
        "    def __init__(self, n_layer, in_dim, hidden_dim, out_dim, n_atom, bn=True, atn=True, num_head=1, sc='gsc', dropout=0):\n",
        "        super(GCNBlock, self).__init__()\n",
        "        \n",
        "        self.layers = nn.ModuleList()# 반복적으로 레이어를 쌓는 함수\n",
        "        for i in range(n_layer):\n",
        "            #반복적으로 쌓는데 첫번째 레이어는 input_dim을 사용할 수 있으나 이후에는 hidden_dim 차원으로 입력을 받아야함\n",
        "            #마찬가지로 마지막 레이어에서는 out_dim 사이즈로 고정해줘야함\n",
        "            self.layers.append(GCNLayer(in_dim if i==0 else hidden_dim,\n",
        "                                        out_dim if i==n_layer-1 else hidden_dim,\n",
        "                                        n_atom,\n",
        "                                        nn.ReLU() if i!=n_layer-1 else None, #마지막에은 activation 안함 이유는 skip-connect이후에 activation 해줄것\n",
        "                                        bn,\n",
        "                                        atn,\n",
        "                                        num_head,\n",
        "                                        dropout))\n",
        "        self.relu = nn.ReLU()\n",
        "        #skip-connect\n",
        "        if sc=='gsc':\n",
        "            self.sc = GatedSkipConnection(in_dim, out_dim)\n",
        "        elif sc=='sc':\n",
        "            self.sc = SkipConnection(in_dim, out_dim)\n",
        "        elif sc=='no':\n",
        "            self.sc = None\n",
        "        else:\n",
        "            assert False, \"Wrong sc type.\"\n",
        "        \n",
        "    def forward(self, x, adj):\n",
        "        residual = x\n",
        "        for i, layer in enumerate(self.layers):\n",
        "            out, adj = layer((x if i==0 else out), adj)\n",
        "        if self.sc != None:\n",
        "            out = self.sc(residual, out)\n",
        "        out = self.relu(out)\n",
        "        return out, adj"
      ],
      "execution_count": 15,
      "outputs": []
    },
    {
      "cell_type": "code",
      "metadata": {
        "id": "-1wU0UwHRxKO"
      },
      "source": [
        "class ReadOut(nn.Module):\n",
        "    \n",
        "    def __init__(self, in_dim, out_dim, act=None):\n",
        "        super(ReadOut, self).__init__()\n",
        "        \n",
        "        self.in_dim = in_dim\n",
        "        self.out_dim= out_dim\n",
        "        #가장 간단한 readout으로 MLP사용\n",
        "        self.linear = nn.Linear(self.in_dim, \n",
        "                                self.out_dim)\n",
        "        nn.init.xavier_uniform_(self.linear.weight)\n",
        "        self.activation = act\n",
        "\n",
        "    def forward(self, x):\n",
        "        out = self.linear(x)\n",
        "        out = torch.sum(out, 1)\n",
        "        if self.activation != None:\n",
        "            out = self.activation(out)\n",
        "        return out"
      ],
      "execution_count": 16,
      "outputs": []
    },
    {
      "cell_type": "code",
      "metadata": {
        "id": "eMA2--caRxKP"
      },
      "source": [
        "class Predictor(nn.Module):\n",
        "    #단순히 FC레이어 만들어서 activation해주는 역할\n",
        "    def __init__(self, in_dim, out_dim, act=None):\n",
        "        super(Predictor, self).__init__()\n",
        "        \n",
        "        self.in_dim = in_dim\n",
        "        self.out_dim = out_dim\n",
        "        \n",
        "        self.linear = nn.Linear(self.in_dim,\n",
        "                                self.out_dim)\n",
        "        nn.init.xavier_uniform_(self.linear.weight)\n",
        "        self.activation = act\n",
        "        \n",
        "    def forward(self, x):\n",
        "        out = self.linear(x)\n",
        "        if self.activation != None:\n",
        "            out = self.activation(out)\n",
        "        return out"
      ],
      "execution_count": 17,
      "outputs": []
    },
    {
      "cell_type": "code",
      "metadata": {
        "id": "87d-M34sRxKP"
      },
      "source": [
        "class GCNNet(nn.Module):\n",
        "    \n",
        "    def __init__(self, args):\n",
        "        super(GCNNet, self).__init__()\n",
        "        \n",
        "        self.blocks = nn.ModuleList()\n",
        "        for i in range(args.n_block):\n",
        "            self.blocks.append(GCNBlock(args.n_layer,\n",
        "                                        args.in_dim if i==0 else args.hidden_dim,\n",
        "                                        args.hidden_dim,\n",
        "                                        args.hidden_dim,\n",
        "                                        args.n_atom,\n",
        "                                        args.bn,\n",
        "                                        args.atn,\n",
        "                                        args.num_head,\n",
        "                                        args.sc,\n",
        "                                        args.dropout))\n",
        "        self.readout = ReadOut(args.hidden_dim, \n",
        "                               args.pred_dim1,\n",
        "                               act=nn.ReLU())\n",
        "        self.pred1 = Predictor(args.pred_dim1,\n",
        "                               args.pred_dim2,\n",
        "                               act=nn.ReLU())\n",
        "        self.pred2 = Predictor(args.pred_dim2,\n",
        "                               args.pred_dim3,\n",
        "                               act=nn.Tanh())\n",
        "        self.pred3 = Predictor(args.pred_dim3,\n",
        "                               args.out_dim)\n",
        "        \n",
        "    def forward(self, x, adj):\n",
        "        for i, block in enumerate(self.blocks):\n",
        "            out, adj = block((x if i==0 else out), adj)\n",
        "        out = self.readout(out)\n",
        "        out = self.pred1(out)\n",
        "        out = self.pred2(out)\n",
        "        out = self.pred3(out)\n",
        "        return out"
      ],
      "execution_count": 18,
      "outputs": []
    },
    {
      "cell_type": "markdown",
      "metadata": {
        "id": "psXnUcLaRxKQ"
      },
      "source": [
        "# 3. Train, Validate, and Test"
      ]
    },
    {
      "cell_type": "code",
      "metadata": {
        "id": "Rf8N1MSBRxKQ"
      },
      "source": [
        "def train(model, device, optimizer, criterion, data_train, bar, args):\n",
        "    epoch_train_loss = 0\n",
        "    for i, batch in enumerate(data_train):\n",
        "        list_feature = torch.tensor(batch[0]).to(device).float()\n",
        "        list_adj = torch.tensor(batch[1]).to(device).float()\n",
        "        list_logP = torch.tensor(batch[2]).to(device).float()\n",
        "        list_logP = list_logP.view(-1,1)\n",
        "                \n",
        "        model.train()\n",
        "        optimizer.zero_grad()\n",
        "        list_pred_logP = model(list_feature, list_adj)\n",
        "        list_pred_logP.require_grad = False\n",
        "        train_loss = criterion(list_pred_logP, list_logP)\n",
        "        epoch_train_loss += train_loss.item()\n",
        "        train_loss.backward()\n",
        "        optimizer.step()\n",
        "       \n",
        "        bar.update(len(list_feature))\n",
        "\n",
        "    epoch_train_loss /= len(data_train)\n",
        "    \n",
        "    return model, epoch_train_loss"
      ],
      "execution_count": 19,
      "outputs": []
    },
    {
      "cell_type": "code",
      "metadata": {
        "id": "c9k7wLH1RxKQ"
      },
      "source": [
        "def validate(model, device, criterion, data_val, bar, args):\n",
        "    epoch_val_loss = 0\n",
        "    with torch.no_grad():\n",
        "        for i, batch in enumerate(data_val):\n",
        "            list_feature = torch.tensor(batch[0]).to(device).float()\n",
        "            list_adj = torch.tensor(batch[1]).to(device).float()\n",
        "            list_logP = torch.tensor(batch[2]).to(device).float()\n",
        "            list_logP = list_logP.view(-1,1)\n",
        "\n",
        "            model.eval()\n",
        "            list_pred_logP = model(list_feature, list_adj)\n",
        "            list_pred_logP.require_grad = False\n",
        "            val_loss = criterion(list_pred_logP, list_logP)\n",
        "            epoch_val_loss += val_loss.item()\n",
        "            \n",
        "            bar.update(len(list_feature))\n",
        "\n",
        "    epoch_val_loss /= len(data_val)\n",
        "    \n",
        "    return model, epoch_val_loss"
      ],
      "execution_count": 20,
      "outputs": []
    },
    {
      "cell_type": "code",
      "metadata": {
        "id": "jhGvrzkdRxKR"
      },
      "source": [
        "def test(model, device, data_test, args):\n",
        "    model.eval()\n",
        "    with torch.no_grad():\n",
        "        logP_total = list()\n",
        "        pred_logP_total = list()\n",
        "        for i, batch in enumerate(data_test):\n",
        "            list_feature = torch.tensor(batch[0]).to(device).float()\n",
        "            list_adj = torch.tensor(batch[1]).to(device).float()\n",
        "            list_logP = torch.tensor(batch[2]).to(device).float()\n",
        "            logP_total += list_logP.tolist()\n",
        "            list_logP = list_logP.view(-1,1)\n",
        "\n",
        "            list_pred_logP = model(list_feature, list_adj)\n",
        "            pred_logP_total += list_pred_logP.view(-1).tolist()\n",
        "\n",
        "        mae = mean_absolute_error(logP_total, pred_logP_total)\n",
        "        std = np.std(np.array(logP_total)-np.array(pred_logP_total))\n",
        "        \n",
        "    return mae, std, logP_total, pred_logP_total"
      ],
      "execution_count": 21,
      "outputs": []
    },
    {
      "cell_type": "code",
      "metadata": {
        "id": "DTstrsidRxKR"
      },
      "source": [
        "def experiment(dict_partition, device, bar, args):\n",
        "    time_start = time.time()\n",
        "    \n",
        "    model = GCNNet(args)\n",
        "    model.to(device)\n",
        "        \n",
        "    if args.optim == 'Adam':\n",
        "        optimizer = optim.Adam(model.parameters(),\n",
        "                               lr=args.lr,\n",
        "                               weight_decay=args.l2_coef)\n",
        "    elif args.optim == 'RMSprop':\n",
        "        optimizer = optim.RMSprop(model.parameters(),\n",
        "                               lr=args.lr,\n",
        "                               weight_decay=args.l2_coef)\n",
        "    elif args.optim == 'SGD':\n",
        "        optimizer = optim.SGD(model.parameters(),\n",
        "                               lr=args.lr,\n",
        "                               weight_decay=args.l2_coef)\n",
        "    else:\n",
        "        assert False, 'Undefined Optimizer Type'\n",
        "        \n",
        "    criterion = nn.MSELoss()\n",
        "    scheduler = optim.lr_scheduler.StepLR(optimizer,\n",
        "                                          step_size=args.step_size,\n",
        "                                          gamma=args.gamma)\n",
        "\n",
        "    list_train_loss = list()\n",
        "    list_val_loss = list()\n",
        "\n",
        "    data_train = DataLoader(dict_partition['train'], \n",
        "                            batch_size=args.batch_size,\n",
        "                            shuffle=args.shuffle)\n",
        "\n",
        "    data_val = DataLoader(dict_partition['val'],\n",
        "                          batch_size=args.batch_size,\n",
        "                          shuffle=args.shuffle)\n",
        "\n",
        "    for epoch in range(args.epoch):\n",
        "        scheduler.step()\n",
        "        model, train_loss = train(model, device, optimizer, criterion, data_train, bar, args)\n",
        "        list_train_loss.append(train_loss)\n",
        "        \n",
        "        model, val_loss = validate(model, device, criterion, data_val, bar, args)\n",
        "        list_val_loss.append(val_loss)\n",
        "\n",
        "    data_test = DataLoader(dict_partition['test'],\n",
        "                           batch_size=args.batch_size,\n",
        "                           shuffle=args.shuffle)\n",
        "\n",
        "    mae, std, logP_total, pred_logP_total = test(model, device, data_test, args)\n",
        "        \n",
        "    time_end = time.time()\n",
        "    time_required = time_end - time_start\n",
        "    \n",
        "    args.list_train_loss = list_train_loss\n",
        "    args.list_val_loss = list_val_loss\n",
        "    args.logP_total = logP_total\n",
        "    args.pred_logP_total = pred_logP_total\n",
        "    args.mae = mae\n",
        "    args.std = std\n",
        "    args.time_required = time_required\n",
        "    \n",
        "    return args"
      ],
      "execution_count": 22,
      "outputs": []
    },
    {
      "cell_type": "markdown",
      "metadata": {
        "id": "SuaHjFJ_RxKS"
      },
      "source": [
        "# 4. Visualization"
      ]
    },
    {
      "cell_type": "code",
      "metadata": {
        "id": "rfPYxFcBRxKS"
      },
      "source": [
        "def plot_performance(df_result, var1, var2):\n",
        "    fig, ax = plt.subplots(1, 2)\n",
        "    fig.set_size_inches(10, 5)\n",
        "    \n",
        "    df_mae = df_result.pivot(var1, var2, 'mae')\n",
        "    df_std = df_result.pivot(var1, var2, 'std')\n",
        "    df_mae = df_mae[df_mae.columns].astype(float)\n",
        "    df_std = df_std[df_std.columns].astype(float)\n",
        "    \n",
        "    hm_mae = sns.heatmap(df_mae, ax=ax[0], annot=True, fmt='f', linewidths=.5, cmap='YlGnBu')\n",
        "    hm_std = sns.heatmap(df_std, ax=ax[1], annot=True, fmt='f', linewidths=.5, cmap='YlGnBu')\n",
        "    \n",
        "    fig.suptitle('Performance depends on ' + var1 + ' vs ' + var2)\n",
        "    hm_mae.set_title('MAE depends on ' + var1 + ' vs ' + var2)\n",
        "    hm_std.set_title('Std depends on ' + var1 + ' vs ' + var2)    "
      ],
      "execution_count": 23,
      "outputs": []
    },
    {
      "cell_type": "code",
      "metadata": {
        "id": "kVrLDSKKRxKS"
      },
      "source": [
        "def plot_performance_bar(df_result, var1, var2):\n",
        "    fig, ax = plt.subplots(1, 2)\n",
        "    fig.set_size_inches(10, 5)\n",
        "    \n",
        "    sns.set_style(\"darkgrid\", {\"axes.facecolor\": \".9\"})\n",
        "    bar_mae = sns.barplot(x=var1, y='mae', hue=var2, data=df_result, ax=ax[0])\n",
        "    bar_std = sns.barplot(x=var1, y='std', hue=var2, data=df_result, ax=ax[1])\n",
        "    \n",
        "    bar_mae.set_title('MAE depends on ' + var1 + ' vs ' + var2)\n",
        "    bar_std.set_title('Std depends on ' + var1 + ' vs ' + var2)\n",
        "    fig.suptitle('Performance depends on ' + var1 + ' vs ' + var2)\n",
        "    "
      ],
      "execution_count": 24,
      "outputs": []
    },
    {
      "cell_type": "code",
      "metadata": {
        "id": "BquSpBfmRxKS"
      },
      "source": [
        "def plot_loss(df_result, var1, var2, ylim):\n",
        "    def plot(x, ylim=1.0, **kwargs):\n",
        "        plt.plot(x[0], **kwargs)\n",
        "        plt.ylim(0.0, ylim)\n",
        "    \n",
        "    sns.set_style(\"darkgrid\", {\"axes.facecolor\": \".9\"})\n",
        "    g = sns.FacetGrid(df_result, row=var1, col=var2, margin_titles=True)\n",
        "    g.map(plot, 'list_train_loss', ylim=ylim, label='Train Loss')\n",
        "    g.map(plot, 'list_val_loss', ylim=ylim, color='r', label='Validation Loss')\n",
        "    g.fig.suptitle('Loss vs Epochs depends on ' + var1 + ' vs ' + var2, size=16)\n",
        "    g.fig.subplots_adjust(top=.9)\n",
        "    plt.legend()\n",
        "    plt.show()"
      ],
      "execution_count": 25,
      "outputs": []
    },
    {
      "cell_type": "code",
      "metadata": {
        "id": "ik93hDEFRxKT"
      },
      "source": [
        "def plot_distribution(df_result, var1, var2):\n",
        "    def scatter(x, y, **kwargs):\n",
        "        plt.scatter(x[0], y[0], alpha=0.3, s=2)\n",
        "    def identity(x, y, **kwargs):\n",
        "        plt.plot(x[0], x[0], alpha=0.4, color='black')\n",
        "    \n",
        "    sns.set_style(\"darkgrid\", {\"axes.facecolor\": \".9\"})\n",
        "    g = sns.FacetGrid(df_result, row=var1, col=var2, margin_titles=True)\n",
        "    g.map(scatter, 'logP_total', 'pred_logP_total')\n",
        "    g.map(identity, 'logP_total', 'logP_total')\n",
        "    g.fig.suptitle('Truth Distribution depends on ' + var1 + ' vs ' + var2, size=16)\n",
        "    g.fig.subplots_adjust(top=.9)\n",
        "    plt.show()"
      ],
      "execution_count": 26,
      "outputs": []
    },
    {
      "cell_type": "markdown",
      "metadata": {
        "id": "KB3X4EwfRxKT"
      },
      "source": [
        "# 5. Experiment\n",
        "\n",
        "In this experiment, hyperparamter tunning will be done to find the best hyperparameter set for the __GCN__ model with __(gated) skip conenction__ and __attention__."
      ]
    },
    {
      "cell_type": "markdown",
      "metadata": {
        "id": "W1YLNgLHRxKT"
      },
      "source": [
        "# 5.1 Experiment 1. lr vs n_block"
      ]
    },
    {
      "cell_type": "code",
      "metadata": {
        "scrolled": true,
        "id": "avLZnK39RxKT"
      },
      "source": [
        "args.batch_size = 1024\n",
        "args.lr = 0.0001\n",
        "args.l2_coef = 0\n",
        "args.optim = 'Adam'\n",
        "args.epoch = 30\n",
        "args.n_block = 2\n",
        "args.n_layer = 2\n",
        "args.n_atom = 50\n",
        "args.in_dim = 58\n",
        "args.num_head = 2\n",
        "args.dropout=0.2\n",
        "args.hidden_dim = 64\n",
        "args.pred_dim1 = 256\n",
        "args.pred_dim2 = 128\n",
        "args.pred_dim3 = 128\n",
        "args.out_dim = 1\n",
        "args.bn = True\n",
        "args.sc = 'no'\n",
        "args.atn = False\n",
        "args.step_size = 10\n",
        "args.gamma = 0.1\n",
        "\n",
        "device = torch.device('cuda:0' if torch.cuda.is_available() else 'cpu')"
      ],
      "execution_count": 27,
      "outputs": []
    },
    {
      "cell_type": "code",
      "metadata": {
        "scrolled": false,
        "colab": {
          "base_uri": "https://localhost:8080/",
          "height": 1000,
          "referenced_widgets": [
            "7e34220c643a446b9512145380e7073d",
            "324269b3d40b490f8acfba9153be3437",
            "f30e8d26d96f44d9a66443b49ae477be",
            "86e5440d51e3442aa77447f5d30f5847",
            "480419c1003240aebda95e955cb15a19",
            "877f70aff74f4152b7615785f6fc10f9",
            "4bfa46dc5692442eaf1a4e89e1890ad5",
            "8a9dfb2ff23649daa1a68ae092b03265",
            "aa62a397b19a4774bf0b605860740753",
            "52ae28257b114967b5f7a2c019e83166",
            "20366412e1d343b1b5dfa8ebfe2c26e0"
          ]
        },
        "id": "oOnHkNckRxKU",
        "outputId": "08d554b0-ac05-4b7c-9643-de5901ff2b24"
      },
      "source": [
        "list_lr = [0.01, 0.001, 0.0001, 0.00001]\n",
        "list_n_block = [1, 2, 3]\n",
        "#list_lr = [0.001]\n",
        "#list_n_block = [2]\n",
        "var1 = \"lr\"\n",
        "var2 = \"n_block\"\n",
        "\n",
        "dict_result = dict()\n",
        "n_iter = len(list_n_block)*len(list_lr)*args.epoch*(len(dict_partition['train'])+len(dict_partition['val']))\n",
        "bar = tqdm_notebook(total=n_iter, file=sys.stdout, position=0)\n",
        "\n",
        "for lr in list_lr:\n",
        "    for n_block in list_n_block:\n",
        "        args.lr = lr\n",
        "        args.n_block = n_block\n",
        "        args.exp_name = var1+':'+str(lr)+'/'+var2+':'+str(n_block)\n",
        "        result = vars(experiment(dict_partition, device, bar, args))\n",
        "        print(args.exp_name + \" took \" + str(int(args.time_required)) + \"seconds.\")\n",
        "        dict_result[args.exp_name] = copy.deepcopy(result)\n",
        "        \n",
        "        torch.cuda.empty_cache()\n",
        "bar.close()\n",
        "\n",
        "df_result = pd.DataFrame(dict_result).transpose()\n",
        "df_result.to_json('lr vs n_block 50000.JSON', orient='table')"
      ],
      "execution_count": 28,
      "outputs": [
        {
          "output_type": "stream",
          "name": "stderr",
          "text": [
            "/usr/local/lib/python3.7/dist-packages/ipykernel_launcher.py:10: TqdmDeprecationWarning: This function will be removed in tqdm==5.0.0\n",
            "Please use `tqdm.notebook.tqdm` instead of `tqdm.tqdm_notebook`\n",
            "  # Remove the CWD from sys.path while we load stuff.\n"
          ]
        },
        {
          "output_type": "display_data",
          "data": {
            "application/vnd.jupyter.widget-view+json": {
              "model_id": "7e34220c643a446b9512145380e7073d",
              "version_minor": 0,
              "version_major": 2
            },
            "text/plain": [
              "  0%|          | 0/32400 [00:00<?, ?it/s]"
            ]
          },
          "metadata": {}
        },
        {
          "output_type": "stream",
          "name": "stderr",
          "text": [
            "/usr/local/lib/python3.7/dist-packages/torch/optim/lr_scheduler.py:134: UserWarning: Detected call of `lr_scheduler.step()` before `optimizer.step()`. In PyTorch 1.1.0 and later, you should call them in the opposite order: `optimizer.step()` before `lr_scheduler.step()`.  Failure to do this will result in PyTorch skipping the first value of the learning rate schedule. See more details at https://pytorch.org/docs/stable/optim.html#how-to-adjust-learning-rate\n",
            "  \"https://pytorch.org/docs/stable/optim.html#how-to-adjust-learning-rate\", UserWarning)\n",
            "/usr/local/lib/python3.7/dist-packages/ipykernel_launcher.py:4: UserWarning: To copy construct from a tensor, it is recommended to use sourceTensor.clone().detach() or sourceTensor.clone().detach().requires_grad_(True), rather than torch.tensor(sourceTensor).\n",
            "  after removing the cwd from sys.path.\n",
            "/usr/local/lib/python3.7/dist-packages/ipykernel_launcher.py:5: UserWarning: To copy construct from a tensor, it is recommended to use sourceTensor.clone().detach() or sourceTensor.clone().detach().requires_grad_(True), rather than torch.tensor(sourceTensor).\n",
            "  \"\"\"\n",
            "/usr/local/lib/python3.7/dist-packages/ipykernel_launcher.py:6: UserWarning: To copy construct from a tensor, it is recommended to use sourceTensor.clone().detach() or sourceTensor.clone().detach().requires_grad_(True), rather than torch.tensor(sourceTensor).\n",
            "  \n",
            "/usr/local/lib/python3.7/dist-packages/ipykernel_launcher.py:7: UserWarning: To copy construct from a tensor, it is recommended to use sourceTensor.clone().detach() or sourceTensor.clone().detach().requires_grad_(True), rather than torch.tensor(sourceTensor).\n",
            "  import sys\n",
            "/usr/local/lib/python3.7/dist-packages/ipykernel_launcher.py:8: UserWarning: To copy construct from a tensor, it is recommended to use sourceTensor.clone().detach() or sourceTensor.clone().detach().requires_grad_(True), rather than torch.tensor(sourceTensor).\n",
            "  \n",
            "/usr/local/lib/python3.7/dist-packages/ipykernel_launcher.py:9: UserWarning: To copy construct from a tensor, it is recommended to use sourceTensor.clone().detach() or sourceTensor.clone().detach().requires_grad_(True), rather than torch.tensor(sourceTensor).\n",
            "  if __name__ == '__main__':\n",
            "/usr/local/lib/python3.7/dist-packages/torch/optim/lr_scheduler.py:134: UserWarning: Detected call of `lr_scheduler.step()` before `optimizer.step()`. In PyTorch 1.1.0 and later, you should call them in the opposite order: `optimizer.step()` before `lr_scheduler.step()`.  Failure to do this will result in PyTorch skipping the first value of the learning rate schedule. See more details at https://pytorch.org/docs/stable/optim.html#how-to-adjust-learning-rate\n",
            "  \"https://pytorch.org/docs/stable/optim.html#how-to-adjust-learning-rate\", UserWarning)\n",
            "/usr/local/lib/python3.7/dist-packages/ipykernel_launcher.py:4: UserWarning: To copy construct from a tensor, it is recommended to use sourceTensor.clone().detach() or sourceTensor.clone().detach().requires_grad_(True), rather than torch.tensor(sourceTensor).\n",
            "  after removing the cwd from sys.path.\n",
            "/usr/local/lib/python3.7/dist-packages/ipykernel_launcher.py:5: UserWarning: To copy construct from a tensor, it is recommended to use sourceTensor.clone().detach() or sourceTensor.clone().detach().requires_grad_(True), rather than torch.tensor(sourceTensor).\n",
            "  \"\"\"\n",
            "/usr/local/lib/python3.7/dist-packages/ipykernel_launcher.py:6: UserWarning: To copy construct from a tensor, it is recommended to use sourceTensor.clone().detach() or sourceTensor.clone().detach().requires_grad_(True), rather than torch.tensor(sourceTensor).\n",
            "  \n",
            "/usr/local/lib/python3.7/dist-packages/ipykernel_launcher.py:7: UserWarning: To copy construct from a tensor, it is recommended to use sourceTensor.clone().detach() or sourceTensor.clone().detach().requires_grad_(True), rather than torch.tensor(sourceTensor).\n",
            "  import sys\n"
          ]
        },
        {
          "output_type": "stream",
          "name": "stdout",
          "text": [
            "lr:0.01/n_block:1 took 1seconds.\n"
          ]
        },
        {
          "output_type": "stream",
          "name": "stderr",
          "text": [
            "/usr/local/lib/python3.7/dist-packages/ipykernel_launcher.py:8: UserWarning: To copy construct from a tensor, it is recommended to use sourceTensor.clone().detach() or sourceTensor.clone().detach().requires_grad_(True), rather than torch.tensor(sourceTensor).\n",
            "  \n",
            "/usr/local/lib/python3.7/dist-packages/ipykernel_launcher.py:9: UserWarning: To copy construct from a tensor, it is recommended to use sourceTensor.clone().detach() or sourceTensor.clone().detach().requires_grad_(True), rather than torch.tensor(sourceTensor).\n",
            "  if __name__ == '__main__':\n",
            "/usr/local/lib/python3.7/dist-packages/torch/optim/lr_scheduler.py:134: UserWarning: Detected call of `lr_scheduler.step()` before `optimizer.step()`. In PyTorch 1.1.0 and later, you should call them in the opposite order: `optimizer.step()` before `lr_scheduler.step()`.  Failure to do this will result in PyTorch skipping the first value of the learning rate schedule. See more details at https://pytorch.org/docs/stable/optim.html#how-to-adjust-learning-rate\n",
            "  \"https://pytorch.org/docs/stable/optim.html#how-to-adjust-learning-rate\", UserWarning)\n",
            "/usr/local/lib/python3.7/dist-packages/ipykernel_launcher.py:4: UserWarning: To copy construct from a tensor, it is recommended to use sourceTensor.clone().detach() or sourceTensor.clone().detach().requires_grad_(True), rather than torch.tensor(sourceTensor).\n",
            "  after removing the cwd from sys.path.\n",
            "/usr/local/lib/python3.7/dist-packages/ipykernel_launcher.py:5: UserWarning: To copy construct from a tensor, it is recommended to use sourceTensor.clone().detach() or sourceTensor.clone().detach().requires_grad_(True), rather than torch.tensor(sourceTensor).\n",
            "  \"\"\"\n",
            "/usr/local/lib/python3.7/dist-packages/ipykernel_launcher.py:6: UserWarning: To copy construct from a tensor, it is recommended to use sourceTensor.clone().detach() or sourceTensor.clone().detach().requires_grad_(True), rather than torch.tensor(sourceTensor).\n",
            "  \n",
            "/usr/local/lib/python3.7/dist-packages/ipykernel_launcher.py:7: UserWarning: To copy construct from a tensor, it is recommended to use sourceTensor.clone().detach() or sourceTensor.clone().detach().requires_grad_(True), rather than torch.tensor(sourceTensor).\n",
            "  import sys\n"
          ]
        },
        {
          "output_type": "stream",
          "name": "stdout",
          "text": [
            "lr:0.01/n_block:2 took 1seconds.\n"
          ]
        },
        {
          "output_type": "stream",
          "name": "stderr",
          "text": [
            "/usr/local/lib/python3.7/dist-packages/ipykernel_launcher.py:8: UserWarning: To copy construct from a tensor, it is recommended to use sourceTensor.clone().detach() or sourceTensor.clone().detach().requires_grad_(True), rather than torch.tensor(sourceTensor).\n",
            "  \n",
            "/usr/local/lib/python3.7/dist-packages/ipykernel_launcher.py:9: UserWarning: To copy construct from a tensor, it is recommended to use sourceTensor.clone().detach() or sourceTensor.clone().detach().requires_grad_(True), rather than torch.tensor(sourceTensor).\n",
            "  if __name__ == '__main__':\n",
            "/usr/local/lib/python3.7/dist-packages/torch/optim/lr_scheduler.py:134: UserWarning: Detected call of `lr_scheduler.step()` before `optimizer.step()`. In PyTorch 1.1.0 and later, you should call them in the opposite order: `optimizer.step()` before `lr_scheduler.step()`.  Failure to do this will result in PyTorch skipping the first value of the learning rate schedule. See more details at https://pytorch.org/docs/stable/optim.html#how-to-adjust-learning-rate\n",
            "  \"https://pytorch.org/docs/stable/optim.html#how-to-adjust-learning-rate\", UserWarning)\n",
            "/usr/local/lib/python3.7/dist-packages/ipykernel_launcher.py:4: UserWarning: To copy construct from a tensor, it is recommended to use sourceTensor.clone().detach() or sourceTensor.clone().detach().requires_grad_(True), rather than torch.tensor(sourceTensor).\n",
            "  after removing the cwd from sys.path.\n",
            "/usr/local/lib/python3.7/dist-packages/ipykernel_launcher.py:5: UserWarning: To copy construct from a tensor, it is recommended to use sourceTensor.clone().detach() or sourceTensor.clone().detach().requires_grad_(True), rather than torch.tensor(sourceTensor).\n",
            "  \"\"\"\n",
            "/usr/local/lib/python3.7/dist-packages/ipykernel_launcher.py:6: UserWarning: To copy construct from a tensor, it is recommended to use sourceTensor.clone().detach() or sourceTensor.clone().detach().requires_grad_(True), rather than torch.tensor(sourceTensor).\n",
            "  \n",
            "/usr/local/lib/python3.7/dist-packages/ipykernel_launcher.py:7: UserWarning: To copy construct from a tensor, it is recommended to use sourceTensor.clone().detach() or sourceTensor.clone().detach().requires_grad_(True), rather than torch.tensor(sourceTensor).\n",
            "  import sys\n"
          ]
        },
        {
          "output_type": "stream",
          "name": "stdout",
          "text": [
            "lr:0.01/n_block:3 took 2seconds.\n"
          ]
        },
        {
          "output_type": "stream",
          "name": "stderr",
          "text": [
            "/usr/local/lib/python3.7/dist-packages/ipykernel_launcher.py:8: UserWarning: To copy construct from a tensor, it is recommended to use sourceTensor.clone().detach() or sourceTensor.clone().detach().requires_grad_(True), rather than torch.tensor(sourceTensor).\n",
            "  \n",
            "/usr/local/lib/python3.7/dist-packages/ipykernel_launcher.py:9: UserWarning: To copy construct from a tensor, it is recommended to use sourceTensor.clone().detach() or sourceTensor.clone().detach().requires_grad_(True), rather than torch.tensor(sourceTensor).\n",
            "  if __name__ == '__main__':\n",
            "/usr/local/lib/python3.7/dist-packages/torch/optim/lr_scheduler.py:134: UserWarning: Detected call of `lr_scheduler.step()` before `optimizer.step()`. In PyTorch 1.1.0 and later, you should call them in the opposite order: `optimizer.step()` before `lr_scheduler.step()`.  Failure to do this will result in PyTorch skipping the first value of the learning rate schedule. See more details at https://pytorch.org/docs/stable/optim.html#how-to-adjust-learning-rate\n",
            "  \"https://pytorch.org/docs/stable/optim.html#how-to-adjust-learning-rate\", UserWarning)\n",
            "/usr/local/lib/python3.7/dist-packages/ipykernel_launcher.py:4: UserWarning: To copy construct from a tensor, it is recommended to use sourceTensor.clone().detach() or sourceTensor.clone().detach().requires_grad_(True), rather than torch.tensor(sourceTensor).\n",
            "  after removing the cwd from sys.path.\n",
            "/usr/local/lib/python3.7/dist-packages/ipykernel_launcher.py:5: UserWarning: To copy construct from a tensor, it is recommended to use sourceTensor.clone().detach() or sourceTensor.clone().detach().requires_grad_(True), rather than torch.tensor(sourceTensor).\n",
            "  \"\"\"\n",
            "/usr/local/lib/python3.7/dist-packages/ipykernel_launcher.py:6: UserWarning: To copy construct from a tensor, it is recommended to use sourceTensor.clone().detach() or sourceTensor.clone().detach().requires_grad_(True), rather than torch.tensor(sourceTensor).\n",
            "  \n",
            "/usr/local/lib/python3.7/dist-packages/ipykernel_launcher.py:7: UserWarning: To copy construct from a tensor, it is recommended to use sourceTensor.clone().detach() or sourceTensor.clone().detach().requires_grad_(True), rather than torch.tensor(sourceTensor).\n",
            "  import sys\n"
          ]
        },
        {
          "output_type": "stream",
          "name": "stdout",
          "text": [
            "lr:0.001/n_block:1 took 1seconds.\n"
          ]
        },
        {
          "output_type": "stream",
          "name": "stderr",
          "text": [
            "/usr/local/lib/python3.7/dist-packages/ipykernel_launcher.py:8: UserWarning: To copy construct from a tensor, it is recommended to use sourceTensor.clone().detach() or sourceTensor.clone().detach().requires_grad_(True), rather than torch.tensor(sourceTensor).\n",
            "  \n",
            "/usr/local/lib/python3.7/dist-packages/ipykernel_launcher.py:9: UserWarning: To copy construct from a tensor, it is recommended to use sourceTensor.clone().detach() or sourceTensor.clone().detach().requires_grad_(True), rather than torch.tensor(sourceTensor).\n",
            "  if __name__ == '__main__':\n",
            "/usr/local/lib/python3.7/dist-packages/torch/optim/lr_scheduler.py:134: UserWarning: Detected call of `lr_scheduler.step()` before `optimizer.step()`. In PyTorch 1.1.0 and later, you should call them in the opposite order: `optimizer.step()` before `lr_scheduler.step()`.  Failure to do this will result in PyTorch skipping the first value of the learning rate schedule. See more details at https://pytorch.org/docs/stable/optim.html#how-to-adjust-learning-rate\n",
            "  \"https://pytorch.org/docs/stable/optim.html#how-to-adjust-learning-rate\", UserWarning)\n",
            "/usr/local/lib/python3.7/dist-packages/ipykernel_launcher.py:4: UserWarning: To copy construct from a tensor, it is recommended to use sourceTensor.clone().detach() or sourceTensor.clone().detach().requires_grad_(True), rather than torch.tensor(sourceTensor).\n",
            "  after removing the cwd from sys.path.\n",
            "/usr/local/lib/python3.7/dist-packages/ipykernel_launcher.py:5: UserWarning: To copy construct from a tensor, it is recommended to use sourceTensor.clone().detach() or sourceTensor.clone().detach().requires_grad_(True), rather than torch.tensor(sourceTensor).\n",
            "  \"\"\"\n",
            "/usr/local/lib/python3.7/dist-packages/ipykernel_launcher.py:6: UserWarning: To copy construct from a tensor, it is recommended to use sourceTensor.clone().detach() or sourceTensor.clone().detach().requires_grad_(True), rather than torch.tensor(sourceTensor).\n",
            "  \n",
            "/usr/local/lib/python3.7/dist-packages/ipykernel_launcher.py:7: UserWarning: To copy construct from a tensor, it is recommended to use sourceTensor.clone().detach() or sourceTensor.clone().detach().requires_grad_(True), rather than torch.tensor(sourceTensor).\n",
            "  import sys\n"
          ]
        },
        {
          "output_type": "stream",
          "name": "stdout",
          "text": [
            "lr:0.001/n_block:2 took 1seconds.\n"
          ]
        },
        {
          "output_type": "stream",
          "name": "stderr",
          "text": [
            "/usr/local/lib/python3.7/dist-packages/ipykernel_launcher.py:8: UserWarning: To copy construct from a tensor, it is recommended to use sourceTensor.clone().detach() or sourceTensor.clone().detach().requires_grad_(True), rather than torch.tensor(sourceTensor).\n",
            "  \n",
            "/usr/local/lib/python3.7/dist-packages/ipykernel_launcher.py:9: UserWarning: To copy construct from a tensor, it is recommended to use sourceTensor.clone().detach() or sourceTensor.clone().detach().requires_grad_(True), rather than torch.tensor(sourceTensor).\n",
            "  if __name__ == '__main__':\n",
            "/usr/local/lib/python3.7/dist-packages/torch/optim/lr_scheduler.py:134: UserWarning: Detected call of `lr_scheduler.step()` before `optimizer.step()`. In PyTorch 1.1.0 and later, you should call them in the opposite order: `optimizer.step()` before `lr_scheduler.step()`.  Failure to do this will result in PyTorch skipping the first value of the learning rate schedule. See more details at https://pytorch.org/docs/stable/optim.html#how-to-adjust-learning-rate\n",
            "  \"https://pytorch.org/docs/stable/optim.html#how-to-adjust-learning-rate\", UserWarning)\n",
            "/usr/local/lib/python3.7/dist-packages/ipykernel_launcher.py:4: UserWarning: To copy construct from a tensor, it is recommended to use sourceTensor.clone().detach() or sourceTensor.clone().detach().requires_grad_(True), rather than torch.tensor(sourceTensor).\n",
            "  after removing the cwd from sys.path.\n",
            "/usr/local/lib/python3.7/dist-packages/ipykernel_launcher.py:5: UserWarning: To copy construct from a tensor, it is recommended to use sourceTensor.clone().detach() or sourceTensor.clone().detach().requires_grad_(True), rather than torch.tensor(sourceTensor).\n",
            "  \"\"\"\n",
            "/usr/local/lib/python3.7/dist-packages/ipykernel_launcher.py:6: UserWarning: To copy construct from a tensor, it is recommended to use sourceTensor.clone().detach() or sourceTensor.clone().detach().requires_grad_(True), rather than torch.tensor(sourceTensor).\n",
            "  \n",
            "/usr/local/lib/python3.7/dist-packages/ipykernel_launcher.py:7: UserWarning: To copy construct from a tensor, it is recommended to use sourceTensor.clone().detach() or sourceTensor.clone().detach().requires_grad_(True), rather than torch.tensor(sourceTensor).\n",
            "  import sys\n"
          ]
        },
        {
          "output_type": "stream",
          "name": "stdout",
          "text": [
            "lr:0.001/n_block:3 took 2seconds.\n"
          ]
        },
        {
          "output_type": "stream",
          "name": "stderr",
          "text": [
            "/usr/local/lib/python3.7/dist-packages/ipykernel_launcher.py:8: UserWarning: To copy construct from a tensor, it is recommended to use sourceTensor.clone().detach() or sourceTensor.clone().detach().requires_grad_(True), rather than torch.tensor(sourceTensor).\n",
            "  \n",
            "/usr/local/lib/python3.7/dist-packages/ipykernel_launcher.py:9: UserWarning: To copy construct from a tensor, it is recommended to use sourceTensor.clone().detach() or sourceTensor.clone().detach().requires_grad_(True), rather than torch.tensor(sourceTensor).\n",
            "  if __name__ == '__main__':\n",
            "/usr/local/lib/python3.7/dist-packages/torch/optim/lr_scheduler.py:134: UserWarning: Detected call of `lr_scheduler.step()` before `optimizer.step()`. In PyTorch 1.1.0 and later, you should call them in the opposite order: `optimizer.step()` before `lr_scheduler.step()`.  Failure to do this will result in PyTorch skipping the first value of the learning rate schedule. See more details at https://pytorch.org/docs/stable/optim.html#how-to-adjust-learning-rate\n",
            "  \"https://pytorch.org/docs/stable/optim.html#how-to-adjust-learning-rate\", UserWarning)\n",
            "/usr/local/lib/python3.7/dist-packages/ipykernel_launcher.py:4: UserWarning: To copy construct from a tensor, it is recommended to use sourceTensor.clone().detach() or sourceTensor.clone().detach().requires_grad_(True), rather than torch.tensor(sourceTensor).\n",
            "  after removing the cwd from sys.path.\n",
            "/usr/local/lib/python3.7/dist-packages/ipykernel_launcher.py:5: UserWarning: To copy construct from a tensor, it is recommended to use sourceTensor.clone().detach() or sourceTensor.clone().detach().requires_grad_(True), rather than torch.tensor(sourceTensor).\n",
            "  \"\"\"\n",
            "/usr/local/lib/python3.7/dist-packages/ipykernel_launcher.py:6: UserWarning: To copy construct from a tensor, it is recommended to use sourceTensor.clone().detach() or sourceTensor.clone().detach().requires_grad_(True), rather than torch.tensor(sourceTensor).\n",
            "  \n",
            "/usr/local/lib/python3.7/dist-packages/ipykernel_launcher.py:7: UserWarning: To copy construct from a tensor, it is recommended to use sourceTensor.clone().detach() or sourceTensor.clone().detach().requires_grad_(True), rather than torch.tensor(sourceTensor).\n",
            "  import sys\n"
          ]
        },
        {
          "output_type": "stream",
          "name": "stdout",
          "text": [
            "lr:0.0001/n_block:1 took 1seconds.\n"
          ]
        },
        {
          "output_type": "stream",
          "name": "stderr",
          "text": [
            "/usr/local/lib/python3.7/dist-packages/ipykernel_launcher.py:8: UserWarning: To copy construct from a tensor, it is recommended to use sourceTensor.clone().detach() or sourceTensor.clone().detach().requires_grad_(True), rather than torch.tensor(sourceTensor).\n",
            "  \n",
            "/usr/local/lib/python3.7/dist-packages/ipykernel_launcher.py:9: UserWarning: To copy construct from a tensor, it is recommended to use sourceTensor.clone().detach() or sourceTensor.clone().detach().requires_grad_(True), rather than torch.tensor(sourceTensor).\n",
            "  if __name__ == '__main__':\n",
            "/usr/local/lib/python3.7/dist-packages/torch/optim/lr_scheduler.py:134: UserWarning: Detected call of `lr_scheduler.step()` before `optimizer.step()`. In PyTorch 1.1.0 and later, you should call them in the opposite order: `optimizer.step()` before `lr_scheduler.step()`.  Failure to do this will result in PyTorch skipping the first value of the learning rate schedule. See more details at https://pytorch.org/docs/stable/optim.html#how-to-adjust-learning-rate\n",
            "  \"https://pytorch.org/docs/stable/optim.html#how-to-adjust-learning-rate\", UserWarning)\n",
            "/usr/local/lib/python3.7/dist-packages/ipykernel_launcher.py:4: UserWarning: To copy construct from a tensor, it is recommended to use sourceTensor.clone().detach() or sourceTensor.clone().detach().requires_grad_(True), rather than torch.tensor(sourceTensor).\n",
            "  after removing the cwd from sys.path.\n",
            "/usr/local/lib/python3.7/dist-packages/ipykernel_launcher.py:5: UserWarning: To copy construct from a tensor, it is recommended to use sourceTensor.clone().detach() or sourceTensor.clone().detach().requires_grad_(True), rather than torch.tensor(sourceTensor).\n",
            "  \"\"\"\n",
            "/usr/local/lib/python3.7/dist-packages/ipykernel_launcher.py:6: UserWarning: To copy construct from a tensor, it is recommended to use sourceTensor.clone().detach() or sourceTensor.clone().detach().requires_grad_(True), rather than torch.tensor(sourceTensor).\n",
            "  \n",
            "/usr/local/lib/python3.7/dist-packages/ipykernel_launcher.py:7: UserWarning: To copy construct from a tensor, it is recommended to use sourceTensor.clone().detach() or sourceTensor.clone().detach().requires_grad_(True), rather than torch.tensor(sourceTensor).\n",
            "  import sys\n"
          ]
        },
        {
          "output_type": "stream",
          "name": "stdout",
          "text": [
            "lr:0.0001/n_block:2 took 1seconds.\n"
          ]
        },
        {
          "output_type": "stream",
          "name": "stderr",
          "text": [
            "/usr/local/lib/python3.7/dist-packages/ipykernel_launcher.py:8: UserWarning: To copy construct from a tensor, it is recommended to use sourceTensor.clone().detach() or sourceTensor.clone().detach().requires_grad_(True), rather than torch.tensor(sourceTensor).\n",
            "  \n",
            "/usr/local/lib/python3.7/dist-packages/ipykernel_launcher.py:9: UserWarning: To copy construct from a tensor, it is recommended to use sourceTensor.clone().detach() or sourceTensor.clone().detach().requires_grad_(True), rather than torch.tensor(sourceTensor).\n",
            "  if __name__ == '__main__':\n",
            "/usr/local/lib/python3.7/dist-packages/torch/optim/lr_scheduler.py:134: UserWarning: Detected call of `lr_scheduler.step()` before `optimizer.step()`. In PyTorch 1.1.0 and later, you should call them in the opposite order: `optimizer.step()` before `lr_scheduler.step()`.  Failure to do this will result in PyTorch skipping the first value of the learning rate schedule. See more details at https://pytorch.org/docs/stable/optim.html#how-to-adjust-learning-rate\n",
            "  \"https://pytorch.org/docs/stable/optim.html#how-to-adjust-learning-rate\", UserWarning)\n",
            "/usr/local/lib/python3.7/dist-packages/ipykernel_launcher.py:4: UserWarning: To copy construct from a tensor, it is recommended to use sourceTensor.clone().detach() or sourceTensor.clone().detach().requires_grad_(True), rather than torch.tensor(sourceTensor).\n",
            "  after removing the cwd from sys.path.\n",
            "/usr/local/lib/python3.7/dist-packages/ipykernel_launcher.py:5: UserWarning: To copy construct from a tensor, it is recommended to use sourceTensor.clone().detach() or sourceTensor.clone().detach().requires_grad_(True), rather than torch.tensor(sourceTensor).\n",
            "  \"\"\"\n",
            "/usr/local/lib/python3.7/dist-packages/ipykernel_launcher.py:6: UserWarning: To copy construct from a tensor, it is recommended to use sourceTensor.clone().detach() or sourceTensor.clone().detach().requires_grad_(True), rather than torch.tensor(sourceTensor).\n",
            "  \n",
            "/usr/local/lib/python3.7/dist-packages/ipykernel_launcher.py:7: UserWarning: To copy construct from a tensor, it is recommended to use sourceTensor.clone().detach() or sourceTensor.clone().detach().requires_grad_(True), rather than torch.tensor(sourceTensor).\n",
            "  import sys\n"
          ]
        },
        {
          "output_type": "stream",
          "name": "stdout",
          "text": [
            "lr:0.0001/n_block:3 took 2seconds.\n"
          ]
        },
        {
          "output_type": "stream",
          "name": "stderr",
          "text": [
            "/usr/local/lib/python3.7/dist-packages/ipykernel_launcher.py:8: UserWarning: To copy construct from a tensor, it is recommended to use sourceTensor.clone().detach() or sourceTensor.clone().detach().requires_grad_(True), rather than torch.tensor(sourceTensor).\n",
            "  \n",
            "/usr/local/lib/python3.7/dist-packages/ipykernel_launcher.py:9: UserWarning: To copy construct from a tensor, it is recommended to use sourceTensor.clone().detach() or sourceTensor.clone().detach().requires_grad_(True), rather than torch.tensor(sourceTensor).\n",
            "  if __name__ == '__main__':\n",
            "/usr/local/lib/python3.7/dist-packages/torch/optim/lr_scheduler.py:134: UserWarning: Detected call of `lr_scheduler.step()` before `optimizer.step()`. In PyTorch 1.1.0 and later, you should call them in the opposite order: `optimizer.step()` before `lr_scheduler.step()`.  Failure to do this will result in PyTorch skipping the first value of the learning rate schedule. See more details at https://pytorch.org/docs/stable/optim.html#how-to-adjust-learning-rate\n",
            "  \"https://pytorch.org/docs/stable/optim.html#how-to-adjust-learning-rate\", UserWarning)\n",
            "/usr/local/lib/python3.7/dist-packages/ipykernel_launcher.py:4: UserWarning: To copy construct from a tensor, it is recommended to use sourceTensor.clone().detach() or sourceTensor.clone().detach().requires_grad_(True), rather than torch.tensor(sourceTensor).\n",
            "  after removing the cwd from sys.path.\n",
            "/usr/local/lib/python3.7/dist-packages/ipykernel_launcher.py:5: UserWarning: To copy construct from a tensor, it is recommended to use sourceTensor.clone().detach() or sourceTensor.clone().detach().requires_grad_(True), rather than torch.tensor(sourceTensor).\n",
            "  \"\"\"\n",
            "/usr/local/lib/python3.7/dist-packages/ipykernel_launcher.py:6: UserWarning: To copy construct from a tensor, it is recommended to use sourceTensor.clone().detach() or sourceTensor.clone().detach().requires_grad_(True), rather than torch.tensor(sourceTensor).\n",
            "  \n",
            "/usr/local/lib/python3.7/dist-packages/ipykernel_launcher.py:7: UserWarning: To copy construct from a tensor, it is recommended to use sourceTensor.clone().detach() or sourceTensor.clone().detach().requires_grad_(True), rather than torch.tensor(sourceTensor).\n",
            "  import sys\n"
          ]
        },
        {
          "output_type": "stream",
          "name": "stdout",
          "text": [
            "lr:1e-05/n_block:1 took 1seconds.\n"
          ]
        },
        {
          "output_type": "stream",
          "name": "stderr",
          "text": [
            "/usr/local/lib/python3.7/dist-packages/ipykernel_launcher.py:8: UserWarning: To copy construct from a tensor, it is recommended to use sourceTensor.clone().detach() or sourceTensor.clone().detach().requires_grad_(True), rather than torch.tensor(sourceTensor).\n",
            "  \n",
            "/usr/local/lib/python3.7/dist-packages/ipykernel_launcher.py:9: UserWarning: To copy construct from a tensor, it is recommended to use sourceTensor.clone().detach() or sourceTensor.clone().detach().requires_grad_(True), rather than torch.tensor(sourceTensor).\n",
            "  if __name__ == '__main__':\n",
            "/usr/local/lib/python3.7/dist-packages/torch/optim/lr_scheduler.py:134: UserWarning: Detected call of `lr_scheduler.step()` before `optimizer.step()`. In PyTorch 1.1.0 and later, you should call them in the opposite order: `optimizer.step()` before `lr_scheduler.step()`.  Failure to do this will result in PyTorch skipping the first value of the learning rate schedule. See more details at https://pytorch.org/docs/stable/optim.html#how-to-adjust-learning-rate\n",
            "  \"https://pytorch.org/docs/stable/optim.html#how-to-adjust-learning-rate\", UserWarning)\n",
            "/usr/local/lib/python3.7/dist-packages/ipykernel_launcher.py:4: UserWarning: To copy construct from a tensor, it is recommended to use sourceTensor.clone().detach() or sourceTensor.clone().detach().requires_grad_(True), rather than torch.tensor(sourceTensor).\n",
            "  after removing the cwd from sys.path.\n",
            "/usr/local/lib/python3.7/dist-packages/ipykernel_launcher.py:5: UserWarning: To copy construct from a tensor, it is recommended to use sourceTensor.clone().detach() or sourceTensor.clone().detach().requires_grad_(True), rather than torch.tensor(sourceTensor).\n",
            "  \"\"\"\n",
            "/usr/local/lib/python3.7/dist-packages/ipykernel_launcher.py:6: UserWarning: To copy construct from a tensor, it is recommended to use sourceTensor.clone().detach() or sourceTensor.clone().detach().requires_grad_(True), rather than torch.tensor(sourceTensor).\n",
            "  \n",
            "/usr/local/lib/python3.7/dist-packages/ipykernel_launcher.py:7: UserWarning: To copy construct from a tensor, it is recommended to use sourceTensor.clone().detach() or sourceTensor.clone().detach().requires_grad_(True), rather than torch.tensor(sourceTensor).\n",
            "  import sys\n"
          ]
        },
        {
          "output_type": "stream",
          "name": "stdout",
          "text": [
            "lr:1e-05/n_block:2 took 1seconds.\n",
            "lr:1e-05/n_block:3 took 2seconds.\n"
          ]
        },
        {
          "output_type": "stream",
          "name": "stderr",
          "text": [
            "/usr/local/lib/python3.7/dist-packages/ipykernel_launcher.py:8: UserWarning: To copy construct from a tensor, it is recommended to use sourceTensor.clone().detach() or sourceTensor.clone().detach().requires_grad_(True), rather than torch.tensor(sourceTensor).\n",
            "  \n",
            "/usr/local/lib/python3.7/dist-packages/ipykernel_launcher.py:9: UserWarning: To copy construct from a tensor, it is recommended to use sourceTensor.clone().detach() or sourceTensor.clone().detach().requires_grad_(True), rather than torch.tensor(sourceTensor).\n",
            "  if __name__ == '__main__':\n"
          ]
        }
      ]
    },
    {
      "cell_type": "code",
      "metadata": {
        "scrolled": false,
        "colab": {
          "base_uri": "https://localhost:8080/",
          "height": 1000
        },
        "id": "ujRzCAzGRxKU",
        "outputId": "3f92c548-9deb-49fc-ab25-6e1dd09cd02f"
      },
      "source": [
        "df_result = pd.read_json('lr vs n_block 50000.JSON', orient='table')\n",
        "\n",
        "plot_performance(df_result, var1, var2)\n",
        "plot_performance_bar(df_result, var1, var2)\n",
        "plot_loss(df_result, var1, var2, 5)\n",
        "plot_distribution(df_result, var1, var2)"
      ],
      "execution_count": 29,
      "outputs": [
        {
          "output_type": "display_data",
          "data": {
            "image/png": "[encoded data removed]",
            "text/plain": [
              "<Figure size 720x360 with 4 Axes>"
            ]
          },
          "metadata": {
            "needs_background": "light"
          }
        },
        {
          "output_type": "display_data",
          "data": {
            "image/png": "[encoded data removed]",
            "text/plain": [
              "<Figure size 720x360 with 2 Axes>"
            ]
          },
          "metadata": {
            "needs_background": "light"
          }
        },
        {
          "output_type": "display_data",
          "data": {
            "image/png": "[encoded data removed]",
            "text/plain": [
              "<Figure size 648x864 with 12 Axes>"
            ]
          },
          "metadata": {}
        },
        {
          "output_type": "display_data",
          "data": {
            "image/png": "[encoded data removed]",
            "text/plain": [
              "<Figure size 648x864 with 12 Axes>"
            ]
          },
          "metadata": {}
        }
      ]
    },
    {
      "cell_type": "markdown",
      "metadata": {
        "id": "CO0pPrcxRxKU"
      },
      "source": [
        "## Experiment 1. lr vs n_block\n",
        "In this experiement, the preformance of regression was measured by the __Mean Absolute Error (MAE)__ and the __Standard Deviation (Std)__, with respect to the different __learning rate (lr)__ and __number of Skip Connection Block (n_block)__ used in the each model.\n",
        "\n",
        "The learning rate was chose to be the first hyperparameters to be tuned because if we find the best learning rate, no matter what the model architecture is, we can use that learning rate to future exepriemnts. Thus, the number of block, which effetcs the model architecture the most, was chose to be the second.\n",
        "#### Variable Domain\n",
        "- __lr__ : [0.01, 0.001, 0.0001, 0.00001]\n",
        "- __n_block__ : [1, 2, 3]\n",
        "\n",
        "### Results and Discussion\n",
        "Each figure at the top represents:\n",
        "1. The MAE and std value by heatmap, which shows the exact value of MAE and std.\n",
        "2. The MAE and std value by bar plot, which shows the tendency of performance depending on the variables.\n",
        "3. Train loss and validation loss.\n",
        "4. The distribution true logP value and predicted logP value of each molecule\n",
        "\n",
        "depending on the two variables.\n",
        "\n",
        "#### Notable Results\n",
        "- Learning rate of 0.001 showed the best performance.\n",
        "- There was no notable tendency between the learning rate and the number of GCN blocks.\n",
        "- No overfitting occured, but the models did not leanred with learning rate of 0.01.\n",
        "- Time spent for training each model was not that different depending on the number of GCN blocks.\n",
        "\n",
        "#### Discussion\n",
        "- Even though there are other parameters that defines a model, such as n_layer, usage of (gated) skip connection, etc, I assumed that n_block is the most important model-defining parameter. Since learning rate of 0.001 showed the best result irrespective of n_block, I concluded that 0.001 is the optimal learning rate of all of my models.\n",
        "- Model learned nothing with learning rate of 0.01. This is because the step of opimizer is too big to reach a local minimum.\n",
        "- As n_block increases, time spent on training increased, but not quite \n",
        "\n",
        "After this experiment, the learning rate and the number of GCN blocks were fixed to 0.001 and 3, which shoed the best performance."
      ]
    },
    {
      "cell_type": "markdown",
      "metadata": {
        "id": "YJKBwOo5RxKb"
      },
      "source": [
        "# 6. Best Model\n",
        "In this expeirment, the model with tunned hyperparamter set will be trained by 190000 data with 100 epochs to get the best performance with CNN model."
      ]
    },
    {
      "cell_type": "code",
      "metadata": {
        "colab": {
          "base_uri": "https://localhost:8080/",
          "height": 193,
          "referenced_widgets": [
            "58642dc928314ab08ac241321668ec32",
            "8c4897cc646c4f3498b7c337dece377a",
            "e3c5568b16684521b14c7b82fef5ce33",
            "3ba0cfaa1f5d413d94072e3abc135ec0",
            "bd8a249b253a4fa58194a9426c0a1531",
            "6d6ff05054fa4510a7438ad1bf55fc6e",
            "eaf704ba4acc44329fcb61bc479fb3a8",
            "8f711a7f916a4dfe91f70532fb980038",
            "b68c9a4904134b5abda475c20fe5e1a1",
            "c34e6cafa59e4240a4d3f47ff5608e50",
            "ec74cff8a6454fae9c3739f98c8ca3b2",
            "02bb05b366d64a62961427a3916b0815",
            "e8b86d7dfe644b8fa2e9b2483ee41ade",
            "09e3fd7bcd464cf192d031d39f721596",
            "3a507bd9d3ae40c192bc14ffe74c9550",
            "5e0e8b2f280d42e794ceab3b4c806481",
            "6f714748d58943e6992347069e7d0f8f",
            "053c430d945c4e689e4c73249dc8f535",
            "53f4a990999e49d68742e27029176252",
            "0e9d64afa18f4e399b793ab70ed716da",
            "fdabef0fd2fc4c21b7c7a24c831a3e49",
            "191f8a90fa254efcb4b957b468da58a3"
          ]
        },
        "id": "yNGbYxy0RxKc",
        "outputId": "a86b34b5-f11b-4a4c-e715-294958cfba5d"
      },
      "source": [
        "list_smi, list_logP = read_ZINC_smiles('ZINC.smiles', 5000)\n",
        "list_feature, list_adj = convert_to_graph(list_smi)\n",
        "dict_partition = partition(list_feature, list_adj, list_logP, args)"
      ],
      "execution_count": 33,
      "outputs": [
        {
          "output_type": "stream",
          "name": "stderr",
          "text": [
            "/usr/local/lib/python3.7/dist-packages/ipykernel_launcher.py:8: TqdmDeprecationWarning: This function will be removed in tqdm==5.0.0\n",
            "Please use `tqdm.notebook.tqdm` instead of `tqdm.tqdm_notebook`\n",
            "  \n"
          ]
        },
        {
          "output_type": "display_data",
          "data": {
            "application/vnd.jupyter.widget-view+json": {
              "model_id": "58642dc928314ab08ac241321668ec32",
              "version_minor": 0,
              "version_major": 2
            },
            "text/plain": [
              "Reading Data:   0%|          | 0/5000 [00:00<?, ?it/s]"
            ]
          },
          "metadata": {}
        },
        {
          "output_type": "stream",
          "name": "stderr",
          "text": [
            "/usr/local/lib/python3.7/dist-packages/ipykernel_launcher.py:43: TqdmDeprecationWarning: This function will be removed in tqdm==5.0.0\n",
            "Please use `tqdm.notebook.tqdm` instead of `tqdm.tqdm_notebook`\n"
          ]
        },
        {
          "output_type": "display_data",
          "data": {
            "application/vnd.jupyter.widget-view+json": {
              "model_id": "02bb05b366d64a62961427a3916b0815",
              "version_minor": 0,
              "version_major": 2
            },
            "text/plain": [
              "Converting to Graph:   0%|          | 0/5000 [00:00<?, ?it/s]"
            ]
          },
          "metadata": {}
        }
      ]
    },
    {
      "cell_type": "code",
      "metadata": {
        "id": "QuI9znj-RxKc"
      },
      "source": [
        "args.batch_size = 100\n",
        "args.lr = 0.001\n",
        "args.l2_coef = 0\n",
        "args.optim = 'Adam'\n",
        "args.epoch = 100\n",
        "args.n_block = 3\n",
        "args.n_layer = 1\n",
        "args.n_atom = 50\n",
        "args.in_dim = 58\n",
        "args.hidden_dim = 256\n",
        "args.pred_dim1 = 256\n",
        "args.pred_dim2 = 128\n",
        "args.pred_dim3 = 256\n",
        "args.out_dim = 1\n",
        "args.bn = True\n",
        "args.sc = 'gsc'\n",
        "args.atn = True\n",
        "args.num_head = 16\n",
        "args.dropout = 0.2\n",
        "args.step_size = 10\n",
        "args.gamma = 0.1\n",
        "\n",
        "device = torch.device('cuda:0' if torch.cuda.is_available() else 'cpu')"
      ],
      "execution_count": 34,
      "outputs": []
    },
    {
      "cell_type": "code",
      "metadata": {
        "colab": {
          "base_uri": "https://localhost:8080/",
          "height": 381,
          "referenced_widgets": [
            "38a0b4fa27b1427e86de1c0694f6525f",
            "fdf118000e2d47d9a323798a1653c3f4",
            "1ad6a6cba35e4400a1cca256c3554f3c",
            "961beb8dc913447f89733b2a296cabd0",
            "cbd5e56d14714a618e461e5b6165bae5",
            "df1cae9c53f046948515a752dac2b1b9",
            "6054aaa522b14eb693ecb119c63ff835",
            "996a495843014e6da2a5285d525bd5b0",
            "3b8eb6f8b1a5484f92be60a635ce8262",
            "b29d424b3c2c46908de3d3f19357d204",
            "ae6c0013bb924abdbe6cbe22363837a6"
          ]
        },
        "id": "BsT9jvodRxKc",
        "outputId": "bf1df306-19e7-4e02-a160-852993c5f7d3"
      },
      "source": [
        "dict_result = dict()\n",
        "n_iter = args.epoch*(len(dict_partition['train'])+len(dict_partition['val']))\n",
        "bar = tqdm_notebook(total=n_iter, file=sys.stdout, position=0)\n",
        "\n",
        "args.exp_name = \"result 190000\"\n",
        "result = vars(experiment(dict_partition, device, bar, args))\n",
        "dict_result[args.exp_name] = copy.deepcopy(result)\n",
        "\n",
        "torch.cuda.empty_cache()\n",
        "bar.close()\n",
        "\n",
        "df_result = pd.DataFrame(dict_result).transpose()\n",
        "df_result.to_json('result 190000.JSON', orient='table')"
      ],
      "execution_count": 35,
      "outputs": [
        {
          "output_type": "stream",
          "name": "stderr",
          "text": [
            "/usr/local/lib/python3.7/dist-packages/ipykernel_launcher.py:3: TqdmDeprecationWarning: This function will be removed in tqdm==5.0.0\n",
            "Please use `tqdm.notebook.tqdm` instead of `tqdm.tqdm_notebook`\n",
            "  This is separate from the ipykernel package so we can avoid doing imports until\n"
          ]
        },
        {
          "output_type": "display_data",
          "data": {
            "application/vnd.jupyter.widget-view+json": {
              "model_id": "38a0b4fa27b1427e86de1c0694f6525f",
              "version_minor": 0,
              "version_major": 2
            },
            "text/plain": [
              "  0%|          | 0/450000 [00:00<?, ?it/s]"
            ]
          },
          "metadata": {}
        },
        {
          "output_type": "stream",
          "name": "stderr",
          "text": [
            "/usr/local/lib/python3.7/dist-packages/torch/optim/lr_scheduler.py:134: UserWarning: Detected call of `lr_scheduler.step()` before `optimizer.step()`. In PyTorch 1.1.0 and later, you should call them in the opposite order: `optimizer.step()` before `lr_scheduler.step()`.  Failure to do this will result in PyTorch skipping the first value of the learning rate schedule. See more details at https://pytorch.org/docs/stable/optim.html#how-to-adjust-learning-rate\n",
            "  \"https://pytorch.org/docs/stable/optim.html#how-to-adjust-learning-rate\", UserWarning)\n",
            "/usr/local/lib/python3.7/dist-packages/ipykernel_launcher.py:4: UserWarning: To copy construct from a tensor, it is recommended to use sourceTensor.clone().detach() or sourceTensor.clone().detach().requires_grad_(True), rather than torch.tensor(sourceTensor).\n",
            "  after removing the cwd from sys.path.\n",
            "/usr/local/lib/python3.7/dist-packages/ipykernel_launcher.py:5: UserWarning: To copy construct from a tensor, it is recommended to use sourceTensor.clone().detach() or sourceTensor.clone().detach().requires_grad_(True), rather than torch.tensor(sourceTensor).\n",
            "  \"\"\"\n",
            "/usr/local/lib/python3.7/dist-packages/ipykernel_launcher.py:6: UserWarning: To copy construct from a tensor, it is recommended to use sourceTensor.clone().detach() or sourceTensor.clone().detach().requires_grad_(True), rather than torch.tensor(sourceTensor).\n",
            "  \n",
            "/usr/local/lib/python3.7/dist-packages/ipykernel_launcher.py:7: UserWarning: To copy construct from a tensor, it is recommended to use sourceTensor.clone().detach() or sourceTensor.clone().detach().requires_grad_(True), rather than torch.tensor(sourceTensor).\n",
            "  import sys\n",
            "/usr/local/lib/python3.7/dist-packages/ipykernel_launcher.py:8: UserWarning: To copy construct from a tensor, it is recommended to use sourceTensor.clone().detach() or sourceTensor.clone().detach().requires_grad_(True), rather than torch.tensor(sourceTensor).\n",
            "  \n",
            "/usr/local/lib/python3.7/dist-packages/ipykernel_launcher.py:9: UserWarning: To copy construct from a tensor, it is recommended to use sourceTensor.clone().detach() or sourceTensor.clone().detach().requires_grad_(True), rather than torch.tensor(sourceTensor).\n",
            "  if __name__ == '__main__':\n"
          ]
        }
      ]
    },
    {
      "cell_type": "code",
      "metadata": {
        "colab": {
          "base_uri": "https://localhost:8080/"
        },
        "id": "UTrisrY1T47B",
        "outputId": "154f8f01-a229-4fbd-c303-7f8cfc1a130a"
      },
      "source": [
        "df_result['list_train_loss']"
      ],
      "execution_count": 36,
      "outputs": [
        {
          "output_type": "execute_result",
          "data": {
            "text/plain": [
              "result 190000    [1.8246018767356873, 1.2969790622591972, 1.101...\n",
              "Name: list_train_loss, dtype: object"
            ]
          },
          "metadata": {},
          "execution_count": 36
        }
      ]
    },
    {
      "cell_type": "code",
      "metadata": {
        "colab": {
          "base_uri": "https://localhost:8080/",
          "height": 375
        },
        "id": "UybqXqZVRxKc",
        "outputId": "199bc7b0-1478-48e8-8319-654fc6e006f6"
      },
      "source": [
        "df_result = pd.read_json('result 190000.JSON', orient='table')\n",
        "\n",
        "print(\"MAE: \" + str(df_result['mae'][0]))\n",
        "print(\"Std: \" + str(df_result['std'][0]))\n",
        "\n",
        "fig, ax = plt.subplots(1, 2)\n",
        "fig.set_size_inches(10, 5)\n",
        "sns.set_style(\"darkgrid\", {\"axes.facecolor\": \".9\"})\n",
        "\n",
        "ax[0].plot(df_result['list_train_loss'][0], label='Train Loss')\n",
        "ax[0].plot(df_result['list_val_loss'][0], label='Validation Loss')\n",
        "ax[0].set_ylim([0, 15])\n",
        "ax[0].legend()\n",
        "ax[1].scatter(df_result['logP_total'][0], df_result['pred_logP_total'][0], alpha=0.3, s=2)\n",
        "ax[1].plot(df_result['logP_total'][0], df_result['logP_total'][0], color='black', alpha=0.4)"
      ],
      "execution_count": 37,
      "outputs": [
        {
          "output_type": "stream",
          "name": "stdout",
          "text": [
            "MAE: 0.2109341076\n",
            "Std: 0.2608661795\n"
          ]
        },
        {
          "output_type": "execute_result",
          "data": {
            "text/plain": [
              "[<matplotlib.lines.Line2D at 0x7f35cbacbe10>]"
            ]
          },
          "metadata": {},
          "execution_count": 37
        },
        {
          "output_type": "display_data",
          "data": {
            "image/png": "[encoded data removed]",
            "text/plain": [
              "<Figure size 720x360 with 2 Axes>"
            ]
          },
          "metadata": {}
        }
      ]
    },
    {
      "cell_type": "code",
      "metadata": {
        "colab": {
          "base_uri": "https://localhost:8080/",
          "height": 1000
        },
        "id": "-p6dVGiARxKd",
        "outputId": "a89f07a1-d473-4eb1-d526-7bb830418f54"
      },
      "source": [
        "df_result = pd.read_json('result 190000.JSON', orient='table')\n",
        "\n",
        "plot_performance(df_result, var1, var2)\n",
        "plot_performance_bar(df_result, var1, var2)\n",
        "plot_loss(df_result, var1, var2, 15)\n",
        "plot_distribution(df_result, var1, var2)"
      ],
      "execution_count": 38,
      "outputs": [
        {
          "output_type": "display_data",
          "data": {
            "image/png": "[encoded data removed]",
            "text/plain": [
              "<Figure size 720x360 with 4 Axes>"
            ]
          },
          "metadata": {}
        },
        {
          "output_type": "display_data",
          "data": {
            "image/png": "[encoded data removed]",
            "text/plain": [
              "<Figure size 720x360 with 2 Axes>"
            ]
          },
          "metadata": {}
        },
        {
          "output_type": "display_data",
          "data": {
            "image/png": "[encoded data removed]",
            "text/plain": [
              "<Figure size 216x216 with 1 Axes>"
            ]
          },
          "metadata": {}
        },
        {
          "output_type": "display_data",
          "data": {
            "image/png": "[encoded data removed]",
            "text/plain": [
              "<Figure size 216x216 with 1 Axes>"
            ]
          },
          "metadata": {}
        }
      ]
    }
  ]
}