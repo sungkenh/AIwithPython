{
 "cells": [
  {
   "cell_type": "markdown",
   "metadata": {},
   "source": [
    "# 파일 다루기\n",
    "- 파일 열기 open(), with로 열기\n",
    "- csv, xlsx 파일 다루기\n",
    "- zip 파일 다루기\n",
    "- 폴더 내 파일 목록 다루기 (glob, listdir)\n",
    "- 폴더/파일 생성과 삭제"
   ]
  },
  {
   "cell_type": "markdown",
   "metadata": {
    "colab_type": "text",
    "id": "jLfWrjIzYyFK"
   },
   "source": [
    "## 파일 열기"
   ]
  },
  {
   "cell_type": "code",
   "execution_count": 1,
   "metadata": {
    "colab": {},
    "colab_type": "code",
    "id": "L05r6BjGYyFN"
   },
   "outputs": [],
   "source": [
    "# 쓰기 전용으로 파일 열기 (write)\n",
    "# 파일이 없으면 새로 만든다\n",
    "f = open(\"test.csv\", \"w\")\n",
    "f.write(\"a,b,c,d,e \\n\")\n",
    "f.write(\"1,2,3,4,5 \\n\")\n",
    "f.close()"
   ]
  },
  {
   "cell_type": "code",
   "execution_count": 3,
   "metadata": {
    "colab": {},
    "colab_type": "code",
    "id": "kNjfBalRYyFS",
    "outputId": "4e278086-c5f9-4411-d614-610c787ba914"
   },
   "outputs": [
    {
     "name": "stdout",
     "output_type": "stream",
     "text": [
      "a,b,c,d,e \n",
      "1,2,3,4,5 \n",
      "\n"
     ]
    }
   ],
   "source": [
    "# 파일 내용 보기\n",
    "with open('test.csv') as f:\n",
    "    contents = f.read()\n",
    "    print(contents)"
   ]
  },
  {
   "cell_type": "markdown",
   "metadata": {},
   "source": [
    "### with 사용\n",
    "- 파일을 열 때 with를 사용하면, 해당 블록을 나갈 때 열린 파일을 닫는다\n",
    "- 즉, close 호출을 잊어버려도 안전하게 파일을 닫는다"
   ]
  },
  {
   "cell_type": "code",
   "execution_count": 4,
   "metadata": {
    "colab": {},
    "colab_type": "code",
    "id": "kNjfBalRYyFS",
    "outputId": "4e278086-c5f9-4411-d614-610c787ba914"
   },
   "outputs": [],
   "source": [
    "# 운영체제 명령으로 보기\n",
    "# !cat test.csv  # 리눅스나 맥에서\n",
    "# !type test.csv # 윈도우에서"
   ]
  },
  {
   "cell_type": "markdown",
   "metadata": {
    "colab_type": "text",
    "id": "hIhIolvRYyFi"
   },
   "source": [
    "### 파일 오픈 옵션\n",
    "'r'\t읽기 (디폴트)  \n",
    "'w'\t쓰기 (파일이 없었으면 새로 생성하며 이미 있었으면 덮어쓴다)  \n",
    "'a'\t맨 뒤에 추가 (appending), 파일이 없었으면 새로 생성  \n",
    "'t'\t텍스트 모드로 오픈 (디폴트)  \n",
    "'b'\t바이너리 모드로 오픈  \n",
    "'+'\t읽기 쓰기 모두 가능  "
   ]
  },
  {
   "cell_type": "code",
   "execution_count": 5,
   "metadata": {
    "colab": {},
    "colab_type": "code",
    "id": "EI1JWjfPYyFX"
   },
   "outputs": [],
   "source": [
    "# 기존 파일에 추가하는 옵션으로 파일 열기 (append)\n",
    "with open(\"test.csv\", \"a\") as f:\n",
    "    f.write(\"6,7,8,9,10 \\n\")\n",
    "    f.write(\"11,12,13,14,15 \\n\")\n",
    "    f.write(\"16,17,18,19,20 \\n\")"
   ]
  },
  {
   "cell_type": "code",
   "execution_count": 6,
   "metadata": {
    "colab": {},
    "colab_type": "code",
    "id": "triCLfbsYyFb",
    "outputId": "fd9dfc59-8480-4bba-92bd-5f2e055f92ae"
   },
   "outputs": [
    {
     "name": "stdout",
     "output_type": "stream",
     "text": [
      "a,b,c,d,e \n",
      "1,2,3,4,5 \n",
      "6,7,8,9,10 \n",
      "11,12,13,14,15 \n",
      "16,17,18,19,20 \n",
      "\n"
     ]
    }
   ],
   "source": [
    "with open('test.csv') as f: \n",
    "    print(f.read())"
   ]
  },
  {
   "cell_type": "markdown",
   "metadata": {},
   "source": [
    "### 한줄씩 읽기, readline()"
   ]
  },
  {
   "cell_type": "code",
   "execution_count": 10,
   "metadata": {},
   "outputs": [
    {
     "name": "stdout",
     "output_type": "stream",
     "text": [
      "a,b,c,d,e \n",
      "\n",
      "1,2,3,4,5 \n",
      "\n",
      "6,7,8,9,10 \n",
      "\n",
      "11,12,13,14,15 \n",
      "\n",
      "16,17,18,19,20 \n",
      "\n"
     ]
    }
   ],
   "source": [
    "with open(\"test.csv\",'r') as f:\n",
    "    while True:\n",
    "        line = f.readline()\n",
    "        if not line: \n",
    "            break\n",
    "        print(line)"
   ]
  },
  {
   "cell_type": "markdown",
   "metadata": {},
   "source": [
    "### 리스트로 한번에 읽기,  readlines()"
   ]
  },
  {
   "cell_type": "code",
   "execution_count": 11,
   "metadata": {},
   "outputs": [
    {
     "name": "stdout",
     "output_type": "stream",
     "text": [
      "['a,b,c,d,e \\n', '1,2,3,4,5 \\n', '6,7,8,9,10 \\n', '11,12,13,14,15 \\n', '16,17,18,19,20 \\n']\n"
     ]
    }
   ],
   "source": [
    "with open(\"test.csv\",'r') as f:\n",
    "    lines = f.readlines()\n",
    "    print(lines)"
   ]
  },
  {
   "cell_type": "code",
   "execution_count": 12,
   "metadata": {},
   "outputs": [
    {
     "data": {
      "text/plain": [
       "['a,b,c,d,e \\n',\n",
       " '1,2,3,4,5 \\n',\n",
       " '6,7,8,9,10 \\n',\n",
       " '11,12,13,14,15 \\n',\n",
       " '16,17,18,19,20 \\n']"
      ]
     },
     "execution_count": 12,
     "metadata": {},
     "output_type": "execute_result"
    }
   ],
   "source": [
    "lines"
   ]
  },
  {
   "cell_type": "markdown",
   "metadata": {},
   "source": [
    "## csv 파일을 데이터프레임으로 바로 읽기"
   ]
  },
  {
   "cell_type": "code",
   "execution_count": 13,
   "metadata": {
    "colab": {},
    "colab_type": "code",
    "id": "v0qkwUKOYyFs",
    "outputId": "1add2457-193d-4836-a9f5-2a76557092ae"
   },
   "outputs": [
    {
     "data": {
      "text/html": [
       "<div>\n",
       "<style scoped>\n",
       "    .dataframe tbody tr th:only-of-type {\n",
       "        vertical-align: middle;\n",
       "    }\n",
       "\n",
       "    .dataframe tbody tr th {\n",
       "        vertical-align: top;\n",
       "    }\n",
       "\n",
       "    .dataframe thead th {\n",
       "        text-align: right;\n",
       "    }\n",
       "</style>\n",
       "<table border=\"1\" class=\"dataframe\">\n",
       "  <thead>\n",
       "    <tr style=\"text-align: right;\">\n",
       "      <th></th>\n",
       "      <th>a</th>\n",
       "      <th>b</th>\n",
       "      <th>c</th>\n",
       "      <th>d</th>\n",
       "      <th>e</th>\n",
       "    </tr>\n",
       "  </thead>\n",
       "  <tbody>\n",
       "    <tr>\n",
       "      <th>0</th>\n",
       "      <td>1</td>\n",
       "      <td>2</td>\n",
       "      <td>3</td>\n",
       "      <td>4</td>\n",
       "      <td>5</td>\n",
       "    </tr>\n",
       "    <tr>\n",
       "      <th>1</th>\n",
       "      <td>6</td>\n",
       "      <td>7</td>\n",
       "      <td>8</td>\n",
       "      <td>9</td>\n",
       "      <td>10</td>\n",
       "    </tr>\n",
       "    <tr>\n",
       "      <th>2</th>\n",
       "      <td>11</td>\n",
       "      <td>12</td>\n",
       "      <td>13</td>\n",
       "      <td>14</td>\n",
       "      <td>15</td>\n",
       "    </tr>\n",
       "    <tr>\n",
       "      <th>3</th>\n",
       "      <td>16</td>\n",
       "      <td>17</td>\n",
       "      <td>18</td>\n",
       "      <td>19</td>\n",
       "      <td>20</td>\n",
       "    </tr>\n",
       "  </tbody>\n",
       "</table>\n",
       "</div>"
      ],
      "text/plain": [
       "    a   b   c   d  e \n",
       "0   1   2   3   4   5\n",
       "1   6   7   8   9  10\n",
       "2  11  12  13  14  15\n",
       "3  16  17  18  19  20"
      ]
     },
     "execution_count": 13,
     "metadata": {},
     "output_type": "execute_result"
    }
   ],
   "source": [
    "import pandas as pd \n",
    "\n",
    "df = pd.read_csv('test.csv')  \n",
    "df\n",
    "# 디폴트로 첫 행을 컬럼명으로 사용한다"
   ]
  },
  {
   "cell_type": "markdown",
   "metadata": {},
   "source": [
    "### 첫 행도 데이터로 취급하기\n",
    "- 헤더(컬럼명 등)가 없는 경우, 즉 데이터만 들어있는 경우\n",
    "- header=None 사용\n",
    "- 여러 행의 헤더가 있는 경우는 header= 2 등으로 행을 제거한다"
   ]
  },
  {
   "cell_type": "code",
   "execution_count": 14,
   "metadata": {
    "colab": {},
    "colab_type": "code",
    "id": "R-Ch0w36YyF0",
    "outputId": "b55157cd-4b6d-4709-e537-f163bbe77817"
   },
   "outputs": [
    {
     "data": {
      "text/html": [
       "<div>\n",
       "<style scoped>\n",
       "    .dataframe tbody tr th:only-of-type {\n",
       "        vertical-align: middle;\n",
       "    }\n",
       "\n",
       "    .dataframe tbody tr th {\n",
       "        vertical-align: top;\n",
       "    }\n",
       "\n",
       "    .dataframe thead th {\n",
       "        text-align: right;\n",
       "    }\n",
       "</style>\n",
       "<table border=\"1\" class=\"dataframe\">\n",
       "  <thead>\n",
       "    <tr style=\"text-align: right;\">\n",
       "      <th></th>\n",
       "      <th>0</th>\n",
       "      <th>1</th>\n",
       "      <th>2</th>\n",
       "      <th>3</th>\n",
       "      <th>4</th>\n",
       "    </tr>\n",
       "  </thead>\n",
       "  <tbody>\n",
       "    <tr>\n",
       "      <th>0</th>\n",
       "      <td>a</td>\n",
       "      <td>b</td>\n",
       "      <td>c</td>\n",
       "      <td>d</td>\n",
       "      <td>e</td>\n",
       "    </tr>\n",
       "    <tr>\n",
       "      <th>1</th>\n",
       "      <td>1</td>\n",
       "      <td>2</td>\n",
       "      <td>3</td>\n",
       "      <td>4</td>\n",
       "      <td>5</td>\n",
       "    </tr>\n",
       "    <tr>\n",
       "      <th>2</th>\n",
       "      <td>6</td>\n",
       "      <td>7</td>\n",
       "      <td>8</td>\n",
       "      <td>9</td>\n",
       "      <td>10</td>\n",
       "    </tr>\n",
       "    <tr>\n",
       "      <th>3</th>\n",
       "      <td>11</td>\n",
       "      <td>12</td>\n",
       "      <td>13</td>\n",
       "      <td>14</td>\n",
       "      <td>15</td>\n",
       "    </tr>\n",
       "    <tr>\n",
       "      <th>4</th>\n",
       "      <td>16</td>\n",
       "      <td>17</td>\n",
       "      <td>18</td>\n",
       "      <td>19</td>\n",
       "      <td>20</td>\n",
       "    </tr>\n",
       "  </tbody>\n",
       "</table>\n",
       "</div>"
      ],
      "text/plain": [
       "    0   1   2   3    4\n",
       "0   a   b   c   d   e \n",
       "1   1   2   3   4   5 \n",
       "2   6   7   8   9  10 \n",
       "3  11  12  13  14  15 \n",
       "4  16  17  18  19  20 "
      ]
     },
     "execution_count": 14,
     "metadata": {},
     "output_type": "execute_result"
    }
   ],
   "source": [
    "pd.read_csv('test.csv', header=None) "
   ]
  },
  {
   "cell_type": "code",
   "execution_count": 15,
   "metadata": {},
   "outputs": [
    {
     "data": {
      "text/html": [
       "<div>\n",
       "<style scoped>\n",
       "    .dataframe tbody tr th:only-of-type {\n",
       "        vertical-align: middle;\n",
       "    }\n",
       "\n",
       "    .dataframe tbody tr th {\n",
       "        vertical-align: top;\n",
       "    }\n",
       "\n",
       "    .dataframe thead th {\n",
       "        text-align: right;\n",
       "    }\n",
       "</style>\n",
       "<table border=\"1\" class=\"dataframe\">\n",
       "  <thead>\n",
       "    <tr style=\"text-align: right;\">\n",
       "      <th></th>\n",
       "      <th>6</th>\n",
       "      <th>7</th>\n",
       "      <th>8</th>\n",
       "      <th>9</th>\n",
       "      <th>10</th>\n",
       "    </tr>\n",
       "  </thead>\n",
       "  <tbody>\n",
       "    <tr>\n",
       "      <th>0</th>\n",
       "      <td>11</td>\n",
       "      <td>12</td>\n",
       "      <td>13</td>\n",
       "      <td>14</td>\n",
       "      <td>15</td>\n",
       "    </tr>\n",
       "    <tr>\n",
       "      <th>1</th>\n",
       "      <td>16</td>\n",
       "      <td>17</td>\n",
       "      <td>18</td>\n",
       "      <td>19</td>\n",
       "      <td>20</td>\n",
       "    </tr>\n",
       "  </tbody>\n",
       "</table>\n",
       "</div>"
      ],
      "text/plain": [
       "    6   7   8   9  10 \n",
       "0  11  12  13  14   15\n",
       "1  16  17  18  19   20"
      ]
     },
     "execution_count": 15,
     "metadata": {},
     "output_type": "execute_result"
    }
   ],
   "source": [
    "pd.read_csv('test.csv', header=2) # 상위 세개의 행 제거"
   ]
  },
  {
   "cell_type": "code",
   "execution_count": 16,
   "metadata": {
    "colab": {},
    "colab_type": "code",
    "id": "qH7oCCzlYyF4",
    "outputId": "c327fcd7-1a7c-499c-d205-493569d7b051"
   },
   "outputs": [
    {
     "data": {
      "text/html": [
       "<div>\n",
       "<style scoped>\n",
       "    .dataframe tbody tr th:only-of-type {\n",
       "        vertical-align: middle;\n",
       "    }\n",
       "\n",
       "    .dataframe tbody tr th {\n",
       "        vertical-align: top;\n",
       "    }\n",
       "\n",
       "    .dataframe thead th {\n",
       "        text-align: right;\n",
       "    }\n",
       "</style>\n",
       "<table border=\"1\" class=\"dataframe\">\n",
       "  <thead>\n",
       "    <tr style=\"text-align: right;\">\n",
       "      <th></th>\n",
       "      <th>A</th>\n",
       "      <th>B</th>\n",
       "      <th>C</th>\n",
       "      <th>D</th>\n",
       "      <th>E</th>\n",
       "    </tr>\n",
       "  </thead>\n",
       "  <tbody>\n",
       "    <tr>\n",
       "      <th>0</th>\n",
       "      <td>a</td>\n",
       "      <td>b</td>\n",
       "      <td>c</td>\n",
       "      <td>d</td>\n",
       "      <td>e</td>\n",
       "    </tr>\n",
       "    <tr>\n",
       "      <th>1</th>\n",
       "      <td>1</td>\n",
       "      <td>2</td>\n",
       "      <td>3</td>\n",
       "      <td>4</td>\n",
       "      <td>5</td>\n",
       "    </tr>\n",
       "    <tr>\n",
       "      <th>2</th>\n",
       "      <td>6</td>\n",
       "      <td>7</td>\n",
       "      <td>8</td>\n",
       "      <td>9</td>\n",
       "      <td>10</td>\n",
       "    </tr>\n",
       "    <tr>\n",
       "      <th>3</th>\n",
       "      <td>11</td>\n",
       "      <td>12</td>\n",
       "      <td>13</td>\n",
       "      <td>14</td>\n",
       "      <td>15</td>\n",
       "    </tr>\n",
       "    <tr>\n",
       "      <th>4</th>\n",
       "      <td>16</td>\n",
       "      <td>17</td>\n",
       "      <td>18</td>\n",
       "      <td>19</td>\n",
       "      <td>20</td>\n",
       "    </tr>\n",
       "  </tbody>\n",
       "</table>\n",
       "</div>"
      ],
      "text/plain": [
       "    A   B   C   D    E\n",
       "0   a   b   c   d   e \n",
       "1   1   2   3   4   5 \n",
       "2   6   7   8   9  10 \n",
       "3  11  12  13  14  15 \n",
       "4  16  17  18  19  20 "
      ]
     },
     "execution_count": 16,
     "metadata": {},
     "output_type": "execute_result"
    }
   ],
   "source": [
    "# 컬럼명 지정하기\n",
    "pd.read_csv('test.csv', names=['A','B','C','D','E'])"
   ]
  },
  {
   "cell_type": "code",
   "execution_count": 17,
   "metadata": {
    "colab": {},
    "colab_type": "code",
    "id": "W1V223-HYyF_",
    "outputId": "4f039e8e-23ee-4019-ff56-a81e5e0dc61f"
   },
   "outputs": [
    {
     "data": {
      "text/html": [
       "<div>\n",
       "<style scoped>\n",
       "    .dataframe tbody tr th:only-of-type {\n",
       "        vertical-align: middle;\n",
       "    }\n",
       "\n",
       "    .dataframe tbody tr th {\n",
       "        vertical-align: top;\n",
       "    }\n",
       "\n",
       "    .dataframe thead th {\n",
       "        text-align: right;\n",
       "    }\n",
       "</style>\n",
       "<table border=\"1\" class=\"dataframe\">\n",
       "  <thead>\n",
       "    <tr style=\"text-align: right;\">\n",
       "      <th></th>\n",
       "      <th>a</th>\n",
       "      <th>b</th>\n",
       "      <th>c</th>\n",
       "      <th>d</th>\n",
       "      <th>e</th>\n",
       "    </tr>\n",
       "  </thead>\n",
       "  <tbody>\n",
       "    <tr>\n",
       "      <th>0</th>\n",
       "      <td>1</td>\n",
       "      <td>2</td>\n",
       "      <td>3</td>\n",
       "      <td>4</td>\n",
       "      <td>5</td>\n",
       "    </tr>\n",
       "    <tr>\n",
       "      <th>1</th>\n",
       "      <td>6</td>\n",
       "      <td>7</td>\n",
       "      <td>8</td>\n",
       "      <td>9</td>\n",
       "      <td>10</td>\n",
       "    </tr>\n",
       "  </tbody>\n",
       "</table>\n",
       "</div>"
      ],
      "text/plain": [
       "   a  b  c  d  e \n",
       "0  1  2  3  4   5\n",
       "1  6  7  8  9  10"
      ]
     },
     "execution_count": 17,
     "metadata": {},
     "output_type": "execute_result"
    }
   ],
   "source": [
    "# 일부 행만 읽기 nrows 사용\n",
    "df2 = pd.read_csv('test.csv', nrows=2)\n",
    "df2"
   ]
  },
  {
   "cell_type": "markdown",
   "metadata": {},
   "source": [
    "## csv 파일로 출력\n",
    "- 판다스의 to_csv() 사용"
   ]
  },
  {
   "cell_type": "code",
   "execution_count": 18,
   "metadata": {
    "colab": {},
    "colab_type": "code",
    "id": "Blcj2UY7YyGG"
   },
   "outputs": [],
   "source": [
    "df.to_csv('output.csv')"
   ]
  },
  {
   "cell_type": "code",
   "execution_count": 19,
   "metadata": {
    "colab": {},
    "colab_type": "code",
    "id": "qoid5f5rYyGK",
    "outputId": "e2777d9f-3a82-4410-a4ce-0086daa4db61"
   },
   "outputs": [
    {
     "name": "stdout",
     "output_type": "stream",
     "text": [
      ",a,b,c,d,e \n",
      "0,1,2,3,4,5\n",
      "1,6,7,8,9,10\n",
      "2,11,12,13,14,15\n",
      "3,16,17,18,19,20\n",
      "\n"
     ]
    }
   ],
   "source": [
    "with open('output.csv') as f: print(f.read())"
   ]
  },
  {
   "cell_type": "markdown",
   "metadata": {},
   "source": [
    "- 데이터 프레임의 인덱스도 포함되어 저장된다\n",
    "- 인덱스를 제거하려면, index=False 를 지정한다"
   ]
  },
  {
   "cell_type": "code",
   "execution_count": 20,
   "metadata": {
    "scrolled": true
   },
   "outputs": [
    {
     "name": "stdout",
     "output_type": "stream",
     "text": [
      "a,b,c,d,e \n",
      "1,2,3,4,5\n",
      "6,7,8,9,10\n",
      "11,12,13,14,15\n",
      "16,17,18,19,20\n",
      "\n"
     ]
    }
   ],
   "source": [
    "df.to_csv('output.csv', index=False)\n",
    "with open('output.csv') as f: print(f.read())"
   ]
  },
  {
   "cell_type": "code",
   "execution_count": 37,
   "metadata": {},
   "outputs": [
    {
     "data": {
      "text/html": [
       "<div>\n",
       "<style scoped>\n",
       "    .dataframe tbody tr th:only-of-type {\n",
       "        vertical-align: middle;\n",
       "    }\n",
       "\n",
       "    .dataframe tbody tr th {\n",
       "        vertical-align: top;\n",
       "    }\n",
       "\n",
       "    .dataframe thead th {\n",
       "        text-align: right;\n",
       "    }\n",
       "</style>\n",
       "<table border=\"1\" class=\"dataframe\">\n",
       "  <thead>\n",
       "    <tr style=\"text-align: right;\">\n",
       "      <th></th>\n",
       "      <th>a</th>\n",
       "      <th>b</th>\n",
       "      <th>c</th>\n",
       "      <th>d</th>\n",
       "      <th>e</th>\n",
       "    </tr>\n",
       "  </thead>\n",
       "  <tbody>\n",
       "    <tr>\n",
       "      <th>0</th>\n",
       "      <td>1</td>\n",
       "      <td>2</td>\n",
       "      <td>3</td>\n",
       "      <td>4</td>\n",
       "      <td>5</td>\n",
       "    </tr>\n",
       "    <tr>\n",
       "      <th>1</th>\n",
       "      <td>6</td>\n",
       "      <td>7</td>\n",
       "      <td>8</td>\n",
       "      <td>9</td>\n",
       "      <td>10</td>\n",
       "    </tr>\n",
       "    <tr>\n",
       "      <th>2</th>\n",
       "      <td>11</td>\n",
       "      <td>12</td>\n",
       "      <td>13</td>\n",
       "      <td>14</td>\n",
       "      <td>15</td>\n",
       "    </tr>\n",
       "    <tr>\n",
       "      <th>3</th>\n",
       "      <td>16</td>\n",
       "      <td>17</td>\n",
       "      <td>18</td>\n",
       "      <td>19</td>\n",
       "      <td>20</td>\n",
       "    </tr>\n",
       "  </tbody>\n",
       "</table>\n",
       "</div>"
      ],
      "text/plain": [
       "    a   b   c   d  e \n",
       "0   1   2   3   4   5\n",
       "1   6   7   8   9  10\n",
       "2  11  12  13  14  15\n",
       "3  16  17  18  19  20"
      ]
     },
     "execution_count": 37,
     "metadata": {},
     "output_type": "execute_result"
    }
   ],
   "source": [
    "# csv 파일 읽기\n",
    "# 앞의 pandas 예제에서 cities.csv를 만들어 저장한 경우\n",
    "# df2 = pd.read_csv('cities.csv')  \n",
    "df2 = pd.read_csv('output.csv')  \n",
    "df2"
   ]
  },
  {
   "cell_type": "markdown",
   "metadata": {},
   "source": [
    "### 액셀 파일 읽기"
   ]
  },
  {
   "cell_type": "code",
   "execution_count": 40,
   "metadata": {
    "scrolled": true
   },
   "outputs": [
    {
     "data": {
      "text/html": [
       "<div>\n",
       "<style scoped>\n",
       "    .dataframe tbody tr th:only-of-type {\n",
       "        vertical-align: middle;\n",
       "    }\n",
       "\n",
       "    .dataframe tbody tr th {\n",
       "        vertical-align: top;\n",
       "    }\n",
       "\n",
       "    .dataframe thead th {\n",
       "        text-align: right;\n",
       "    }\n",
       "</style>\n",
       "<table border=\"1\" class=\"dataframe\">\n",
       "  <thead>\n",
       "    <tr style=\"text-align: right;\">\n",
       "      <th></th>\n",
       "      <th>도시</th>\n",
       "      <th>인구</th>\n",
       "      <th>날씨</th>\n",
       "      <th>자동차</th>\n",
       "      <th>대도시</th>\n",
       "      <th>100만대이상</th>\n",
       "    </tr>\n",
       "  </thead>\n",
       "  <tbody>\n",
       "    <tr>\n",
       "      <th>0</th>\n",
       "      <td>서울</td>\n",
       "      <td>990</td>\n",
       "      <td>13.0</td>\n",
       "      <td>300</td>\n",
       "      <td>1</td>\n",
       "      <td>True</td>\n",
       "    </tr>\n",
       "    <tr>\n",
       "      <th>1</th>\n",
       "      <td>부산</td>\n",
       "      <td>350</td>\n",
       "      <td>16.0</td>\n",
       "      <td>140</td>\n",
       "      <td>1</td>\n",
       "      <td>True</td>\n",
       "    </tr>\n",
       "    <tr>\n",
       "      <th>2</th>\n",
       "      <td>대구</td>\n",
       "      <td>250</td>\n",
       "      <td>14.0</td>\n",
       "      <td>120</td>\n",
       "      <td>1</td>\n",
       "      <td>True</td>\n",
       "    </tr>\n",
       "    <tr>\n",
       "      <th>3</th>\n",
       "      <td>대전</td>\n",
       "      <td>154</td>\n",
       "      <td>13.0</td>\n",
       "      <td>70</td>\n",
       "      <td>1</td>\n",
       "      <td>False</td>\n",
       "    </tr>\n",
       "    <tr>\n",
       "      <th>4</th>\n",
       "      <td>광주</td>\n",
       "      <td>150</td>\n",
       "      <td>15.0</td>\n",
       "      <td>50</td>\n",
       "      <td>1</td>\n",
       "      <td>False</td>\n",
       "    </tr>\n",
       "    <tr>\n",
       "      <th>5</th>\n",
       "      <td>인천</td>\n",
       "      <td>290</td>\n",
       "      <td>12.7</td>\n",
       "      <td>170</td>\n",
       "      <td>1</td>\n",
       "      <td>True</td>\n",
       "    </tr>\n",
       "    <tr>\n",
       "      <th>6</th>\n",
       "      <td>울산</td>\n",
       "      <td>120</td>\n",
       "      <td>15.5</td>\n",
       "      <td>60</td>\n",
       "      <td>1</td>\n",
       "      <td>False</td>\n",
       "    </tr>\n",
       "  </tbody>\n",
       "</table>\n",
       "</div>"
      ],
      "text/plain": [
       "   도시   인구    날씨  자동차  대도시  100만대이상\n",
       "0  서울  990  13.0  300    1     True\n",
       "1  부산  350  16.0  140    1     True\n",
       "2  대구  250  14.0  120    1     True\n",
       "3  대전  154  13.0   70    1    False\n",
       "4  광주  150  15.0   50    1    False\n",
       "5  인천  290  12.7  170    1     True\n",
       "6  울산  120  15.5   60    1    False"
      ]
     },
     "execution_count": 40,
     "metadata": {},
     "output_type": "execute_result"
    }
   ],
   "source": [
    "# 앞의 pandas 예제에서 cities.xlsx 를 만들어 저장한 경우\n",
    "df2 = pd.read_excel('cities.xlsx')  \n",
    "df2"
   ]
  },
  {
   "cell_type": "markdown",
   "metadata": {},
   "source": [
    "### 액셀 한글 인코딩\n",
    "- 문자의 인코딩은 기본적으로 utf-8 을 사용한다\n",
    "- 그러나 한글의 경우 다른 인코딩으로 저장되는 경우가 있다\n",
    " - MS 액셀에서 csv로 저장할 때 한글이 cpc949로 인코딩된다. 이때는 아래 옵션이 필요하다\n",
    " - encoding = 'cpc949'"
   ]
  },
  {
   "cell_type": "markdown",
   "metadata": {},
   "source": [
    "## zip 파일 만들기, 읽기"
   ]
  },
  {
   "cell_type": "code",
   "execution_count": 44,
   "metadata": {},
   "outputs": [
    {
     "name": "stdout",
     "output_type": "stream",
     "text": [
      "a,b,c,d,e \n",
      "1,2,3,4,5\n",
      "6,7,8,9,10\n",
      "11,12,13,14,15\n",
      "16,17,18,19,20\n"
     ]
    }
   ],
   "source": [
    "!type output.csv"
   ]
  },
  {
   "cell_type": "code",
   "execution_count": 45,
   "metadata": {},
   "outputs": [],
   "source": [
    "import zipfile\n",
    "with zipfile.ZipFile('output.zip', 'w') as myzip:\n",
    "    myzip.write('output.csv')"
   ]
  },
  {
   "cell_type": "code",
   "execution_count": 47,
   "metadata": {},
   "outputs": [
    {
     "data": {
      "text/plain": [
       "['big.csv',\n",
       " 'cities.csv',\n",
       " 'cities.xlsx',\n",
       " 'first.ipynb',\n",
       " 'h_00_쥬피터노트북.ipynb',\n",
       " 'h_01_파이썬기초.ipynb',\n",
       " 'h_02_pandas.ipynb',\n",
       " 'h_03_numpy.ipynb',\n",
       " 'h_04_파일다루기.ipynb',\n",
       " 'h_05_함수사용.ipynb',\n",
       " 'output.csv',\n",
       " 'output.zip',\n",
       " 'README.md',\n",
       " 'test.csv']"
      ]
     },
     "execution_count": 47,
     "metadata": {},
     "output_type": "execute_result"
    }
   ],
   "source": [
    "# 파일 탐색하기 (global command)\n",
    "from glob import glob\n",
    "glob('*')"
   ]
  },
  {
   "cell_type": "markdown",
   "metadata": {},
   "source": [
    "### zip 파일 풀기"
   ]
  },
  {
   "cell_type": "code",
   "execution_count": 48,
   "metadata": {},
   "outputs": [
    {
     "name": "stdout",
     "output_type": "stream",
     "text": [
      "['output.csv']\n"
     ]
    }
   ],
   "source": [
    "with zipfile.ZipFile(\"output.zip\", 'r') as zf: \n",
    "    print(zf.namelist()) # 포한된 파일명 보기\n",
    "    zf.extractall() # 하위 폴더 지정 가능"
   ]
  },
  {
   "cell_type": "code",
   "execution_count": 49,
   "metadata": {
    "colab_type": "text",
    "id": "gDh6NqCqYyGO"
   },
   "outputs": [
    {
     "data": {
      "text/plain": [
       "['big.csv',\n",
       " 'cities.csv',\n",
       " 'cities.xlsx',\n",
       " 'first.ipynb',\n",
       " 'h_00_쥬피터노트북.ipynb',\n",
       " 'h_01_파이썬기초.ipynb',\n",
       " 'h_02_pandas.ipynb',\n",
       " 'h_03_numpy.ipynb',\n",
       " 'h_04_파일다루기.ipynb',\n",
       " 'h_05_함수사용.ipynb',\n",
       " 'output.csv',\n",
       " 'output.zip',\n",
       " 'README.md',\n",
       " 'test.csv']"
      ]
     },
     "execution_count": 49,
     "metadata": {},
     "output_type": "execute_result"
    }
   ],
   "source": [
    "glob('*')"
   ]
  },
  {
   "cell_type": "code",
   "execution_count": 27,
   "metadata": {},
   "outputs": [],
   "source": [
    "# 파일 삭제\n",
    "import os\n",
    "os.remove('output.zip')"
   ]
  },
  {
   "cell_type": "markdown",
   "metadata": {},
   "source": [
    "# 폴더 작업"
   ]
  },
  {
   "cell_type": "markdown",
   "metadata": {},
   "source": [
    "## 현재 폴더 위치 보기"
   ]
  },
  {
   "cell_type": "code",
   "execution_count": 50,
   "metadata": {
    "colab": {},
    "colab_type": "code",
    "id": "0Ew5j9rRYyGP",
    "outputId": "f51b2dba-fb1f-4e2d-c524-cff8c969d783"
   },
   "outputs": [
    {
     "data": {
      "text/plain": [
       "'C:\\\\Users\\\\PC\\\\AI부트캠프\\\\core-python'"
      ]
     },
     "execution_count": 50,
     "metadata": {},
     "output_type": "execute_result"
    }
   ],
   "source": [
    "cur_dir = os.getcwd()\n",
    "cur_dir"
   ]
  },
  {
   "cell_type": "markdown",
   "metadata": {},
   "source": [
    "## 현재 폴더의 파일 목록 얻기\n",
    "- glob() 사용\n",
    "- listdir() 사용\n",
    "- walk() 사용"
   ]
  },
  {
   "cell_type": "markdown",
   "metadata": {},
   "source": [
    "### glob()를 사용"
   ]
  },
  {
   "cell_type": "code",
   "execution_count": 51,
   "metadata": {},
   "outputs": [
    {
     "data": {
      "text/plain": [
       "['first.ipynb',\n",
       " 'h_00_쥬피터노트북.ipynb',\n",
       " 'h_01_파이썬기초.ipynb',\n",
       " 'h_02_pandas.ipynb',\n",
       " 'h_03_numpy.ipynb',\n",
       " 'h_04_파일다루기.ipynb',\n",
       " 'h_05_함수사용.ipynb']"
      ]
     },
     "execution_count": 51,
     "metadata": {},
     "output_type": "execute_result"
    }
   ],
   "source": [
    "# 파일 목록 얻기\n",
    "from glob import glob\n",
    "sorted(glob('*.ipynb'))"
   ]
  },
  {
   "cell_type": "markdown",
   "metadata": {},
   "source": [
    "### listdir()를 사용"
   ]
  },
  {
   "cell_type": "code",
   "execution_count": 52,
   "metadata": {
    "colab": {},
    "colab_type": "code",
    "id": "UgWWmlW6YyGV",
    "outputId": "ea3dfd26-3551-4065-da68-a60e7467175e"
   },
   "outputs": [
    {
     "data": {
      "text/plain": [
       "['.git',\n",
       " '.ipynb_checkpoints',\n",
       " 'README.md',\n",
       " 'big.csv',\n",
       " 'cities.csv',\n",
       " 'cities.xlsx',\n",
       " 'first.ipynb',\n",
       " 'h_00_쥬피터노트북.ipynb',\n",
       " 'h_01_파이썬기초.ipynb',\n",
       " 'h_02_pandas.ipynb',\n",
       " 'h_03_numpy.ipynb',\n",
       " 'h_04_파일다루기.ipynb',\n",
       " 'h_05_함수사용.ipynb',\n",
       " 'output.csv',\n",
       " 'output.zip',\n",
       " 'test.csv']"
      ]
     },
     "execution_count": 52,
     "metadata": {},
     "output_type": "execute_result"
    }
   ],
   "source": [
    "# 파일과 폴더 목록 얻기\n",
    "file_list = os.listdir()\n",
    "sorted(file_list)"
   ]
  },
  {
   "cell_type": "code",
   "execution_count": 31,
   "metadata": {},
   "outputs": [
    {
     "name": "stdout",
     "output_type": "stream",
     "text": [
      "C:\\Users\\PC\\AI부트캠프\\core-python\\.git\n",
      "C:\\Users\\PC\\AI부트캠프\\core-python\\.ipynb_checkpoints\n",
      "C:\\Users\\PC\\AI부트캠프\\core-python\\big.csv\n",
      "C:\\Users\\PC\\AI부트캠프\\core-python\\cities.csv\n",
      "C:\\Users\\PC\\AI부트캠프\\core-python\\cities.xlsx\n",
      "C:\\Users\\PC\\AI부트캠프\\core-python\\first.ipynb\n",
      "C:\\Users\\PC\\AI부트캠프\\core-python\\h_00_쥬피터노트북.ipynb\n",
      "C:\\Users\\PC\\AI부트캠프\\core-python\\h_01_파이썬기초.ipynb\n",
      "C:\\Users\\PC\\AI부트캠프\\core-python\\h_02_pandas.ipynb\n",
      "C:\\Users\\PC\\AI부트캠프\\core-python\\h_03_numpy.ipynb\n",
      "C:\\Users\\PC\\AI부트캠프\\core-python\\h_04_파일다루기.ipynb\n",
      "C:\\Users\\PC\\AI부트캠프\\core-python\\h_05_함수사용.ipynb\n",
      "C:\\Users\\PC\\AI부트캠프\\core-python\\output.csv\n",
      "C:\\Users\\PC\\AI부트캠프\\core-python\\README.md\n",
      "C:\\Users\\PC\\AI부트캠프\\core-python\\test.csv\n"
     ]
    }
   ],
   "source": [
    "# 파일의 전체 경로, full path 만들기\n",
    "cur_dir = os.getcwd()\n",
    "for file_name in file_list:\n",
    "    full_path = os.path.join(cur_dir, file_name)\n",
    "    print(full_path)"
   ]
  },
  {
   "cell_type": "markdown",
   "metadata": {},
   "source": [
    "### 폴더 찾기"
   ]
  },
  {
   "cell_type": "code",
   "execution_count": 53,
   "metadata": {},
   "outputs": [
    {
     "name": "stdout",
     "output_type": "stream",
     "text": [
      "폴더: .git\n",
      "폴더: .ipynb_checkpoints\n"
     ]
    }
   ],
   "source": [
    "for file_name in file_list:\n",
    "    if os.path.isdir(file_name):\n",
    "        print(\"폴더:\", file_name)"
   ]
  },
  {
   "cell_type": "markdown",
   "metadata": {},
   "source": [
    "### walk() 사용하기\n",
    "- os.walk()를 사용하면 경로, 폴더, 파일명을 한번에 찾아준다"
   ]
  },
  {
   "cell_type": "code",
   "execution_count": 56,
   "metadata": {},
   "outputs": [
    {
     "name": "stdout",
     "output_type": "stream",
     "text": [
      "\n",
      "\n",
      "경로:  C:\\Users\\PC\\AI부트캠프\\core-python\n",
      "폴더:  ['.git', '.ipynb_checkpoints']\n",
      "모든 파일:\n",
      "first.ipynb\n",
      "h_00_쥬피터노트북.ipynb\n",
      "h_01_파이썬기초.ipynb\n",
      "h_02_pandas.ipynb\n",
      "h_03_numpy.ipynb\n",
      "h_04_파일다루기.ipynb\n",
      "h_05_함수사용.ipynb\n",
      "\n",
      "\n",
      "경로:  C:\\Users\\PC\\AI부트캠프\\core-python\\.git\n",
      "폴더:  ['hooks', 'info', 'logs', 'objects', 'refs']\n",
      "모든 파일:\n",
      "\n",
      "\n",
      "경로:  C:\\Users\\PC\\AI부트캠프\\core-python\\.git\\hooks\n",
      "폴더:  []\n",
      "모든 파일:\n",
      "\n",
      "\n",
      "경로:  C:\\Users\\PC\\AI부트캠프\\core-python\\.git\\info\n",
      "폴더:  []\n",
      "모든 파일:\n",
      "\n",
      "\n",
      "경로:  C:\\Users\\PC\\AI부트캠프\\core-python\\.git\\logs\n",
      "폴더:  ['refs']\n",
      "모든 파일:\n",
      "\n",
      "\n",
      "경로:  C:\\Users\\PC\\AI부트캠프\\core-python\\.git\\logs\\refs\n",
      "폴더:  ['heads', 'remotes']\n",
      "모든 파일:\n",
      "\n",
      "\n",
      "경로:  C:\\Users\\PC\\AI부트캠프\\core-python\\.git\\logs\\refs\\heads\n",
      "폴더:  []\n",
      "모든 파일:\n",
      "\n",
      "\n",
      "경로:  C:\\Users\\PC\\AI부트캠프\\core-python\\.git\\logs\\refs\\remotes\n",
      "폴더:  ['origin']\n",
      "모든 파일:\n",
      "\n",
      "\n",
      "경로:  C:\\Users\\PC\\AI부트캠프\\core-python\\.git\\logs\\refs\\remotes\\origin\n",
      "폴더:  []\n",
      "모든 파일:\n",
      "\n",
      "\n",
      "경로:  C:\\Users\\PC\\AI부트캠프\\core-python\\.git\\objects\n",
      "폴더:  ['1d', '1e', '28', '29', '2b', '31', '3e', '43', '50', '5b', '6a', '6b', '71', '78', '7c', '9f', 'a1', 'b4', 'bf', 'ca', 'info', 'pack']\n",
      "모든 파일:\n",
      "\n",
      "\n",
      "경로:  C:\\Users\\PC\\AI부트캠프\\core-python\\.git\\objects\\1d\n",
      "폴더:  []\n",
      "모든 파일:\n",
      "\n",
      "\n",
      "경로:  C:\\Users\\PC\\AI부트캠프\\core-python\\.git\\objects\\1e\n",
      "폴더:  []\n",
      "모든 파일:\n",
      "\n",
      "\n",
      "경로:  C:\\Users\\PC\\AI부트캠프\\core-python\\.git\\objects\\28\n",
      "폴더:  []\n",
      "모든 파일:\n",
      "\n",
      "\n",
      "경로:  C:\\Users\\PC\\AI부트캠프\\core-python\\.git\\objects\\29\n",
      "폴더:  []\n",
      "모든 파일:\n",
      "\n",
      "\n",
      "경로:  C:\\Users\\PC\\AI부트캠프\\core-python\\.git\\objects\\2b\n",
      "폴더:  []\n",
      "모든 파일:\n",
      "\n",
      "\n",
      "경로:  C:\\Users\\PC\\AI부트캠프\\core-python\\.git\\objects\\31\n",
      "폴더:  []\n",
      "모든 파일:\n",
      "\n",
      "\n",
      "경로:  C:\\Users\\PC\\AI부트캠프\\core-python\\.git\\objects\\3e\n",
      "폴더:  []\n",
      "모든 파일:\n",
      "\n",
      "\n",
      "경로:  C:\\Users\\PC\\AI부트캠프\\core-python\\.git\\objects\\43\n",
      "폴더:  []\n",
      "모든 파일:\n",
      "\n",
      "\n",
      "경로:  C:\\Users\\PC\\AI부트캠프\\core-python\\.git\\objects\\50\n",
      "폴더:  []\n",
      "모든 파일:\n",
      "\n",
      "\n",
      "경로:  C:\\Users\\PC\\AI부트캠프\\core-python\\.git\\objects\\5b\n",
      "폴더:  []\n",
      "모든 파일:\n",
      "\n",
      "\n",
      "경로:  C:\\Users\\PC\\AI부트캠프\\core-python\\.git\\objects\\6a\n",
      "폴더:  []\n",
      "모든 파일:\n",
      "\n",
      "\n",
      "경로:  C:\\Users\\PC\\AI부트캠프\\core-python\\.git\\objects\\6b\n",
      "폴더:  []\n",
      "모든 파일:\n",
      "\n",
      "\n",
      "경로:  C:\\Users\\PC\\AI부트캠프\\core-python\\.git\\objects\\71\n",
      "폴더:  []\n",
      "모든 파일:\n",
      "\n",
      "\n",
      "경로:  C:\\Users\\PC\\AI부트캠프\\core-python\\.git\\objects\\78\n",
      "폴더:  []\n",
      "모든 파일:\n",
      "\n",
      "\n",
      "경로:  C:\\Users\\PC\\AI부트캠프\\core-python\\.git\\objects\\7c\n",
      "폴더:  []\n",
      "모든 파일:\n",
      "\n",
      "\n",
      "경로:  C:\\Users\\PC\\AI부트캠프\\core-python\\.git\\objects\\9f\n",
      "폴더:  []\n",
      "모든 파일:\n",
      "\n",
      "\n",
      "경로:  C:\\Users\\PC\\AI부트캠프\\core-python\\.git\\objects\\a1\n",
      "폴더:  []\n",
      "모든 파일:\n",
      "\n",
      "\n",
      "경로:  C:\\Users\\PC\\AI부트캠프\\core-python\\.git\\objects\\b4\n",
      "폴더:  []\n",
      "모든 파일:\n",
      "\n",
      "\n",
      "경로:  C:\\Users\\PC\\AI부트캠프\\core-python\\.git\\objects\\bf\n",
      "폴더:  []\n",
      "모든 파일:\n",
      "\n",
      "\n",
      "경로:  C:\\Users\\PC\\AI부트캠프\\core-python\\.git\\objects\\ca\n",
      "폴더:  []\n",
      "모든 파일:\n",
      "\n",
      "\n",
      "경로:  C:\\Users\\PC\\AI부트캠프\\core-python\\.git\\objects\\info\n",
      "폴더:  []\n",
      "모든 파일:\n",
      "\n",
      "\n",
      "경로:  C:\\Users\\PC\\AI부트캠프\\core-python\\.git\\objects\\pack\n",
      "폴더:  []\n",
      "모든 파일:\n",
      "\n",
      "\n",
      "경로:  C:\\Users\\PC\\AI부트캠프\\core-python\\.git\\refs\n",
      "폴더:  ['heads', 'remotes', 'tags']\n",
      "모든 파일:\n",
      "\n",
      "\n",
      "경로:  C:\\Users\\PC\\AI부트캠프\\core-python\\.git\\refs\\heads\n",
      "폴더:  []\n",
      "모든 파일:\n",
      "\n",
      "\n",
      "경로:  C:\\Users\\PC\\AI부트캠프\\core-python\\.git\\refs\\remotes\n",
      "폴더:  ['origin']\n",
      "모든 파일:\n",
      "\n",
      "\n",
      "경로:  C:\\Users\\PC\\AI부트캠프\\core-python\\.git\\refs\\remotes\\origin\n",
      "폴더:  []\n",
      "모든 파일:\n",
      "\n",
      "\n",
      "경로:  C:\\Users\\PC\\AI부트캠프\\core-python\\.git\\refs\\tags\n",
      "폴더:  []\n",
      "모든 파일:\n",
      "\n",
      "\n",
      "경로:  C:\\Users\\PC\\AI부트캠프\\core-python\\.ipynb_checkpoints\n",
      "폴더:  []\n",
      "모든 파일:\n",
      "h_01_파이썬기초-checkpoint.ipynb\n",
      "h_02_pandas-checkpoint.ipynb\n",
      "h_03_numpy-checkpoint.ipynb\n",
      "h_04_파일다루기-checkpoint.ipynb\n"
     ]
    }
   ],
   "source": [
    "# 모든 하위의 하위 폴더를 검색하여 확장자가 .ipynb인 파일을 찾는다\n",
    "for (path, dir, files) in os.walk(cur_dir):\n",
    "    print(\"\\n\")\n",
    "    print(\"경로: \", path)\n",
    "    print(\"폴더: \", dir)\n",
    "    print(\"모든 파일:\")\n",
    "    for file_name in files:\n",
    "        extention = os.path.splitext(file_name)[-1] #확장자만 선택\n",
    "        #print(extention)\n",
    "        if extention == \".ipynb\":\n",
    "            print(file_name)"
   ]
  },
  {
   "cell_type": "markdown",
   "metadata": {
    "colab": {},
    "colab_type": "code",
    "id": "tzRujJzJYyGX"
   },
   "source": [
    "## 기타 폴더 및 파일 관리\n",
    "### os 패키지에서\n",
    "- 폴더 생성 mkdir()\n",
    "- 폴더 위치 이동 chdir()\n",
    "- 파일 이름 변경 rename()\n",
    "- 파일 삭제 remove()\n",
    "- 폴더 삭제 rmdir()"
   ]
  },
  {
   "cell_type": "code",
   "execution_count": 57,
   "metadata": {},
   "outputs": [],
   "source": [
    "# 폴더가 없으면 새로 만들기\n",
    "if not os.path.exists(\"./data\"):\n",
    "    os.mkdir(\"./data\")"
   ]
  },
  {
   "cell_type": "code",
   "execution_count": 58,
   "metadata": {},
   "outputs": [],
   "source": [
    "# 폴더 이동\n",
    "os.chdir('./data')"
   ]
  },
  {
   "cell_type": "code",
   "execution_count": 59,
   "metadata": {},
   "outputs": [
    {
     "data": {
      "text/plain": [
       "'C:\\\\Users\\\\PC\\\\AI부트캠프\\\\core-python\\\\data'"
      ]
     },
     "execution_count": 59,
     "metadata": {},
     "output_type": "execute_result"
    }
   ],
   "source": [
    "os.getcwd()"
   ]
  },
  {
   "cell_type": "code",
   "execution_count": 60,
   "metadata": {},
   "outputs": [],
   "source": [
    "# 폴더 이동\n",
    "os.chdir('../')"
   ]
  },
  {
   "cell_type": "code",
   "execution_count": 61,
   "metadata": {},
   "outputs": [
    {
     "data": {
      "text/plain": [
       "'C:\\\\Users\\\\PC\\\\AI부트캠프\\\\core-python'"
      ]
     },
     "execution_count": 61,
     "metadata": {},
     "output_type": "execute_result"
    }
   ],
   "source": [
    "os.getcwd()"
   ]
  },
  {
   "cell_type": "code",
   "execution_count": 62,
   "metadata": {
    "colab": {},
    "colab_type": "code",
    "id": "xZF6FRGgYyGg",
    "scrolled": false
   },
   "outputs": [
    {
     "name": "stdout",
     "output_type": "stream",
     "text": [
      "a,b,c,d,e \n",
      "1,2,3,4,5\n",
      "6,7,8,9,10\n",
      "11,12,13,14,15\n",
      "16,17,18,19,20\n",
      "\n"
     ]
    }
   ],
   "source": [
    "# 파일 이름 변경\n",
    "os.rename('output.csv','new_output.csv')\n",
    "with open('new_output.csv') as f: print(f.read())"
   ]
  },
  {
   "cell_type": "code",
   "execution_count": 63,
   "metadata": {
    "colab": {},
    "colab_type": "code",
    "id": "xZF6FRGgYyGg"
   },
   "outputs": [],
   "source": [
    "# 파일 삭제\n",
    "os.remove('new_output.csv')"
   ]
  },
  {
   "cell_type": "code",
   "execution_count": 64,
   "metadata": {},
   "outputs": [],
   "source": [
    "# 폴더 삭제\n",
    "os.rmdir('./data')"
   ]
  },
  {
   "cell_type": "code",
   "execution_count": null,
   "metadata": {},
   "outputs": [],
   "source": []
  }
 ],
 "metadata": {
  "colab": {
   "collapsed_sections": [],
   "name": "g_07_파일다루기.ipynb",
   "provenance": []
  },
  "kernelspec": {
   "display_name": "Python 3",
   "language": "python",
   "name": "python3"
  },
  "language_info": {
   "codemirror_mode": {
    "name": "ipython",
    "version": 3
   },
   "file_extension": ".py",
   "mimetype": "text/x-python",
   "name": "python",
   "nbconvert_exporter": "python",
   "pygments_lexer": "ipython3",
   "version": "3.8.8"
  },
  "toc": {
   "base_numbering": 1,
   "nav_menu": {},
   "number_sections": false,
   "sideBar": true,
   "skip_h1_title": false,
   "title_cell": "Table of Contents",
   "title_sidebar": "Contents",
   "toc_cell": false,
   "toc_position": {},
   "toc_section_display": true,
   "toc_window_display": true
  }
 },
 "nbformat": 4,
 "nbformat_minor": 1
}
