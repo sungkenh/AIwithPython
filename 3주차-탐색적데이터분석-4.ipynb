{
 "cells": [
  {
   "cell_type": "markdown",
   "metadata": {},
   "source": [
    "데이터 탐색\n",
    "==\n",
    "\n",
    "다루는 내용\n",
    "--\n",
    "- 데이터 특성 보기, 데이터 탐색, 시각화\n",
    "- 클러스터링\n",
    "\n",
    "데이터\n",
    "--\n",
    "- 전력판매량(시도별/용도별) 액셀 파일 https://goo.gl/Cx8Rzw\n",
    "- 위 자료는 전력거래소에서 받은 자료임\n",
    "- 이 파일을 현재 작업중인 (쥬피터 노트북이 실행되는) 폴더 아래에 data 폴더를 만들고 data 폴더로 복사한다"
   ]
  },
  {
   "cell_type": "markdown",
   "metadata": {},
   "source": [
    "필요한 라이브러리(모듈) 설치\n",
    "--"
   ]
  },
  {
   "cell_type": "code",
   "execution_count": 1,
   "metadata": {},
   "outputs": [],
   "source": [
    "import pandas as pd\n",
    "import numpy as np\n",
    "import matplotlib.pyplot as plt"
   ]
  },
  {
   "cell_type": "code",
   "execution_count": 2,
   "metadata": {},
   "outputs": [],
   "source": [
    "%matplotlib inline"
   ]
  },
  {
   "cell_type": "markdown",
   "metadata": {},
   "source": [
    "데이터 읽기\n",
    "--"
   ]
  },
  {
   "cell_type": "code",
   "execution_count": 3,
   "metadata": {},
   "outputs": [
    {
     "name": "stdout",
     "output_type": "stream",
     "text": [
      "(19, 28)\n"
     ]
    }
   ],
   "source": [
    "power_data = pd.read_excel('data/시도별_용도별.xls')\n",
    "print(power_data.shape)"
   ]
  },
  {
   "cell_type": "code",
   "execution_count": 4,
   "metadata": {},
   "outputs": [
    {
     "data": {
      "text/html": [
       "<div>\n",
       "<style scoped>\n",
       "    .dataframe tbody tr th:only-of-type {\n",
       "        vertical-align: middle;\n",
       "    }\n",
       "\n",
       "    .dataframe tbody tr th {\n",
       "        vertical-align: top;\n",
       "    }\n",
       "\n",
       "    .dataframe thead th {\n",
       "        text-align: right;\n",
       "    }\n",
       "</style>\n",
       "<table border=\"1\" class=\"dataframe\">\n",
       "  <thead>\n",
       "    <tr style=\"text-align: right;\">\n",
       "      <th></th>\n",
       "      <th>구분</th>\n",
       "      <th>주거용</th>\n",
       "      <th>공공용</th>\n",
       "      <th>서비스업</th>\n",
       "      <th>업무용합계</th>\n",
       "      <th>농림어업</th>\n",
       "      <th>광업</th>\n",
       "      <th>제조업</th>\n",
       "      <th>식료품제조</th>\n",
       "      <th>섬유,의류</th>\n",
       "      <th>...</th>\n",
       "      <th>기타기계</th>\n",
       "      <th>사무기기</th>\n",
       "      <th>전기기기</th>\n",
       "      <th>영상,음향</th>\n",
       "      <th>자동차</th>\n",
       "      <th>기타운송</th>\n",
       "      <th>가구및기타</th>\n",
       "      <th>재생재료</th>\n",
       "      <th>산업용합계</th>\n",
       "      <th>합계</th>\n",
       "    </tr>\n",
       "  </thead>\n",
       "  <tbody>\n",
       "    <tr>\n",
       "      <th>0</th>\n",
       "      <td>강원</td>\n",
       "      <td>1940933</td>\n",
       "      <td>1400421</td>\n",
       "      <td>6203749</td>\n",
       "      <td>7604170</td>\n",
       "      <td>607139</td>\n",
       "      <td>398287</td>\n",
       "      <td>6002286</td>\n",
       "      <td>546621</td>\n",
       "      <td>13027</td>\n",
       "      <td>...</td>\n",
       "      <td>35063</td>\n",
       "      <td>2019</td>\n",
       "      <td>38062</td>\n",
       "      <td>43986</td>\n",
       "      <td>113448</td>\n",
       "      <td>108629</td>\n",
       "      <td>12872</td>\n",
       "      <td>3418</td>\n",
       "      <td>7007712</td>\n",
       "      <td>16552816</td>\n",
       "    </tr>\n",
       "    <tr>\n",
       "      <th>1</th>\n",
       "      <td>개성</td>\n",
       "      <td>0</td>\n",
       "      <td>0</td>\n",
       "      <td>0</td>\n",
       "      <td>0</td>\n",
       "      <td>0</td>\n",
       "      <td>0</td>\n",
       "      <td>0</td>\n",
       "      <td>0</td>\n",
       "      <td>0</td>\n",
       "      <td>...</td>\n",
       "      <td>0</td>\n",
       "      <td>0</td>\n",
       "      <td>0</td>\n",
       "      <td>0</td>\n",
       "      <td>0</td>\n",
       "      <td>0</td>\n",
       "      <td>0</td>\n",
       "      <td>0</td>\n",
       "      <td>0</td>\n",
       "      <td>0</td>\n",
       "    </tr>\n",
       "    <tr>\n",
       "      <th>2</th>\n",
       "      <td>경기</td>\n",
       "      <td>16587710</td>\n",
       "      <td>5533662</td>\n",
       "      <td>33434551</td>\n",
       "      <td>38968213</td>\n",
       "      <td>2371347</td>\n",
       "      <td>317263</td>\n",
       "      <td>56603327</td>\n",
       "      <td>2544420</td>\n",
       "      <td>2109963</td>\n",
       "      <td>...</td>\n",
       "      <td>3613798</td>\n",
       "      <td>317244</td>\n",
       "      <td>1040171</td>\n",
       "      <td>24519644</td>\n",
       "      <td>2977165</td>\n",
       "      <td>67594</td>\n",
       "      <td>1833112</td>\n",
       "      <td>133041</td>\n",
       "      <td>59291937</td>\n",
       "      <td>114847859</td>\n",
       "    </tr>\n",
       "    <tr>\n",
       "      <th>3</th>\n",
       "      <td>경남</td>\n",
       "      <td>4260988</td>\n",
       "      <td>1427560</td>\n",
       "      <td>8667737</td>\n",
       "      <td>10095297</td>\n",
       "      <td>2141813</td>\n",
       "      <td>95989</td>\n",
       "      <td>18053778</td>\n",
       "      <td>932743</td>\n",
       "      <td>346974</td>\n",
       "      <td>...</td>\n",
       "      <td>1902913</td>\n",
       "      <td>8070</td>\n",
       "      <td>924235</td>\n",
       "      <td>534196</td>\n",
       "      <td>2156059</td>\n",
       "      <td>2048646</td>\n",
       "      <td>262523</td>\n",
       "      <td>47662</td>\n",
       "      <td>20291580</td>\n",
       "      <td>34647864</td>\n",
       "    </tr>\n",
       "    <tr>\n",
       "      <th>4</th>\n",
       "      <td>경북</td>\n",
       "      <td>3302463</td>\n",
       "      <td>1578115</td>\n",
       "      <td>8487402</td>\n",
       "      <td>10065517</td>\n",
       "      <td>1747462</td>\n",
       "      <td>224568</td>\n",
       "      <td>30115601</td>\n",
       "      <td>566071</td>\n",
       "      <td>3780171</td>\n",
       "      <td>...</td>\n",
       "      <td>782570</td>\n",
       "      <td>14468</td>\n",
       "      <td>750786</td>\n",
       "      <td>4174971</td>\n",
       "      <td>2356890</td>\n",
       "      <td>123935</td>\n",
       "      <td>60280</td>\n",
       "      <td>77104</td>\n",
       "      <td>32087631</td>\n",
       "      <td>45455611</td>\n",
       "    </tr>\n",
       "    <tr>\n",
       "      <th>5</th>\n",
       "      <td>광주</td>\n",
       "      <td>1954876</td>\n",
       "      <td>565527</td>\n",
       "      <td>3174973</td>\n",
       "      <td>3740500</td>\n",
       "      <td>74608</td>\n",
       "      <td>2898</td>\n",
       "      <td>2910768</td>\n",
       "      <td>161072</td>\n",
       "      <td>295922</td>\n",
       "      <td>...</td>\n",
       "      <td>198847</td>\n",
       "      <td>5967</td>\n",
       "      <td>236622</td>\n",
       "      <td>723764</td>\n",
       "      <td>512148</td>\n",
       "      <td>5140</td>\n",
       "      <td>13392</td>\n",
       "      <td>16049</td>\n",
       "      <td>2988274</td>\n",
       "      <td>8683649</td>\n",
       "    </tr>\n",
       "    <tr>\n",
       "      <th>6</th>\n",
       "      <td>대구</td>\n",
       "      <td>3151904</td>\n",
       "      <td>826396</td>\n",
       "      <td>5470438</td>\n",
       "      <td>6296834</td>\n",
       "      <td>69142</td>\n",
       "      <td>5858</td>\n",
       "      <td>5862633</td>\n",
       "      <td>212626</td>\n",
       "      <td>1057342</td>\n",
       "      <td>...</td>\n",
       "      <td>516493</td>\n",
       "      <td>58446</td>\n",
       "      <td>180189</td>\n",
       "      <td>252662</td>\n",
       "      <td>1381273</td>\n",
       "      <td>68127</td>\n",
       "      <td>41814</td>\n",
       "      <td>33616</td>\n",
       "      <td>5937633</td>\n",
       "      <td>15386372</td>\n",
       "    </tr>\n",
       "    <tr>\n",
       "      <th>7</th>\n",
       "      <td>대전</td>\n",
       "      <td>1872890</td>\n",
       "      <td>954681</td>\n",
       "      <td>3955921</td>\n",
       "      <td>4910602</td>\n",
       "      <td>28643</td>\n",
       "      <td>3326</td>\n",
       "      <td>2608343</td>\n",
       "      <td>204171</td>\n",
       "      <td>41687</td>\n",
       "      <td>...</td>\n",
       "      <td>77970</td>\n",
       "      <td>2949</td>\n",
       "      <td>83609</td>\n",
       "      <td>474561</td>\n",
       "      <td>218191</td>\n",
       "      <td>5439</td>\n",
       "      <td>31657</td>\n",
       "      <td>2252</td>\n",
       "      <td>2640312</td>\n",
       "      <td>9423804</td>\n",
       "    </tr>\n",
       "    <tr>\n",
       "      <th>8</th>\n",
       "      <td>부산</td>\n",
       "      <td>4473510</td>\n",
       "      <td>1305876</td>\n",
       "      <td>7582169</td>\n",
       "      <td>8888045</td>\n",
       "      <td>107927</td>\n",
       "      <td>25289</td>\n",
       "      <td>7512588</td>\n",
       "      <td>532943</td>\n",
       "      <td>528513</td>\n",
       "      <td>...</td>\n",
       "      <td>904149</td>\n",
       "      <td>4913</td>\n",
       "      <td>107717</td>\n",
       "      <td>90644</td>\n",
       "      <td>1046529</td>\n",
       "      <td>231141</td>\n",
       "      <td>49733</td>\n",
       "      <td>13104</td>\n",
       "      <td>7645804</td>\n",
       "      <td>21007358</td>\n",
       "    </tr>\n",
       "    <tr>\n",
       "      <th>9</th>\n",
       "      <td>서울</td>\n",
       "      <td>13131172</td>\n",
       "      <td>3581534</td>\n",
       "      <td>27647345</td>\n",
       "      <td>31228879</td>\n",
       "      <td>15150</td>\n",
       "      <td>4064</td>\n",
       "      <td>1918893</td>\n",
       "      <td>227077</td>\n",
       "      <td>497699</td>\n",
       "      <td>...</td>\n",
       "      <td>163688</td>\n",
       "      <td>4395</td>\n",
       "      <td>11425</td>\n",
       "      <td>46225</td>\n",
       "      <td>20182</td>\n",
       "      <td>17656</td>\n",
       "      <td>132707</td>\n",
       "      <td>2875</td>\n",
       "      <td>1938107</td>\n",
       "      <td>46298158</td>\n",
       "    </tr>\n",
       "    <tr>\n",
       "      <th>10</th>\n",
       "      <td>세종</td>\n",
       "      <td>384903</td>\n",
       "      <td>299675</td>\n",
       "      <td>645424</td>\n",
       "      <td>945099</td>\n",
       "      <td>69469</td>\n",
       "      <td>16364</td>\n",
       "      <td>1502922</td>\n",
       "      <td>110211</td>\n",
       "      <td>70617</td>\n",
       "      <td>...</td>\n",
       "      <td>26185</td>\n",
       "      <td>14319</td>\n",
       "      <td>33539</td>\n",
       "      <td>170366</td>\n",
       "      <td>79009</td>\n",
       "      <td>0</td>\n",
       "      <td>5132</td>\n",
       "      <td>2603</td>\n",
       "      <td>1588755</td>\n",
       "      <td>2918758</td>\n",
       "    </tr>\n",
       "    <tr>\n",
       "      <th>11</th>\n",
       "      <td>울산</td>\n",
       "      <td>1487143</td>\n",
       "      <td>489865</td>\n",
       "      <td>3649386</td>\n",
       "      <td>4139251</td>\n",
       "      <td>80221</td>\n",
       "      <td>20103</td>\n",
       "      <td>25883132</td>\n",
       "      <td>187738</td>\n",
       "      <td>943299</td>\n",
       "      <td>...</td>\n",
       "      <td>169132</td>\n",
       "      <td>5053</td>\n",
       "      <td>381602</td>\n",
       "      <td>24165</td>\n",
       "      <td>2367150</td>\n",
       "      <td>1020610</td>\n",
       "      <td>4984</td>\n",
       "      <td>1626</td>\n",
       "      <td>25983456</td>\n",
       "      <td>31609850</td>\n",
       "    </tr>\n",
       "    <tr>\n",
       "      <th>12</th>\n",
       "      <td>인천</td>\n",
       "      <td>3856852</td>\n",
       "      <td>921748</td>\n",
       "      <td>7154416</td>\n",
       "      <td>8076164</td>\n",
       "      <td>142953</td>\n",
       "      <td>71529</td>\n",
       "      <td>12367816</td>\n",
       "      <td>641088</td>\n",
       "      <td>75895</td>\n",
       "      <td>...</td>\n",
       "      <td>942801</td>\n",
       "      <td>7853</td>\n",
       "      <td>178502</td>\n",
       "      <td>1124564</td>\n",
       "      <td>612898</td>\n",
       "      <td>54225</td>\n",
       "      <td>360778</td>\n",
       "      <td>32538</td>\n",
       "      <td>12582298</td>\n",
       "      <td>24515313</td>\n",
       "    </tr>\n",
       "    <tr>\n",
       "      <th>13</th>\n",
       "      <td>전남</td>\n",
       "      <td>2284124</td>\n",
       "      <td>964024</td>\n",
       "      <td>5690659</td>\n",
       "      <td>6654683</td>\n",
       "      <td>3096126</td>\n",
       "      <td>73217</td>\n",
       "      <td>21453926</td>\n",
       "      <td>511361</td>\n",
       "      <td>160506</td>\n",
       "      <td>...</td>\n",
       "      <td>66431</td>\n",
       "      <td>1061</td>\n",
       "      <td>149939</td>\n",
       "      <td>42399</td>\n",
       "      <td>72132</td>\n",
       "      <td>481592</td>\n",
       "      <td>14670</td>\n",
       "      <td>31932</td>\n",
       "      <td>24623269</td>\n",
       "      <td>33562076</td>\n",
       "    </tr>\n",
       "    <tr>\n",
       "      <th>14</th>\n",
       "      <td>전북</td>\n",
       "      <td>2326183</td>\n",
       "      <td>1096968</td>\n",
       "      <td>4910318</td>\n",
       "      <td>6007286</td>\n",
       "      <td>1415004</td>\n",
       "      <td>85300</td>\n",
       "      <td>12965875</td>\n",
       "      <td>1459217</td>\n",
       "      <td>731651</td>\n",
       "      <td>...</td>\n",
       "      <td>159699</td>\n",
       "      <td>7240</td>\n",
       "      <td>130692</td>\n",
       "      <td>420005</td>\n",
       "      <td>859741</td>\n",
       "      <td>70980</td>\n",
       "      <td>16175</td>\n",
       "      <td>99003</td>\n",
       "      <td>14466179</td>\n",
       "      <td>22799647</td>\n",
       "    </tr>\n",
       "    <tr>\n",
       "      <th>15</th>\n",
       "      <td>제주</td>\n",
       "      <td>782601</td>\n",
       "      <td>301727</td>\n",
       "      <td>2308732</td>\n",
       "      <td>2610459</td>\n",
       "      <td>1364930</td>\n",
       "      <td>14019</td>\n",
       "      <td>241537</td>\n",
       "      <td>155987</td>\n",
       "      <td>3497</td>\n",
       "      <td>...</td>\n",
       "      <td>1167</td>\n",
       "      <td>0</td>\n",
       "      <td>771</td>\n",
       "      <td>0</td>\n",
       "      <td>773</td>\n",
       "      <td>532</td>\n",
       "      <td>1743</td>\n",
       "      <td>743</td>\n",
       "      <td>1620486</td>\n",
       "      <td>5013545</td>\n",
       "    </tr>\n",
       "    <tr>\n",
       "      <th>16</th>\n",
       "      <td>충남</td>\n",
       "      <td>2691823</td>\n",
       "      <td>1089613</td>\n",
       "      <td>7164439</td>\n",
       "      <td>8254052</td>\n",
       "      <td>1928066</td>\n",
       "      <td>248313</td>\n",
       "      <td>37057955</td>\n",
       "      <td>1137035</td>\n",
       "      <td>269998</td>\n",
       "      <td>...</td>\n",
       "      <td>611925</td>\n",
       "      <td>12208</td>\n",
       "      <td>428906</td>\n",
       "      <td>10953811</td>\n",
       "      <td>2526658</td>\n",
       "      <td>33766</td>\n",
       "      <td>53804</td>\n",
       "      <td>19725</td>\n",
       "      <td>39234334</td>\n",
       "      <td>50180209</td>\n",
       "    </tr>\n",
       "    <tr>\n",
       "      <th>17</th>\n",
       "      <td>충북</td>\n",
       "      <td>2027281</td>\n",
       "      <td>1267140</td>\n",
       "      <td>4804638</td>\n",
       "      <td>6071778</td>\n",
       "      <td>721131</td>\n",
       "      <td>139856</td>\n",
       "      <td>15883448</td>\n",
       "      <td>1152073</td>\n",
       "      <td>333846</td>\n",
       "      <td>...</td>\n",
       "      <td>366871</td>\n",
       "      <td>23076</td>\n",
       "      <td>1125141</td>\n",
       "      <td>4103832</td>\n",
       "      <td>603349</td>\n",
       "      <td>82496</td>\n",
       "      <td>513501</td>\n",
       "      <td>46038</td>\n",
       "      <td>16744435</td>\n",
       "      <td>24843494</td>\n",
       "    </tr>\n",
       "    <tr>\n",
       "      <th>18</th>\n",
       "      <td>합계</td>\n",
       "      <td>64576423</td>\n",
       "      <td>22204112</td>\n",
       "      <td>134748546</td>\n",
       "      <td>156952658</td>\n",
       "      <td>15373994</td>\n",
       "      <td>1347957</td>\n",
       "      <td>252942540</td>\n",
       "      <td>10735833</td>\n",
       "      <td>11247578</td>\n",
       "      <td>...</td>\n",
       "      <td>10504640</td>\n",
       "      <td>487262</td>\n",
       "      <td>5763846</td>\n",
       "      <td>47655808</td>\n",
       "      <td>17790147</td>\n",
       "      <td>4311878</td>\n",
       "      <td>3396006</td>\n",
       "      <td>559909</td>\n",
       "      <td>269664491</td>\n",
       "      <td>491193571</td>\n",
       "    </tr>\n",
       "  </tbody>\n",
       "</table>\n",
       "<p>19 rows × 28 columns</p>\n",
       "</div>"
      ],
      "text/plain": [
       "    구분       주거용       공공용       서비스업      업무용합계      농림어업       광업  \\\n",
       "0   강원   1940933   1400421    6203749    7604170    607139   398287   \n",
       "1   개성         0         0          0          0         0        0   \n",
       "2   경기  16587710   5533662   33434551   38968213   2371347   317263   \n",
       "3   경남   4260988   1427560    8667737   10095297   2141813    95989   \n",
       "4   경북   3302463   1578115    8487402   10065517   1747462   224568   \n",
       "5   광주   1954876    565527    3174973    3740500     74608     2898   \n",
       "6   대구   3151904    826396    5470438    6296834     69142     5858   \n",
       "7   대전   1872890    954681    3955921    4910602     28643     3326   \n",
       "8   부산   4473510   1305876    7582169    8888045    107927    25289   \n",
       "9   서울  13131172   3581534   27647345   31228879     15150     4064   \n",
       "10  세종    384903    299675     645424     945099     69469    16364   \n",
       "11  울산   1487143    489865    3649386    4139251     80221    20103   \n",
       "12  인천   3856852    921748    7154416    8076164    142953    71529   \n",
       "13  전남   2284124    964024    5690659    6654683   3096126    73217   \n",
       "14  전북   2326183   1096968    4910318    6007286   1415004    85300   \n",
       "15  제주    782601    301727    2308732    2610459   1364930    14019   \n",
       "16  충남   2691823   1089613    7164439    8254052   1928066   248313   \n",
       "17  충북   2027281   1267140    4804638    6071778    721131   139856   \n",
       "18  합계  64576423  22204112  134748546  156952658  15373994  1347957   \n",
       "\n",
       "          제조업     식료품제조     섬유,의류  ...      기타기계    사무기기     전기기기     영상,음향  \\\n",
       "0     6002286    546621     13027  ...     35063    2019    38062     43986   \n",
       "1           0         0         0  ...         0       0        0         0   \n",
       "2    56603327   2544420   2109963  ...   3613798  317244  1040171  24519644   \n",
       "3    18053778    932743    346974  ...   1902913    8070   924235    534196   \n",
       "4    30115601    566071   3780171  ...    782570   14468   750786   4174971   \n",
       "5     2910768    161072    295922  ...    198847    5967   236622    723764   \n",
       "6     5862633    212626   1057342  ...    516493   58446   180189    252662   \n",
       "7     2608343    204171     41687  ...     77970    2949    83609    474561   \n",
       "8     7512588    532943    528513  ...    904149    4913   107717     90644   \n",
       "9     1918893    227077    497699  ...    163688    4395    11425     46225   \n",
       "10    1502922    110211     70617  ...     26185   14319    33539    170366   \n",
       "11   25883132    187738    943299  ...    169132    5053   381602     24165   \n",
       "12   12367816    641088     75895  ...    942801    7853   178502   1124564   \n",
       "13   21453926    511361    160506  ...     66431    1061   149939     42399   \n",
       "14   12965875   1459217    731651  ...    159699    7240   130692    420005   \n",
       "15     241537    155987      3497  ...      1167       0      771         0   \n",
       "16   37057955   1137035    269998  ...    611925   12208   428906  10953811   \n",
       "17   15883448   1152073    333846  ...    366871   23076  1125141   4103832   \n",
       "18  252942540  10735833  11247578  ...  10504640  487262  5763846  47655808   \n",
       "\n",
       "         자동차     기타운송    가구및기타    재생재료      산업용합계         합계  \n",
       "0     113448   108629    12872    3418    7007712   16552816  \n",
       "1          0        0        0       0          0          0  \n",
       "2    2977165    67594  1833112  133041   59291937  114847859  \n",
       "3    2156059  2048646   262523   47662   20291580   34647864  \n",
       "4    2356890   123935    60280   77104   32087631   45455611  \n",
       "5     512148     5140    13392   16049    2988274    8683649  \n",
       "6    1381273    68127    41814   33616    5937633   15386372  \n",
       "7     218191     5439    31657    2252    2640312    9423804  \n",
       "8    1046529   231141    49733   13104    7645804   21007358  \n",
       "9      20182    17656   132707    2875    1938107   46298158  \n",
       "10     79009        0     5132    2603    1588755    2918758  \n",
       "11   2367150  1020610     4984    1626   25983456   31609850  \n",
       "12    612898    54225   360778   32538   12582298   24515313  \n",
       "13     72132   481592    14670   31932   24623269   33562076  \n",
       "14    859741    70980    16175   99003   14466179   22799647  \n",
       "15       773      532     1743     743    1620486    5013545  \n",
       "16   2526658    33766    53804   19725   39234334   50180209  \n",
       "17    603349    82496   513501   46038   16744435   24843494  \n",
       "18  17790147  4311878  3396006  559909  269664491  491193571  \n",
       "\n",
       "[19 rows x 28 columns]"
      ]
     },
     "execution_count": 4,
     "metadata": {},
     "output_type": "execute_result"
    }
   ],
   "source": [
    "power_data"
   ]
  },
  {
   "cell_type": "code",
   "execution_count": 45,
   "metadata": {},
   "outputs": [
    {
     "data": {
      "text/plain": [
       "pandas.core.frame.DataFrame"
      ]
     },
     "execution_count": 45,
     "metadata": {},
     "output_type": "execute_result"
    }
   ],
   "source": [
    "type(power_data)"
   ]
  },
  {
   "cell_type": "code",
   "execution_count": 46,
   "metadata": {},
   "outputs": [
    {
     "data": {
      "text/plain": [
       "Index(['구분', '주거용', '공공용', '서비스업', '업무용합계', '농림어업', '광업', '제조업', '식료품제조',\n",
       "       '섬유,의류', '목재,나무', '펄프,종이', '출판,인쇄', '석유,화확', '의료,광학', '요업', '1차금속',\n",
       "       '조립금속', '기타기계', '사무기기', '전기기기', '영상,음향', '자동차', '기타운송', '가구및기타', '재생재료',\n",
       "       '산업용합계', '합계'],\n",
       "      dtype='object')"
      ]
     },
     "execution_count": 46,
     "metadata": {},
     "output_type": "execute_result"
    }
   ],
   "source": [
    "power_data.columns"
   ]
  },
  {
   "cell_type": "code",
   "execution_count": 47,
   "metadata": {},
   "outputs": [],
   "source": [
    "power = power_data.set_index('구분')"
   ]
  },
  {
   "cell_type": "code",
   "execution_count": 48,
   "metadata": {},
   "outputs": [],
   "source": [
    "power = power.drop(['합계', '개성'], errors='ignore')"
   ]
  },
  {
   "cell_type": "code",
   "execution_count": 49,
   "metadata": {},
   "outputs": [
    {
     "name": "stdout",
     "output_type": "stream",
     "text": [
      "<class 'pandas.core.frame.DataFrame'>\n",
      "Index: 17 entries, 강원 to 충북\n",
      "Data columns (total 27 columns):\n",
      " #   Column  Non-Null Count  Dtype\n",
      "---  ------  --------------  -----\n",
      " 0   주거용     17 non-null     int64\n",
      " 1   공공용     17 non-null     int64\n",
      " 2   서비스업    17 non-null     int64\n",
      " 3   업무용합계   17 non-null     int64\n",
      " 4   농림어업    17 non-null     int64\n",
      " 5   광업      17 non-null     int64\n",
      " 6   제조업     17 non-null     int64\n",
      " 7   식료품제조   17 non-null     int64\n",
      " 8   섬유,의류   17 non-null     int64\n",
      " 9   목재,나무   17 non-null     int64\n",
      " 10  펄프,종이   17 non-null     int64\n",
      " 11  출판,인쇄   17 non-null     int64\n",
      " 12  석유,화확   17 non-null     int64\n",
      " 13  의료,광학   17 non-null     int64\n",
      " 14  요업      17 non-null     int64\n",
      " 15  1차금속    17 non-null     int64\n",
      " 16  조립금속    17 non-null     int64\n",
      " 17  기타기계    17 non-null     int64\n",
      " 18  사무기기    17 non-null     int64\n",
      " 19  전기기기    17 non-null     int64\n",
      " 20  영상,음향   17 non-null     int64\n",
      " 21  자동차     17 non-null     int64\n",
      " 22  기타운송    17 non-null     int64\n",
      " 23  가구및기타   17 non-null     int64\n",
      " 24  재생재료    17 non-null     int64\n",
      " 25  산업용합계   17 non-null     int64\n",
      " 26  합계      17 non-null     int64\n",
      "dtypes: int64(27)\n",
      "memory usage: 3.7+ KB\n"
     ]
    }
   ],
   "source": [
    "power.info()"
   ]
  },
  {
   "cell_type": "markdown",
   "metadata": {},
   "source": [
    "데이터 특성 보기\n",
    "--\n",
    "- boxplot\n",
    "- barplot\n",
    "- histogram"
   ]
  },
  {
   "cell_type": "markdown",
   "metadata": {},
   "source": [
    "## 박스플롯\n",
    "* 최댓값, 최솟값, 중앙값, 사분편차를 사용하여 자료의 측정값들이 어떤 모양으로 분포되어 있으며, 극단값들은 어떠한지 등을 쉽게 알 수 있도록 하는 그림"
   ]
  },
  {
   "cell_type": "markdown",
   "metadata": {},
   "source": [
    "![img6](./img/img6.png)"
   ]
  },
  {
   "cell_type": "markdown",
   "metadata": {},
   "source": [
    "![img7](./img/img7.png)"
   ]
  },
  {
   "cell_type": "markdown",
   "metadata": {},
   "source": [
    "한글 폰트 설정 (맥, 윈도우, 리눅스)\n",
    "--"
   ]
  },
  {
   "cell_type": "code",
   "execution_count": 36,
   "metadata": {},
   "outputs": [],
   "source": [
    "#sudo apt-get install fonts-nanum* -qq"
   ]
  },
  {
   "cell_type": "code",
   "execution_count": 37,
   "metadata": {},
   "outputs": [],
   "source": [
    "import platform\n",
    "from matplotlib import font_manager, rc\n",
    "plt.rc('font', family='DejaVu Sans')"
   ]
  },
  {
   "cell_type": "code",
   "execution_count": 38,
   "metadata": {},
   "outputs": [
    {
     "name": "stdout",
     "output_type": "stream",
     "text": [
      "sys_font number: 313\n",
      "nanum_font number: 31\n"
     ]
    }
   ],
   "source": [
    "# 체크해보면 폰트 개수가 늘어났다\n",
    "sys_font=font_manager.findSystemFonts()\n",
    "print(f\"sys_font number: {len(sys_font)}\")\n",
    "\n",
    "nanum_font = [f for f in sys_font if 'Nanum' in f]\n",
    "print(f\"nanum_font number: {len(nanum_font)}\")"
   ]
  },
  {
   "cell_type": "code",
   "execution_count": 41,
   "metadata": {},
   "outputs": [],
   "source": [
    "# 운영 체제마다 한글이 보이게 하는 설정\n",
    "# 윈도우\n",
    "if platform.system() == 'Windows':\n",
    "    path = \"c:\\Windows\\Fonts\\malgun.ttf\"\n",
    "    font_name = font_manager.FontProperties(fname=path).get_name()\n",
    "    rc('font', family=font_name)\n",
    "# 맥\n",
    "elif platform.system() == 'Darwin':\n",
    "    rc('font', family='AppleGothic')\n",
    "# 리눅스\n",
    "elif platform.system() == 'Linux':\n",
    "    \n",
    "    rc('font', family='NanumGothic')"
   ]
  },
  {
   "cell_type": "code",
   "execution_count": 42,
   "metadata": {},
   "outputs": [
    {
     "data": {
      "text/html": [
       "<div>\n",
       "<style scoped>\n",
       "    .dataframe tbody tr th:only-of-type {\n",
       "        vertical-align: middle;\n",
       "    }\n",
       "\n",
       "    .dataframe tbody tr th {\n",
       "        vertical-align: top;\n",
       "    }\n",
       "\n",
       "    .dataframe thead th {\n",
       "        text-align: right;\n",
       "    }\n",
       "</style>\n",
       "<table border=\"1\" class=\"dataframe\">\n",
       "  <thead>\n",
       "    <tr style=\"text-align: right;\">\n",
       "      <th></th>\n",
       "      <th>서비스업</th>\n",
       "      <th>제조업</th>\n",
       "    </tr>\n",
       "  </thead>\n",
       "  <tbody>\n",
       "    <tr>\n",
       "      <th>count</th>\n",
       "      <td>1.500000e+01</td>\n",
       "      <td>1.500000e+01</td>\n",
       "    </tr>\n",
       "    <tr>\n",
       "      <th>mean</th>\n",
       "      <td>5.324693e+06</td>\n",
       "      <td>1.336151e+07</td>\n",
       "    </tr>\n",
       "    <tr>\n",
       "      <th>std</th>\n",
       "      <td>2.309461e+06</td>\n",
       "      <td>1.126382e+07</td>\n",
       "    </tr>\n",
       "    <tr>\n",
       "      <th>min</th>\n",
       "      <td>6.454240e+05</td>\n",
       "      <td>2.415370e+05</td>\n",
       "    </tr>\n",
       "    <tr>\n",
       "      <th>25%</th>\n",
       "      <td>3.802654e+06</td>\n",
       "      <td>4.386700e+06</td>\n",
       "    </tr>\n",
       "    <tr>\n",
       "      <th>50%</th>\n",
       "      <td>5.470438e+06</td>\n",
       "      <td>1.236782e+07</td>\n",
       "    </tr>\n",
       "    <tr>\n",
       "      <th>75%</th>\n",
       "      <td>7.159428e+06</td>\n",
       "      <td>1.975385e+07</td>\n",
       "    </tr>\n",
       "    <tr>\n",
       "      <th>max</th>\n",
       "      <td>8.667737e+06</td>\n",
       "      <td>3.705796e+07</td>\n",
       "    </tr>\n",
       "  </tbody>\n",
       "</table>\n",
       "</div>"
      ],
      "text/plain": [
       "               서비스업           제조업\n",
       "count  1.500000e+01  1.500000e+01\n",
       "mean   5.324693e+06  1.336151e+07\n",
       "std    2.309461e+06  1.126382e+07\n",
       "min    6.454240e+05  2.415370e+05\n",
       "25%    3.802654e+06  4.386700e+06\n",
       "50%    5.470438e+06  1.236782e+07\n",
       "75%    7.159428e+06  1.975385e+07\n",
       "max    8.667737e+06  3.705796e+07"
      ]
     },
     "execution_count": 42,
     "metadata": {},
     "output_type": "execute_result"
    }
   ],
   "source": [
    "power.describe()"
   ]
  },
  {
   "cell_type": "code",
   "execution_count": 50,
   "metadata": {},
   "outputs": [],
   "source": [
    "font_manager._rebuild() #font manager 다시 불러오기"
   ]
  },
  {
   "cell_type": "code",
   "execution_count": 51,
   "metadata": {
    "scrolled": false
   },
   "outputs": [
    {
     "data": {
      "text/plain": [
       "(array([ 1,  2,  3,  4,  5,  6,  7,  8,  9, 10, 11, 12, 13, 14, 15, 16, 17,\n",
       "        18, 19, 20, 21, 22, 23, 24, 25, 26]),\n",
       " [Text(1, 0, '주거용'),\n",
       "  Text(2, 0, '공공용'),\n",
       "  Text(3, 0, '서비스업'),\n",
       "  Text(4, 0, '업무용합계'),\n",
       "  Text(5, 0, '농림어업'),\n",
       "  Text(6, 0, '광업'),\n",
       "  Text(7, 0, '제조업'),\n",
       "  Text(8, 0, '식료품제조'),\n",
       "  Text(9, 0, '섬유,의류'),\n",
       "  Text(10, 0, '목재,나무'),\n",
       "  Text(11, 0, '펄프,종이'),\n",
       "  Text(12, 0, '출판,인쇄'),\n",
       "  Text(13, 0, '석유,화확'),\n",
       "  Text(14, 0, '의료,광학'),\n",
       "  Text(15, 0, '요업'),\n",
       "  Text(16, 0, '1차금속'),\n",
       "  Text(17, 0, '조립금속'),\n",
       "  Text(18, 0, '기타기계'),\n",
       "  Text(19, 0, '사무기기'),\n",
       "  Text(20, 0, '전기기기'),\n",
       "  Text(21, 0, '영상,음향'),\n",
       "  Text(22, 0, '자동차'),\n",
       "  Text(23, 0, '기타운송'),\n",
       "  Text(24, 0, '가구및기타'),\n",
       "  Text(25, 0, '재생재료'),\n",
       "  Text(26, 0, '산업용합계')])"
      ]
     },
     "execution_count": 51,
     "metadata": {},
     "output_type": "execute_result"
    },
    {
     "data": {
      "image/png": "[encoded data removed]",
      "text/plain": [
       "<Figure size 864x576 with 1 Axes>"
      ]
     },
     "metadata": {
      "needs_background": "light"
     },
     "output_type": "display_data"
    }
   ],
   "source": [
    "power.drop('합계', axis=1).boxplot(figsize=(12,8))\n",
    "plt.xticks(rotation=45)"
   ]
  },
  {
   "cell_type": "code",
   "execution_count": 52,
   "metadata": {},
   "outputs": [
    {
     "data": {
      "text/plain": [
       "<AxesSubplot:>"
      ]
     },
     "execution_count": 52,
     "metadata": {},
     "output_type": "execute_result"
    },
    {
     "data": {
      "image/png": "[encoded data removed]",
      "text/plain": [
       "<Figure size 720x432 with 1 Axes>"
      ]
     },
     "metadata": {
      "needs_background": "light"
     },
     "output_type": "display_data"
    }
   ],
   "source": [
    "power[['서비스업','제조업']].boxplot(figsize=(10,6))"
   ]
  },
  {
   "cell_type": "markdown",
   "metadata": {},
   "source": [
    "바 플롯 (수평형)\n",
    "--"
   ]
  },
  {
   "cell_type": "code",
   "execution_count": 53,
   "metadata": {},
   "outputs": [],
   "source": [
    "power = power.drop('합계', axis=1)"
   ]
  },
  {
   "cell_type": "code",
   "execution_count": 54,
   "metadata": {
    "scrolled": true
   },
   "outputs": [
    {
     "data": {
      "text/plain": [
       "<AxesSubplot:ylabel='구분'>"
      ]
     },
     "execution_count": 54,
     "metadata": {},
     "output_type": "execute_result"
    },
    {
     "data": {
      "image/png": "[encoded data removed]",
      "text/plain": [
       "<Figure size 864x576 with 1 Axes>"
      ]
     },
     "metadata": {
      "needs_background": "light"
     },
     "output_type": "display_data"
    }
   ],
   "source": [
    "power.plot(kind='barh', figsize=(12,8), stacked=True)"
   ]
  },
  {
   "cell_type": "code",
   "execution_count": 55,
   "metadata": {},
   "outputs": [
    {
     "data": {
      "text/plain": [
       "<AxesSubplot:ylabel='구분'>"
      ]
     },
     "execution_count": 55,
     "metadata": {},
     "output_type": "execute_result"
    },
    {
     "data": {
      "image/png": "[encoded data removed]",
      "text/plain": [
       "<Figure size 720x432 with 1 Axes>"
      ]
     },
     "metadata": {
      "needs_background": "light"
     },
     "output_type": "display_data"
    }
   ],
   "source": [
    "power.plot(kind='barh', figsize=(10,6), stacked=True)"
   ]
  },
  {
   "cell_type": "code",
   "execution_count": 56,
   "metadata": {},
   "outputs": [
    {
     "data": {
      "text/plain": [
       "<AxesSubplot:ylabel='구분'>"
      ]
     },
     "execution_count": 56,
     "metadata": {},
     "output_type": "execute_result"
    },
    {
     "data": {
      "image/png": "[encoded data removed]",
      "text/plain": [
       "<Figure size 864x576 with 1 Axes>"
      ]
     },
     "metadata": {
      "needs_background": "light"
     },
     "output_type": "display_data"
    }
   ],
   "source": [
    "sample = ['주거용', '공공용', '서비스업', '농림어업', '제조업']\n",
    "power[sample].plot(kind='barh', figsize=(12,8), stacked=True)"
   ]
  },
  {
   "cell_type": "code",
   "execution_count": 57,
   "metadata": {},
   "outputs": [
    {
     "data": {
      "text/plain": [
       "<AxesSubplot:ylabel='구분'>"
      ]
     },
     "execution_count": 57,
     "metadata": {},
     "output_type": "execute_result"
    },
    {
     "data": {
      "image/png": "[encoded data removed]",
      "text/plain": [
       "<Figure size 720x432 with 1 Axes>"
      ]
     },
     "metadata": {
      "needs_background": "light"
     },
     "output_type": "display_data"
    }
   ],
   "source": [
    "see2 = [ '서비스업','제조업']\n",
    "power[see2].plot(kind='barh', figsize=(10,6), stacked=True)"
   ]
  },
  {
   "cell_type": "code",
   "execution_count": 58,
   "metadata": {
    "scrolled": false
   },
   "outputs": [
    {
     "data": {
      "text/html": [
       "<div>\n",
       "<style scoped>\n",
       "    .dataframe tbody tr th:only-of-type {\n",
       "        vertical-align: middle;\n",
       "    }\n",
       "\n",
       "    .dataframe tbody tr th {\n",
       "        vertical-align: top;\n",
       "    }\n",
       "\n",
       "    .dataframe thead th {\n",
       "        text-align: right;\n",
       "    }\n",
       "</style>\n",
       "<table border=\"1\" class=\"dataframe\">\n",
       "  <thead>\n",
       "    <tr style=\"text-align: right;\">\n",
       "      <th></th>\n",
       "      <th>서비스업</th>\n",
       "      <th>제조업</th>\n",
       "    </tr>\n",
       "    <tr>\n",
       "      <th>구분</th>\n",
       "      <th></th>\n",
       "      <th></th>\n",
       "    </tr>\n",
       "  </thead>\n",
       "  <tbody>\n",
       "    <tr>\n",
       "      <th>강원</th>\n",
       "      <td>6203749</td>\n",
       "      <td>6002286</td>\n",
       "    </tr>\n",
       "    <tr>\n",
       "      <th>경기</th>\n",
       "      <td>33434551</td>\n",
       "      <td>56603327</td>\n",
       "    </tr>\n",
       "    <tr>\n",
       "      <th>경남</th>\n",
       "      <td>8667737</td>\n",
       "      <td>18053778</td>\n",
       "    </tr>\n",
       "    <tr>\n",
       "      <th>경북</th>\n",
       "      <td>8487402</td>\n",
       "      <td>30115601</td>\n",
       "    </tr>\n",
       "    <tr>\n",
       "      <th>광주</th>\n",
       "      <td>3174973</td>\n",
       "      <td>2910768</td>\n",
       "    </tr>\n",
       "  </tbody>\n",
       "</table>\n",
       "</div>"
      ],
      "text/plain": [
       "        서비스업       제조업\n",
       "구분                    \n",
       "강원   6203749   6002286\n",
       "경기  33434551  56603327\n",
       "경남   8667737  18053778\n",
       "경북   8487402  30115601\n",
       "광주   3174973   2910768"
      ]
     },
     "execution_count": 58,
     "metadata": {},
     "output_type": "execute_result"
    }
   ],
   "source": [
    "power = power[['서비스업', '제조업']]\n",
    "power.head(5)"
   ]
  },
  {
   "cell_type": "markdown",
   "metadata": {},
   "source": [
    "히스토그램\n",
    "--"
   ]
  },
  {
   "cell_type": "code",
   "execution_count": 59,
   "metadata": {},
   "outputs": [
    {
     "data": {
      "text/plain": [
       "<AxesSubplot:>"
      ]
     },
     "execution_count": 59,
     "metadata": {},
     "output_type": "execute_result"
    },
    {
     "data": {
      "image/png": "[encoded data removed]",
      "text/plain": [
       "<Figure size 432x288 with 1 Axes>"
      ]
     },
     "metadata": {
      "needs_background": "light"
     },
     "output_type": "display_data"
    }
   ],
   "source": [
    "power['서비스업'].hist()"
   ]
  },
  {
   "cell_type": "markdown",
   "metadata": {},
   "source": [
    "스캐터 플롯\n",
    "--"
   ]
  },
  {
   "cell_type": "code",
   "execution_count": 60,
   "metadata": {},
   "outputs": [
    {
     "name": "stdout",
     "output_type": "stream",
     "text": [
      "(17, 2)\n"
     ]
    }
   ],
   "source": [
    "print(power.shape)"
   ]
  },
  {
   "cell_type": "code",
   "execution_count": 61,
   "metadata": {},
   "outputs": [
    {
     "data": {
      "text/plain": [
       "17"
      ]
     },
     "execution_count": 61,
     "metadata": {},
     "output_type": "execute_result"
    }
   ],
   "source": [
    "n_samples = power.shape[0]\n",
    "n_samples"
   ]
  },
  {
   "cell_type": "code",
   "execution_count": 62,
   "metadata": {},
   "outputs": [
    {
     "name": "stdout",
     "output_type": "stream",
     "text": [
      "17\n"
     ]
    }
   ],
   "source": [
    "print(n_samples)"
   ]
  },
  {
   "cell_type": "code",
   "execution_count": 63,
   "metadata": {
    "scrolled": true
   },
   "outputs": [
    {
     "data": {
      "text/plain": [
       "Text(0, 0.5, '제조업')"
      ]
     },
     "execution_count": 63,
     "metadata": {},
     "output_type": "execute_result"
    },
    {
     "data": {
      "image/png": "[encoded data removed]",
      "text/plain": [
       "<Figure size 576x576 with 1 Axes>"
      ]
     },
     "metadata": {
      "needs_background": "light"
     },
     "output_type": "display_data"
    }
   ],
   "source": [
    "plt.figure(figsize=(8,8))\n",
    "plt.scatter(power['서비스업'], power['제조업'])\n",
    "plt.xlabel('서비스업')\n",
    "plt.ylabel('제조업')"
   ]
  },
  {
   "cell_type": "code",
   "execution_count": 64,
   "metadata": {},
   "outputs": [
    {
     "data": {
      "image/png": "[encoded data removed]",
      "text/plain": [
       "<Figure size 576x576 with 1 Axes>"
      ]
     },
     "metadata": {
      "needs_background": "light"
     },
     "output_type": "display_data"
    }
   ],
   "source": [
    "plt.figure(figsize=(8,8))\n",
    "plt.scatter(power['서비스업'], power['제조업'],c='k',marker='o')\n",
    "plt.xlabel('서비스업')\n",
    "plt.ylabel('제조업')\n",
    "\n",
    "for n in range(power.shape[0]):\n",
    "    plt.text(power['서비스업'][n]*1.03, power['제조업'][n]*0.98, power.index[n])"
   ]
  },
  {
   "cell_type": "code",
   "execution_count": 65,
   "metadata": {},
   "outputs": [],
   "source": [
    "power = power.drop(['경기', '서울'])"
   ]
  },
  {
   "cell_type": "code",
   "execution_count": 66,
   "metadata": {},
   "outputs": [
    {
     "data": {
      "text/html": [
       "<div>\n",
       "<style scoped>\n",
       "    .dataframe tbody tr th:only-of-type {\n",
       "        vertical-align: middle;\n",
       "    }\n",
       "\n",
       "    .dataframe tbody tr th {\n",
       "        vertical-align: top;\n",
       "    }\n",
       "\n",
       "    .dataframe thead th {\n",
       "        text-align: right;\n",
       "    }\n",
       "</style>\n",
       "<table border=\"1\" class=\"dataframe\">\n",
       "  <thead>\n",
       "    <tr style=\"text-align: right;\">\n",
       "      <th></th>\n",
       "      <th>서비스업</th>\n",
       "      <th>제조업</th>\n",
       "    </tr>\n",
       "    <tr>\n",
       "      <th>구분</th>\n",
       "      <th></th>\n",
       "      <th></th>\n",
       "    </tr>\n",
       "  </thead>\n",
       "  <tbody>\n",
       "    <tr>\n",
       "      <th>강원</th>\n",
       "      <td>6203749</td>\n",
       "      <td>6002286</td>\n",
       "    </tr>\n",
       "    <tr>\n",
       "      <th>경남</th>\n",
       "      <td>8667737</td>\n",
       "      <td>18053778</td>\n",
       "    </tr>\n",
       "    <tr>\n",
       "      <th>경북</th>\n",
       "      <td>8487402</td>\n",
       "      <td>30115601</td>\n",
       "    </tr>\n",
       "    <tr>\n",
       "      <th>광주</th>\n",
       "      <td>3174973</td>\n",
       "      <td>2910768</td>\n",
       "    </tr>\n",
       "    <tr>\n",
       "      <th>대구</th>\n",
       "      <td>5470438</td>\n",
       "      <td>5862633</td>\n",
       "    </tr>\n",
       "    <tr>\n",
       "      <th>대전</th>\n",
       "      <td>3955921</td>\n",
       "      <td>2608343</td>\n",
       "    </tr>\n",
       "    <tr>\n",
       "      <th>부산</th>\n",
       "      <td>7582169</td>\n",
       "      <td>7512588</td>\n",
       "    </tr>\n",
       "    <tr>\n",
       "      <th>세종</th>\n",
       "      <td>645424</td>\n",
       "      <td>1502922</td>\n",
       "    </tr>\n",
       "    <tr>\n",
       "      <th>울산</th>\n",
       "      <td>3649386</td>\n",
       "      <td>25883132</td>\n",
       "    </tr>\n",
       "    <tr>\n",
       "      <th>인천</th>\n",
       "      <td>7154416</td>\n",
       "      <td>12367816</td>\n",
       "    </tr>\n",
       "    <tr>\n",
       "      <th>전남</th>\n",
       "      <td>5690659</td>\n",
       "      <td>21453926</td>\n",
       "    </tr>\n",
       "    <tr>\n",
       "      <th>전북</th>\n",
       "      <td>4910318</td>\n",
       "      <td>12965875</td>\n",
       "    </tr>\n",
       "    <tr>\n",
       "      <th>제주</th>\n",
       "      <td>2308732</td>\n",
       "      <td>241537</td>\n",
       "    </tr>\n",
       "    <tr>\n",
       "      <th>충남</th>\n",
       "      <td>7164439</td>\n",
       "      <td>37057955</td>\n",
       "    </tr>\n",
       "    <tr>\n",
       "      <th>충북</th>\n",
       "      <td>4804638</td>\n",
       "      <td>15883448</td>\n",
       "    </tr>\n",
       "  </tbody>\n",
       "</table>\n",
       "</div>"
      ],
      "text/plain": [
       "       서비스업       제조업\n",
       "구분                   \n",
       "강원  6203749   6002286\n",
       "경남  8667737  18053778\n",
       "경북  8487402  30115601\n",
       "광주  3174973   2910768\n",
       "대구  5470438   5862633\n",
       "대전  3955921   2608343\n",
       "부산  7582169   7512588\n",
       "세종   645424   1502922\n",
       "울산  3649386  25883132\n",
       "인천  7154416  12367816\n",
       "전남  5690659  21453926\n",
       "전북  4910318  12965875\n",
       "제주  2308732    241537\n",
       "충남  7164439  37057955\n",
       "충북  4804638  15883448"
      ]
     },
     "execution_count": 66,
     "metadata": {},
     "output_type": "execute_result"
    }
   ],
   "source": [
    "power"
   ]
  },
  {
   "cell_type": "code",
   "execution_count": 67,
   "metadata": {},
   "outputs": [
    {
     "data": {
      "image/png": "[encoded data removed]",
      "text/plain": [
       "<Figure size 576x576 with 1 Axes>"
      ]
     },
     "metadata": {
      "needs_background": "light"
     },
     "output_type": "display_data"
    }
   ],
   "source": [
    "plt.figure(figsize=(8,8))\n",
    "plt.scatter(power['서비스업'], power['제조업'],c='k',marker='o')\n",
    "plt.xlabel('서비스업')\n",
    "plt.ylabel('제조업')\n",
    "\n",
    "for n in range(power.shape[0]):\n",
    "    plt.text(power['서비스업'][n]*1.03, power['제조업'][n]*0.98, power.index[n])"
   ]
  },
  {
   "cell_type": "code",
   "execution_count": null,
   "metadata": {},
   "outputs": [],
   "source": []
  }
 ],
 "metadata": {
  "kernelspec": {
   "display_name": "Python 3",
   "language": "python",
   "name": "python3"
  },
  "language_info": {
   "codemirror_mode": {
    "name": "ipython",
    "version": 3
   },
   "file_extension": ".py",
   "mimetype": "text/x-python",
   "name": "python",
   "nbconvert_exporter": "python",
   "pygments_lexer": "ipython3",
   "version": "3.8.8"
  },
  "toc": {
   "base_numbering": 1,
   "nav_menu": {},
   "number_sections": false,
   "sideBar": true,
   "skip_h1_title": false,
   "title_cell": "Table of Contents",
   "title_sidebar": "Contents",
   "toc_cell": false,
   "toc_position": {},
   "toc_section_display": true,
   "toc_window_display": true
  }
 },
 "nbformat": 4,
 "nbformat_minor": 2
}
