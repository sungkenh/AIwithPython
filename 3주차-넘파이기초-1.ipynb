{
 "cells": [
  {
   "cell_type": "markdown",
   "id": "a53170a2",
   "metadata": {},
   "source": [
    "# 데이터 처리\n",
    "* 데이터세트는 광범위한 종류를 가짐 ex. 문서, 이미지, 사운드, 수치 측정값 등\n",
    "* 데이터를 분석할 수 있게 만드는 첫번째 단계는 데이터를 숫자 배열로 변환하는 것"
   ]
  },
  {
   "cell_type": "markdown",
   "id": "5a5448aa",
   "metadata": {},
   "source": [
    "![img8](./img/img8.png)"
   ]
  },
  {
   "cell_type": "markdown",
   "id": "d9aa204b",
   "metadata": {},
   "source": [
    "# numpy\n",
    "- Numpy array는 list와 비슷하지만, 배열의 규모가 커질 수록 데이터 저장 및 처리에 훨씬 더 효율적임\n",
    "- 데이터프레임은 테이블 구조 데이터의 편리한 조작을 위해서 사용\n",
    "- 숫자만으로 구성된 데이터를 대상으로 \"수학 연산\"을 하기 위해서는 배열 (array)을 다루어야 한다\n",
    "- 이를 위해 넘파이 라이브러리를 사용한다\n",
    "- 다 차원 배열 ndarray(n-dimensional array)를 다룬다\n"
   ]
  },
  {
   "cell_type": "markdown",
   "id": "2600b6cc",
   "metadata": {},
   "source": [
    "## 리스트와 배열의 차이\n",
    "- 리스트는 데이터 조작용 배열은 계산용\n",
    "- 리스트, 배열, 튜플은 서로 타입을 쉽게 바꿀 수 있다"
   ]
  },
  {
   "cell_type": "code",
   "execution_count": 39,
   "id": "347f08d4",
   "metadata": {},
   "outputs": [
    {
     "data": {
      "text/plain": [
       "[1, 2, 10, 1, 2, 10, 1, 2, 10]"
      ]
     },
     "execution_count": 39,
     "metadata": {},
     "output_type": "execute_result"
    }
   ],
   "source": [
    "# 리스트의 복제\n",
    "x = [1, 2, 10]\n",
    "x * 3"
   ]
  },
  {
   "cell_type": "code",
   "execution_count": 40,
   "id": "388fc8c1",
   "metadata": {},
   "outputs": [
    {
     "name": "stdout",
     "output_type": "stream",
     "text": [
      "1.20.1\n"
     ]
    }
   ],
   "source": [
    "import numpy as np\n",
    "print(np.__version__)"
   ]
  },
  {
   "cell_type": "code",
   "execution_count": 43,
   "id": "1541974b",
   "metadata": {},
   "outputs": [],
   "source": [
    "np?"
   ]
  },
  {
   "cell_type": "markdown",
   "id": "f280a93f",
   "metadata": {},
   "source": [
    "## 리스트에서 배열만들기"
   ]
  },
  {
   "cell_type": "code",
   "execution_count": 47,
   "id": "5a03786e",
   "metadata": {},
   "outputs": [
    {
     "data": {
      "text/plain": [
       "array([ 1,  2, 10])"
      ]
     },
     "execution_count": 47,
     "metadata": {},
     "output_type": "execute_result"
    }
   ],
   "source": [
    "y = np.array(x)\n",
    "y"
   ]
  },
  {
   "cell_type": "code",
   "execution_count": 51,
   "id": "0b2939a9",
   "metadata": {},
   "outputs": [
    {
     "data": {
      "text/plain": [
       "array([ 1.,  2., 10.])"
      ]
     },
     "execution_count": 51,
     "metadata": {},
     "output_type": "execute_result"
    }
   ],
   "source": [
    "y = np.array(x, dtype='float')\n",
    "y"
   ]
  },
  {
   "cell_type": "code",
   "execution_count": 48,
   "id": "ee016860",
   "metadata": {},
   "outputs": [
    {
     "data": {
      "text/plain": [
       "numpy.ndarray"
      ]
     },
     "execution_count": 48,
     "metadata": {},
     "output_type": "execute_result"
    }
   ],
   "source": [
    "type(y)"
   ]
  },
  {
   "cell_type": "code",
   "execution_count": 49,
   "id": "39bacdab",
   "metadata": {},
   "outputs": [
    {
     "data": {
      "text/plain": [
       "[1, 2, 10]"
      ]
     },
     "execution_count": 49,
     "metadata": {},
     "output_type": "execute_result"
    }
   ],
   "source": [
    "z = y.tolist()\n",
    "z"
   ]
  },
  {
   "cell_type": "code",
   "execution_count": 50,
   "id": "32288c15",
   "metadata": {},
   "outputs": [
    {
     "data": {
      "text/plain": [
       "list"
      ]
     },
     "execution_count": 50,
     "metadata": {},
     "output_type": "execute_result"
    }
   ],
   "source": [
    "type(z)"
   ]
  },
  {
   "cell_type": "markdown",
   "id": "6b513d46",
   "metadata": {},
   "source": [
    "## 배열 속성 지정"
   ]
  },
  {
   "cell_type": "code",
   "execution_count": 53,
   "id": "7de01227",
   "metadata": {},
   "outputs": [],
   "source": [
    "x1 = np.random.randint(10, size=6) #1차원\n",
    "x2 = np.random.randint(10, size=(3,4)) #2차원\n",
    "x3 = np.random.randint(10, size=(3,4,5)) #3차원"
   ]
  },
  {
   "cell_type": "code",
   "execution_count": 59,
   "id": "b23bbd48",
   "metadata": {},
   "outputs": [
    {
     "name": "stdout",
     "output_type": "stream",
     "text": [
      "[[0 1 3 3]\n",
      " [4 0 8 5]\n",
      " [3 1 5 5]]\n",
      "x1 ndim:  2\n",
      "x1 shape:  (3, 4)\n",
      "x1 size:  12\n",
      "x1 dtype:  int64\n"
     ]
    }
   ],
   "source": [
    "print(x2)\n",
    "print(\"x1 ndim: \",x2.ndim)\n",
    "print(\"x1 shape: \", x2.shape)\n",
    "print(\"x1 size: \", x2.size)\n",
    "print(\"x1 dtype: \", x1.dtype)"
   ]
  },
  {
   "cell_type": "markdown",
   "id": "dd48f2d1",
   "metadata": {},
   "source": [
    "## arange\n",
    "- range 타입의 \"범위\" 데이터를 생성한 후 이를 배열로 만든다"
   ]
  },
  {
   "cell_type": "code",
   "execution_count": 11,
   "id": "6eccc750",
   "metadata": {},
   "outputs": [
    {
     "data": {
      "text/plain": [
       "array([ 0,  1,  2,  3,  4,  5,  6,  7,  8,  9, 10, 11])"
      ]
     },
     "execution_count": 11,
     "metadata": {},
     "output_type": "execute_result"
    }
   ],
   "source": [
    "x = np.arange(12)\n",
    "x"
   ]
  },
  {
   "cell_type": "markdown",
   "id": "714f5e39",
   "metadata": {},
   "source": [
    "## reshape\n",
    "- 배열의 구조를 바꾼다 (차원 변경)"
   ]
  },
  {
   "cell_type": "code",
   "execution_count": 68,
   "id": "f8561ff0",
   "metadata": {},
   "outputs": [
    {
     "data": {
      "text/plain": [
       "array([[ 0,  1,  2],\n",
       "       [ 3,  4,  5],\n",
       "       [ 6,  7,  8],\n",
       "       [ 9, 10, 11]])"
      ]
     },
     "execution_count": 68,
     "metadata": {},
     "output_type": "execute_result"
    }
   ],
   "source": [
    "# 0~11 값으로 구성된 1차원 배열을 4x3 모양의 2차원 배열로 변경\n",
    "x = np.arange(12).reshape(4,3)\n",
    "x"
   ]
  },
  {
   "cell_type": "markdown",
   "id": "9aee4613",
   "metadata": {},
   "source": [
    "# 배열 다루기"
   ]
  },
  {
   "cell_type": "markdown",
   "id": "472c7c2e",
   "metadata": {},
   "source": [
    "## 샘플(행) 추출\n",
    "- 행단위의 추출은 인덱스를 지정"
   ]
  },
  {
   "cell_type": "code",
   "execution_count": 13,
   "id": "653a8d56",
   "metadata": {},
   "outputs": [
    {
     "data": {
      "text/plain": [
       "array([0, 1, 2])"
      ]
     },
     "execution_count": 13,
     "metadata": {},
     "output_type": "execute_result"
    }
   ],
   "source": [
    "x[0]"
   ]
  },
  {
   "cell_type": "code",
   "execution_count": 14,
   "id": "cc7d4277",
   "metadata": {},
   "outputs": [
    {
     "data": {
      "text/plain": [
       "array([[0, 1, 2],\n",
       "       [6, 7, 8]])"
      ]
     },
     "execution_count": 14,
     "metadata": {},
     "output_type": "execute_result"
    }
   ],
   "source": [
    "x[[0,2]]"
   ]
  },
  {
   "cell_type": "code",
   "execution_count": 15,
   "id": "640d0740",
   "metadata": {},
   "outputs": [
    {
     "data": {
      "text/plain": [
       "array([[0, 1, 2],\n",
       "       [3, 4, 5],\n",
       "       [6, 7, 8]])"
      ]
     },
     "execution_count": 15,
     "metadata": {},
     "output_type": "execute_result"
    }
   ],
   "source": [
    "x[0:3]"
   ]
  },
  {
   "cell_type": "markdown",
   "id": "13faf1b3",
   "metadata": {},
   "source": [
    "## 행과 열 추출\n",
    "- 행과 열을 지정하기 위해서는 [ , ]과 같이 \",\"로 행, 열을 구분해야 한다\n",
    "- : 는 전체 범위를 나타낸다"
   ]
  },
  {
   "cell_type": "code",
   "execution_count": 16,
   "id": "f6b27eae",
   "metadata": {},
   "outputs": [
    {
     "data": {
      "text/plain": [
       "array([[ 0,  2],\n",
       "       [ 3,  5],\n",
       "       [ 6,  8],\n",
       "       [ 9, 11]])"
      ]
     },
     "execution_count": 16,
     "metadata": {},
     "output_type": "execute_result"
    }
   ],
   "source": [
    "x[:,[0,2]]"
   ]
  },
  {
   "cell_type": "code",
   "execution_count": 17,
   "id": "84d94080",
   "metadata": {},
   "outputs": [
    {
     "data": {
      "text/plain": [
       "array([[ 1,  2],\n",
       "       [ 4,  5],\n",
       "       [ 7,  8],\n",
       "       [10, 11]])"
      ]
     },
     "execution_count": 17,
     "metadata": {},
     "output_type": "execute_result"
    }
   ],
   "source": [
    "x[:,1:3]"
   ]
  },
  {
   "cell_type": "code",
   "execution_count": 18,
   "id": "5a4dc661",
   "metadata": {},
   "outputs": [
    {
     "data": {
      "text/plain": [
       "array([[ 0,  1,  2],\n",
       "       [ 3,  4,  5],\n",
       "       [ 6,  7,  8],\n",
       "       [ 9, 10, 11]])"
      ]
     },
     "execution_count": 18,
     "metadata": {},
     "output_type": "execute_result"
    }
   ],
   "source": [
    "x"
   ]
  },
  {
   "cell_type": "markdown",
   "id": "86f1289c",
   "metadata": {},
   "source": [
    "## 배열 연산\n",
    "- 일반 스칼라 변수의 연산과 동일한 형식을 사용할 수 있다"
   ]
  },
  {
   "cell_type": "code",
   "execution_count": 20,
   "id": "5588825b",
   "metadata": {},
   "outputs": [
    {
     "data": {
      "text/plain": [
       "array([[100, 101, 102],\n",
       "       [103, 104, 105],\n",
       "       [106, 107, 108],\n",
       "       [109, 110, 111]])"
      ]
     },
     "execution_count": 20,
     "metadata": {},
     "output_type": "execute_result"
    }
   ],
   "source": [
    "x + 100"
   ]
  },
  {
   "cell_type": "code",
   "execution_count": 21,
   "id": "4b1d43ea",
   "metadata": {},
   "outputs": [
    {
     "data": {
      "text/plain": [
       "array([[  0,  10,  20],\n",
       "       [ 30,  40,  50],\n",
       "       [ 60,  70,  80],\n",
       "       [ 90, 100, 110]])"
      ]
     },
     "execution_count": 21,
     "metadata": {},
     "output_type": "execute_result"
    }
   ],
   "source": [
    "10*x"
   ]
  },
  {
   "cell_type": "markdown",
   "id": "6db42edf",
   "metadata": {},
   "source": [
    "## 로직 연산"
   ]
  },
  {
   "cell_type": "code",
   "execution_count": 22,
   "id": "746a1c48",
   "metadata": {},
   "outputs": [
    {
     "data": {
      "text/plain": [
       "array([[False, False, False],\n",
       "       [False, False, False],\n",
       "       [ True,  True,  True],\n",
       "       [ True,  True,  True]])"
      ]
     },
     "execution_count": 22,
     "metadata": {},
     "output_type": "execute_result"
    }
   ],
   "source": [
    "x > 5"
   ]
  },
  {
   "cell_type": "code",
   "execution_count": 23,
   "id": "8e9a01f1",
   "metadata": {},
   "outputs": [
    {
     "data": {
      "text/plain": [
       "array([[0, 1, 2],\n",
       "       [3, 4, 5],\n",
       "       [9, 9, 9],\n",
       "       [9, 9, 9]])"
      ]
     },
     "execution_count": 23,
     "metadata": {},
     "output_type": "execute_result"
    }
   ],
   "source": [
    "# 5 보다 큰 값을 모두 9로 교체\n",
    "x[x > 5] = 9\n",
    "x"
   ]
  },
  {
   "cell_type": "code",
   "execution_count": 24,
   "id": "d02bb6e9",
   "metadata": {},
   "outputs": [
    {
     "data": {
      "text/plain": [
       "array([[0, 3, 9, 9],\n",
       "       [1, 4, 9, 9],\n",
       "       [2, 5, 9, 9]])"
      ]
     },
     "execution_count": 24,
     "metadata": {},
     "output_type": "execute_result"
    }
   ],
   "source": [
    "# 트랜스포즈는 행과 열의 위치를 바꾼다 (T 사용)\n",
    "x.T"
   ]
  },
  {
   "cell_type": "markdown",
   "id": "5ca16aab",
   "metadata": {},
   "source": [
    "## 행, 열 대상 연산"
   ]
  },
  {
   "cell_type": "code",
   "execution_count": 103,
   "id": "48f7490e",
   "metadata": {},
   "outputs": [
    {
     "data": {
      "text/plain": [
       "array([[ 0,  1,  2,  3],\n",
       "       [ 4,  5,  6,  7],\n",
       "       [ 8,  9, 10, 11],\n",
       "       [12, 13, 14, 15],\n",
       "       [16, 17, 18, 19],\n",
       "       [20, 21, 22, 23]])"
      ]
     },
     "execution_count": 103,
     "metadata": {},
     "output_type": "execute_result"
    }
   ],
   "source": [
    "x = np.arange(24).reshape(6,4)\n",
    "x"
   ]
  },
  {
   "cell_type": "code",
   "execution_count": 104,
   "id": "1644e875",
   "metadata": {},
   "outputs": [
    {
     "data": {
      "text/plain": [
       "array([10., 11., 12., 13.])"
      ]
     },
     "execution_count": 104,
     "metadata": {},
     "output_type": "execute_result"
    }
   ],
   "source": [
    "# 컬럼(열) 대상 연산\n",
    "x.mean(axis=0)"
   ]
  },
  {
   "cell_type": "code",
   "execution_count": 105,
   "id": "a01291cb",
   "metadata": {},
   "outputs": [
    {
     "data": {
      "text/plain": [
       "array([ 1.5,  5.5,  9.5, 13.5, 17.5, 21.5])"
      ]
     },
     "execution_count": 105,
     "metadata": {},
     "output_type": "execute_result"
    }
   ],
   "source": [
    "# 행 대상 연산\n",
    "x.mean(axis=1)"
   ]
  },
  {
   "cell_type": "code",
   "execution_count": 106,
   "id": "e5c4beb6",
   "metadata": {},
   "outputs": [
    {
     "data": {
      "text/plain": [
       "11.5"
      ]
     },
     "execution_count": 106,
     "metadata": {},
     "output_type": "execute_result"
    }
   ],
   "source": [
    "# 배열 전체의 평균\n",
    "x.mean()"
   ]
  },
  {
   "cell_type": "code",
   "execution_count": 107,
   "id": "c82588d5",
   "metadata": {},
   "outputs": [
    {
     "data": {
      "text/plain": [
       "array([20, 21, 22, 23])"
      ]
     },
     "execution_count": 107,
     "metadata": {},
     "output_type": "execute_result"
    }
   ],
   "source": [
    "# 컬럼별 최대값\n",
    "x.max(axis=0)"
   ]
  },
  {
   "cell_type": "code",
   "execution_count": 108,
   "id": "b0f217f4",
   "metadata": {},
   "outputs": [
    {
     "data": {
      "text/plain": [
       "array([0, 1, 2, 3])"
      ]
     },
     "execution_count": 108,
     "metadata": {},
     "output_type": "execute_result"
    }
   ],
   "source": [
    "# 컬럼별 최소값\n",
    "x.min(axis=0)"
   ]
  },
  {
   "cell_type": "markdown",
   "id": "f0bdb55e",
   "metadata": {},
   "source": [
    "## 배열 붙이기\n",
    "- 넘파이의 concatenate() 사용\n",
    "- 행의 방향 또는 열의 방향으로 붙일 수 있다"
   ]
  },
  {
   "cell_type": "code",
   "execution_count": 113,
   "id": "26f61848",
   "metadata": {},
   "outputs": [
    {
     "data": {
      "text/plain": [
       "array([[100, 101, 102, 103],\n",
       "       [104, 105, 106, 107],\n",
       "       [108, 109, 110, 111],\n",
       "       [112, 113, 114, 115],\n",
       "       [116, 117, 118, 119],\n",
       "       [120, 121, 122, 123]])"
      ]
     },
     "execution_count": 113,
     "metadata": {},
     "output_type": "execute_result"
    }
   ],
   "source": [
    "data = np.arange(100,124).reshape(6,4)\n",
    "data"
   ]
  },
  {
   "cell_type": "code",
   "execution_count": 114,
   "id": "e638acf0",
   "metadata": {},
   "outputs": [
    {
     "data": {
      "text/plain": [
       "array([[  0,   1,   2,   3],\n",
       "       [  4,   5,   6,   7],\n",
       "       [  8,   9,  10,  11],\n",
       "       [ 12,  13,  14,  15],\n",
       "       [ 16,  17,  18,  19],\n",
       "       [ 20,  21,  22,  23],\n",
       "       [100, 101, 102, 103],\n",
       "       [104, 105, 106, 107],\n",
       "       [108, 109, 110, 111],\n",
       "       [112, 113, 114, 115],\n",
       "       [116, 117, 118, 119],\n",
       "       [120, 121, 122, 123]])"
      ]
     },
     "execution_count": 114,
     "metadata": {},
     "output_type": "execute_result"
    }
   ],
   "source": [
    "data2 = np.concatenate((x, data))\n",
    "data2"
   ]
  },
  {
   "cell_type": "code",
   "execution_count": 115,
   "id": "61267231",
   "metadata": {},
   "outputs": [
    {
     "data": {
      "text/plain": [
       "array([[  0,   1,   2,   3, 100, 101, 102, 103],\n",
       "       [  4,   5,   6,   7, 104, 105, 106, 107],\n",
       "       [  8,   9,  10,  11, 108, 109, 110, 111],\n",
       "       [ 12,  13,  14,  15, 112, 113, 114, 115],\n",
       "       [ 16,  17,  18,  19, 116, 117, 118, 119],\n",
       "       [ 20,  21,  22,  23, 120, 121, 122, 123]])"
      ]
     },
     "execution_count": 115,
     "metadata": {},
     "output_type": "execute_result"
    }
   ],
   "source": [
    "data3 = np.concatenate((x, data), axis=1)\n",
    "data3"
   ]
  },
  {
   "cell_type": "code",
   "execution_count": 116,
   "id": "1fdd870b",
   "metadata": {},
   "outputs": [
    {
     "data": {
      "text/plain": [
       "array([[ 20, 101, 102, 103],\n",
       "       [104, 105, 106, 107],\n",
       "       [108, 109, 110, 111],\n",
       "       [112, 113, 114, 115],\n",
       "       [116, 117, 118, 119],\n",
       "       [120, 121, 122, 123]])"
      ]
     },
     "execution_count": 116,
     "metadata": {},
     "output_type": "execute_result"
    }
   ],
   "source": [
    "copy1=data\n",
    "data[0,0]=20\n",
    "copy1"
   ]
  },
  {
   "cell_type": "code",
   "execution_count": 117,
   "id": "f612f6ea",
   "metadata": {},
   "outputs": [
    {
     "data": {
      "text/plain": [
       "array([[100, 101, 102, 103],\n",
       "       [104, 105, 106, 107],\n",
       "       [108, 109, 110, 111],\n",
       "       [112, 113, 114, 115],\n",
       "       [116, 117, 118, 119],\n",
       "       [120, 121, 122, 123]])"
      ]
     },
     "execution_count": 117,
     "metadata": {},
     "output_type": "execute_result"
    }
   ],
   "source": [
    "data[0,0]=100\n",
    "copy2 = data.copy()\n",
    "data[0,0]=20\n",
    "copy2"
   ]
  },
  {
   "cell_type": "markdown",
   "id": "c100151b",
   "metadata": {},
   "source": [
    "# Numpy 배열연산: 유니버셜 함수\n",
    "- Numpy는 데이터 배열을 사용하여 최적화된 연산을 위한 쉽고 유연한 인터페이스를 제공\n",
    "- Numpy패키지에서 사용할 수 있는 유니버설 함수가 있음"
   ]
  },
  {
   "cell_type": "code",
   "execution_count": 79,
   "id": "305548e8",
   "metadata": {},
   "outputs": [
    {
     "data": {
      "text/plain": [
       "array([0, 1, 2, 3])"
      ]
     },
     "execution_count": 79,
     "metadata": {},
     "output_type": "execute_result"
    }
   ],
   "source": [
    "x = np.arange(4)\n",
    "x"
   ]
  },
  {
   "cell_type": "markdown",
   "id": "82441e72",
   "metadata": {},
   "source": [
    "## 산술연산"
   ]
  },
  {
   "cell_type": "code",
   "execution_count": 84,
   "id": "cf6198c4",
   "metadata": {},
   "outputs": [
    {
     "name": "stdout",
     "output_type": "stream",
     "text": [
      "[2 3 4 5]\n",
      "[-2 -1  0  1]\n",
      "[ 0 -1 -2 -3]\n",
      "[0 3 6 9]\n",
      "[0.         0.33333333 0.66666667 1.        ]\n"
     ]
    }
   ],
   "source": [
    "print(np.add(x,2))\n",
    "print(np.subtract(x,2))\n",
    "print(np.negative(x))\n",
    "print(np.multiply(x,3))\n",
    "print(np.divide(x,3))"
   ]
  },
  {
   "cell_type": "markdown",
   "id": "26211364",
   "metadata": {},
   "source": [
    "## 절댓값\n",
    "* 삼각함수(sin, cos, tan)\n",
    "* 지수와 로그 exp, log"
   ]
  },
  {
   "cell_type": "code",
   "execution_count": 90,
   "id": "d1512b86",
   "metadata": {},
   "outputs": [
    {
     "name": "stdout",
     "output_type": "stream",
     "text": [
      "[-2 -1  0  1  2]\n"
     ]
    },
    {
     "data": {
      "text/plain": [
       "array([2, 1, 0, 1, 2])"
      ]
     },
     "execution_count": 90,
     "metadata": {},
     "output_type": "execute_result"
    }
   ],
   "source": [
    "x = np.arange(-2,3)\n",
    "print(x)\n",
    "abs(x)"
   ]
  },
  {
   "cell_type": "markdown",
   "id": "a48efd78",
   "metadata": {},
   "source": [
    "## 최솟값과 최댓값"
   ]
  },
  {
   "cell_type": "code",
   "execution_count": 93,
   "id": "108b46a8",
   "metadata": {},
   "outputs": [
    {
     "name": "stdout",
     "output_type": "stream",
     "text": [
      "[0.59075442 0.24374902 0.49250271 0.61380619 0.39549949 0.50281563\n",
      " 0.17989409 0.34887626 0.56986616 0.52002116]\n",
      "0.6138061864028608\n",
      "0.1798940900716013\n",
      "4.457785137599677\n"
     ]
    }
   ],
   "source": [
    "arr= np.random.rand(10)\n",
    "print(arr)\n",
    "print(max(arr))\n",
    "print(min(arr))\n",
    "print(sum(arr))"
   ]
  },
  {
   "cell_type": "code",
   "execution_count": 97,
   "id": "4069453c",
   "metadata": {},
   "outputs": [
    {
     "name": "stdout",
     "output_type": "stream",
     "text": [
      "[[0.56187121 0.59382726 0.64416713 0.38348736]\n",
      " [0.30570981 0.67252019 0.36439612 0.84432302]\n",
      " [0.66896606 0.10154905 0.09636033 0.95668048]]\n",
      "6.193858036938742\n",
      "0.09636032511745551\n",
      "0.9566804789139849\n",
      "[0.66896606 0.67252019 0.64416713 0.95668048]\n"
     ]
    }
   ],
   "source": [
    "M = np.random.random((3,4))\n",
    "print(M)\n",
    "print(M.sum())\n",
    "print(M.min())\n",
    "print(M.max())\n",
    "print(M.max(axis=0))"
   ]
  },
  {
   "cell_type": "markdown",
   "id": "55ffea0a",
   "metadata": {},
   "source": [
    "## 정렬"
   ]
  },
  {
   "cell_type": "code",
   "execution_count": 98,
   "id": "c8621bda",
   "metadata": {},
   "outputs": [
    {
     "data": {
      "text/plain": [
       "array([1, 2, 3, 4, 5])"
      ]
     },
     "execution_count": 98,
     "metadata": {},
     "output_type": "execute_result"
    }
   ],
   "source": [
    "x = np.array([2,1,4,3,5])\n",
    "np.sort(x)"
   ]
  },
  {
   "cell_type": "markdown",
   "id": "e9cf1ce7",
   "metadata": {},
   "source": [
    "## 구조화 배열 만들기"
   ]
  },
  {
   "cell_type": "code",
   "execution_count": 131,
   "id": "08ba2d96",
   "metadata": {},
   "outputs": [],
   "source": [
    "name = [\"Alice\", \"Bob\", \"Cathy\", \"Doug\"]\n",
    "age = [25, 45, 37, 19]\n",
    "weight = [55.0, 85.5, 68.0, 61.5]"
   ]
  },
  {
   "cell_type": "code",
   "execution_count": 132,
   "id": "88fd6be2",
   "metadata": {},
   "outputs": [
    {
     "data": {
      "text/plain": [
       "array([0, 0, 0, 0])"
      ]
     },
     "execution_count": 132,
     "metadata": {},
     "output_type": "execute_result"
    }
   ],
   "source": [
    "x = np.zeros(4, dtype=int)\n",
    "x"
   ]
  },
  {
   "cell_type": "code",
   "execution_count": 135,
   "id": "18952873",
   "metadata": {},
   "outputs": [
    {
     "name": "stdout",
     "output_type": "stream",
     "text": [
      "[('Alice', 25, 55. ) ('Bob', 45, 85.5) ('Cathy', 37, 68. )\n",
      " ('Doug', 19, 61.5)]\n"
     ]
    }
   ],
   "source": [
    "data = np.zeros(4, dtype={'names':('name', 'age', 'weight'),\n",
    "                      'formats':('U10','i4','f8')})\n",
    "data['name'] = name\n",
    "data['age'] = age\n",
    "data['weight'] = weight\n",
    "print(data)"
   ]
  },
  {
   "cell_type": "markdown",
   "id": "43116217",
   "metadata": {},
   "source": [
    "## 데이터프레임과 배열 전환\n",
    "- 데이터프레임과 배열은 쉽게 서로 전환할 수 있다\n",
    "- 배열에는 인데스와 컬럼 이름이 포함되지 않는다 "
   ]
  },
  {
   "cell_type": "code",
   "execution_count": 120,
   "id": "73a2fb3d",
   "metadata": {},
   "outputs": [
    {
     "data": {
      "text/plain": [
       "array([[ 0,  1,  2,  3],\n",
       "       [ 4,  5,  6,  7],\n",
       "       [ 8,  9, 10, 11],\n",
       "       [12, 13, 14, 15],\n",
       "       [16, 17, 18, 19],\n",
       "       [20, 21, 22, 23]])"
      ]
     },
     "execution_count": 120,
     "metadata": {},
     "output_type": "execute_result"
    }
   ],
   "source": [
    "x"
   ]
  },
  {
   "cell_type": "code",
   "execution_count": 121,
   "id": "6e436aa1",
   "metadata": {},
   "outputs": [
    {
     "data": {
      "text/html": [
       "<div>\n",
       "<style scoped>\n",
       "    .dataframe tbody tr th:only-of-type {\n",
       "        vertical-align: middle;\n",
       "    }\n",
       "\n",
       "    .dataframe tbody tr th {\n",
       "        vertical-align: top;\n",
       "    }\n",
       "\n",
       "    .dataframe thead th {\n",
       "        text-align: right;\n",
       "    }\n",
       "</style>\n",
       "<table border=\"1\" class=\"dataframe\">\n",
       "  <thead>\n",
       "    <tr style=\"text-align: right;\">\n",
       "      <th></th>\n",
       "      <th>0</th>\n",
       "      <th>1</th>\n",
       "      <th>2</th>\n",
       "      <th>3</th>\n",
       "    </tr>\n",
       "  </thead>\n",
       "  <tbody>\n",
       "    <tr>\n",
       "      <th>0</th>\n",
       "      <td>0</td>\n",
       "      <td>1</td>\n",
       "      <td>2</td>\n",
       "      <td>3</td>\n",
       "    </tr>\n",
       "    <tr>\n",
       "      <th>1</th>\n",
       "      <td>4</td>\n",
       "      <td>5</td>\n",
       "      <td>6</td>\n",
       "      <td>7</td>\n",
       "    </tr>\n",
       "    <tr>\n",
       "      <th>2</th>\n",
       "      <td>8</td>\n",
       "      <td>9</td>\n",
       "      <td>10</td>\n",
       "      <td>11</td>\n",
       "    </tr>\n",
       "    <tr>\n",
       "      <th>3</th>\n",
       "      <td>12</td>\n",
       "      <td>13</td>\n",
       "      <td>14</td>\n",
       "      <td>15</td>\n",
       "    </tr>\n",
       "    <tr>\n",
       "      <th>4</th>\n",
       "      <td>16</td>\n",
       "      <td>17</td>\n",
       "      <td>18</td>\n",
       "      <td>19</td>\n",
       "    </tr>\n",
       "    <tr>\n",
       "      <th>5</th>\n",
       "      <td>20</td>\n",
       "      <td>21</td>\n",
       "      <td>22</td>\n",
       "      <td>23</td>\n",
       "    </tr>\n",
       "  </tbody>\n",
       "</table>\n",
       "</div>"
      ],
      "text/plain": [
       "    0   1   2   3\n",
       "0   0   1   2   3\n",
       "1   4   5   6   7\n",
       "2   8   9  10  11\n",
       "3  12  13  14  15\n",
       "4  16  17  18  19\n",
       "5  20  21  22  23"
      ]
     },
     "execution_count": 121,
     "metadata": {},
     "output_type": "execute_result"
    }
   ],
   "source": [
    "# 배열을 데이터프레임으로 전환 (데이터프레임을 생성하면 된다)\n",
    "import pandas as pd\n",
    "df = pd.DataFrame(x)\n",
    "df"
   ]
  },
  {
   "cell_type": "markdown",
   "id": "7c79e6cd",
   "metadata": {},
   "source": [
    "## 데이터프레임에서 배열 추출\n",
    "- 데이터프레임의 내용(수치 값)만 추출하여 배열을 만들려면 values를 사용한다"
   ]
  },
  {
   "cell_type": "code",
   "execution_count": 122,
   "id": "1297e3d2",
   "metadata": {
    "scrolled": true
   },
   "outputs": [
    {
     "data": {
      "text/plain": [
       "array([[ 0,  1,  2,  3],\n",
       "       [ 4,  5,  6,  7],\n",
       "       [ 8,  9, 10, 11],\n",
       "       [12, 13, 14, 15],\n",
       "       [16, 17, 18, 19],\n",
       "       [20, 21, 22, 23]])"
      ]
     },
     "execution_count": 122,
     "metadata": {},
     "output_type": "execute_result"
    }
   ],
   "source": [
    "df.values"
   ]
  }
 ],
 "metadata": {
  "kernelspec": {
   "display_name": "Python 3",
   "language": "python",
   "name": "python3"
  },
  "language_info": {
   "codemirror_mode": {
    "name": "ipython",
    "version": 3
   },
   "file_extension": ".py",
   "mimetype": "text/x-python",
   "name": "python",
   "nbconvert_exporter": "python",
   "pygments_lexer": "ipython3",
   "version": "3.8.8"
  }
 },
 "nbformat": 4,
 "nbformat_minor": 5
}
